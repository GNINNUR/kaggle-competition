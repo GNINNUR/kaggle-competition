{
 "cells": [
  {
   "cell_type": "markdown",
   "metadata": {},
   "source": [
    "<h1 id=\"tocheading\">Table of Contents</h1>\n",
    "<div id=\"toc\"></div>"
   ]
  },
  {
   "cell_type": "code",
   "execution_count": 2,
   "metadata": {
    "collapsed": false
   },
   "outputs": [
    {
     "data": {
      "application/javascript": [
       "$.getScript('https://kmahelona.github.io/ipython_notebook_goodies/ipython_notebook_toc.js')"
      ],
      "text/plain": [
       "<IPython.core.display.Javascript object>"
      ]
     },
     "metadata": {},
     "output_type": "display_data"
    }
   ],
   "source": [
    "%%javascript\n",
    "$.getScript('https://kmahelona.github.io/ipython_notebook_goodies/ipython_notebook_toc.js')"
   ]
  },
  {
   "cell_type": "code",
   "execution_count": 2,
   "metadata": {
    "collapsed": true
   },
   "outputs": [],
   "source": [
    "# Kaggle Project: Dstl Satellite Imagery Feature Detection\n",
    "# Name: Jianlei(John) Sun\n",
    "# Beginning Date: January 21, 2017"
   ]
  },
  {
   "cell_type": "code",
   "execution_count": 3,
   "metadata": {
    "collapsed": false
   },
   "outputs": [],
   "source": [
    "from collections import defaultdict\n",
    "import csv\n",
    "import sys\n",
    "import time\n",
    "\n",
    "import cv2\n",
    "from shapely.geometry import MultiPolygon, Polygon\n",
    "## conda install shapely\n",
    "import shapely.wkt\n",
    "import shapely.affinity\n",
    "import numpy as np\n",
    "import tifffile as tiff\n",
    "## pip install tifffile\n",
    "import pandas as pd\n",
    "\n",
    "from shapely.wkt import loads as wkt_loads\n",
    "from matplotlib.patches import Patch\n",
    "# from matplotlib.patches import Polygon, Patch\n",
    "\n",
    "# decartes package makes plotting with holes much easier\n",
    "from descartes.patch import PolygonPatch\n",
    "## pip install descartes\n",
    "\n",
    "import matplotlib.pyplot as plt\n",
    "import tifffile as tiff\n",
    "%matplotlib inline \n",
    "\n",
    "from sklearn.linear_model import SGDClassifier, RidgeClassifier, LogisticRegression\n",
    "from sklearn.ensemble import RandomForestClassifier\n",
    "from sklearn.preprocessing import StandardScaler\n",
    "from sklearn.pipeline import make_pipeline\n",
    "from sklearn.model_selection import cross_val_predict\n",
    "from sklearn.metrics import average_precision_score, roc_auc_score\n",
    "from sklearn.externals import joblib\n",
    "\n",
    "import xgboost as xgb\n",
    "## http://xgboost.readthedocs.io/en/latest/build.html\n",
    "\n",
    "from IPython.core.debugger import Tracer"
   ]
  },
  {
   "cell_type": "markdown",
   "metadata": {},
   "source": [
    "# Functions"
   ]
  },
  {
   "cell_type": "code",
   "execution_count": 4,
   "metadata": {
    "collapsed": false
   },
   "outputs": [],
   "source": [
    "## Adapted based on Konstantin Lopuhin's Kaggle script:\n",
    "## https://www.kaggle.com/lopuhin/dstl-satellite-imagery-feature-detection/full-pipeline-demo-poly-pixels-ml-poly/discussion\n",
    "\n",
    "\n",
    "## Define classes and corresponding colours - for plotting\n",
    "CLASSES = {\n",
    "        1 : 'Buildings',\n",
    "        2 : 'Misc',\n",
    "        3 : 'Road',\n",
    "        4 : 'Track',\n",
    "        5 : 'Trees',\n",
    "        6 : 'Crops',\n",
    "        7 : 'Waterway',\n",
    "        8 : 'Standing water',\n",
    "        9 : 'Vehicle Large',\n",
    "        10 : 'Vehicle Small',\n",
    "        }\n",
    "\n",
    "COLORS = {\n",
    "        1 : '0.7',\n",
    "        2 : '0.4',\n",
    "        3 : '#b35806',\n",
    "        4 : '#dfc27d',\n",
    "        5 : '#1b7837',\n",
    "        6 : '#a6dba0',\n",
    "        7 : '#74add1',\n",
    "        8 : '#4575b4',\n",
    "        9 : '#f46d43',\n",
    "        10: '#d73027',\n",
    "        }\n",
    "ZORDER = {\n",
    "        1 : 5,\n",
    "        2 : 5,\n",
    "        3 : 4,\n",
    "        4 : 1,\n",
    "        5 : 3,\n",
    "        6 : 2,\n",
    "        7 : 7,\n",
    "        8 : 8,\n",
    "        9 : 9,\n",
    "        10: 10,\n",
    "        }    \n",
    "\n",
    "## Load training polygons\n",
    "train_wkt = pd.read_csv('./train_wkt_v4.csv')\n",
    "\n",
    "## Load sample submission\n",
    "sample_submission = pd.read_csv('./sample_submission.csv')\n",
    "\n",
    "## Load grid size\n",
    "grid_sizes = pd.read_csv('./grid_sizes.csv')\n",
    "grid_sizes.columns = ['ImageId','Xmax','Ymin']\n",
    "\n",
    "def get_scalers(image_size, x_max, y_min):\n",
    "# To provide scalers that will be used to scale predicted polygons    \n",
    "    \n",
    "    h, w = image_size  # they are flipped so that mask_for_polygons works correctly\n",
    "    w_ = w * (w / (w + 1))\n",
    "    h_ = h * (h / (h + 1))\n",
    "    return w_ / x_max, h_ / y_min\n",
    "\n",
    "\n",
    "## Convert polygons to mask\n",
    "def mask_for_polygons(polygons, image_size):\n",
    "    image_mask = np.zeros(image_size, np.uint8)\n",
    "    if not polygons:\n",
    "        return image_mask\n",
    "    int_coords = lambda x: np.array(x).round().astype(np.int32)\n",
    "    exteriors = [int_coords(poly.exterior.coords) for poly in polygons]\n",
    "    interiors = [int_coords(pi.coords) for poly in polygons\n",
    "                 for pi in poly.interiors]\n",
    "    cv2.fillPoly(image_mask, exteriors, 1)\n",
    "    cv2.fillPoly(image_mask, interiors, 0)\n",
    "    return image_mask\n",
    "\n",
    "# scale \"M\" and \"A\" to \"P\" images\n",
    "def func_feature_scale(imageName, numRows, numCols):\n",
    "    \n",
    "    data = tiff.imread(imageName)\n",
    "    data = data.transpose([1, 2, 0])\n",
    "    nr, nc, nlayer = data.shape[0], data.shape[1], data.shape[2]\n",
    "    out = np.zeros(shape = (numRows, numCols, nlayer), dtype='uint16')\n",
    "    \n",
    "    for i in range(nlayer):\n",
    "        \n",
    "        dataArray = data[:,:,i]\n",
    "        rowRatio = round(numRows/nr) \n",
    "        colRatio = round(numCols/nc)\n",
    "        for j in range(nr-1):\n",
    "            for k in range(nc-1):\n",
    "                out[j*rowRatio:(j+1)*rowRatio, k*colRatio:(k+1)*colRatio, i] = dataArray[j,k]\n",
    "                \n",
    "        # for j == nr-1 & k < nc-1\n",
    "        for k in range(nc-1):\n",
    "            out[(nr-1)*rowRatio:, k*colRatio:(k+1)*colRatio, i] = dataArray[nr-1,k]\n",
    "            \n",
    "        # for k == nc-1 & j < nr-1\n",
    "        for j in range(nr-1):\n",
    "            out[j*rowRatio:(j+1)*rowRatio, (nc-1)*colRatio:, i] = dataArray[j,nc-1]\n",
    "            \n",
    "        # for k == nc-1 & j == nr-1\n",
    "        out[(nr-1)*rowRatio:,(nc-1)*colRatio:,i] = dataArray[-1, -1]\n",
    "        \n",
    "    return out\n",
    "\n",
    "## Convert image to training data: X and y\n",
    "def image_to_train(image_id, class_type, image_type ='3'):\n",
    "    \n",
    "    # Read \"M\" + \"A\" + \"P\" bands or \"RGB\" band\n",
    "    if image_type =='3':\n",
    "        image = tiff.imread('./three_band/{}.tif'.format(image_id)).transpose([1, 2, 0])\n",
    "        X = image.reshape(-1, 3).astype(np.float32) \n",
    "        image_size = image.shape[:2]\n",
    "    else:\n",
    "        X_P = tiff.imread('./sixteen_band/{}_P.tif'.format(image_id))\n",
    "        nomRow = X_P.shape[0]\n",
    "        nomCol = X_P.shape[1]\n",
    "        \n",
    "#        Tracer()()\n",
    "        imageMP = func_feature_scale('./sixteen_band/{}_M.tif'.format(image_id), nomRow, nomCol)\n",
    "        X_M = imageMP.reshape(-1, 8).astype(np.float32) \n",
    "\n",
    "        imageAP = func_feature_scale('./sixteen_band/{}_A.tif'.format(image_id), nomRow, nomCol)\n",
    "        X_A = imageAP.reshape(-1, 8).astype(np.float32)    \n",
    "        \n",
    "        X_P = X_P.reshape(-1, 1).astype(np.float32)    \n",
    "        X = np.hstack((X_A, X_M, X_P))  \n",
    "        image_size = [nomRow, nomCol]\n",
    "    \n",
    "    # Get grid size: x_max and y_min\n",
    "    x_max = grid_sizes[grid_sizes['ImageId']==image_id].Xmax.values[0]\n",
    "    y_min = grid_sizes[grid_sizes['ImageId']==image_id].Ymin.values[0]\n",
    "    \n",
    "    # Load train poly with shapely\n",
    "    train_polygons = shapely.wkt.loads(train_wkt[(train_wkt['ImageId']==image_id) & \n",
    "                                                (train_wkt['ClassType']==class_type)].MultipolygonWKT.values[0])\n",
    "    # Scale polygons\n",
    "    x_scaler, y_scaler = get_scalers(image_size, x_max, y_min)\n",
    "    train_polygons_scaled = shapely.affinity.scale(train_polygons,\n",
    "                                                   xfact=x_scaler,\n",
    "                                                   yfact=y_scaler,\n",
    "                                                   origin=(0, 0, 0))\n",
    "    train_mask = mask_for_polygons(train_polygons_scaled, image_size)\n",
    "    y = train_mask.reshape(-1)    \n",
    "\n",
    "    return X, y, train_polygons\n",
    "\n",
    "def mask_to_polygons(mask, epsilon=10., min_area=10.):\n",
    "    # first, find contours with cv2: it's much faster than shapely\n",
    "    image, contours, hierarchy = cv2.findContours(\n",
    "        ((mask == 1) * 255).astype(np.uint8),\n",
    "        cv2.RETR_CCOMP, cv2.CHAIN_APPROX_TC89_KCOS)\n",
    "    # create approximate contours to have reasonable submission size\n",
    "    # epsilon:  maximum distance from contour to approximated contour\n",
    "    approx_contours = [cv2.approxPolyDP(cnt, epsilon, True)\n",
    "                       for cnt in contours]\n",
    "    if not contours:\n",
    "        return MultiPolygon()\n",
    "    # now messy stuff to associate parent and child contours\n",
    "    cnt_children = defaultdict(list)\n",
    "    child_contours = set()\n",
    "    assert hierarchy.shape[0] == 1\n",
    "    # http://docs.opencv.org/3.1.0/d9/d8b/tutorial_py_contours_hierarchy.html\n",
    "    for idx, (_, _, _, parent_idx) in enumerate(hierarchy[0]):\n",
    "        if parent_idx != -1:\n",
    "            child_contours.add(idx)\n",
    "            cnt_children[parent_idx].append(approx_contours[idx])\n",
    "    # create actual polygons filtering by area (removes artifacts)\n",
    "    all_polygons = []\n",
    "    for idx, cnt in enumerate(approx_contours):\n",
    "        if idx not in child_contours and cv2.contourArea(cnt) >= min_area:\n",
    "            assert cnt.shape[1] == 1\n",
    "            poly = Polygon(\n",
    "                shell=cnt[:, 0, :],\n",
    "                holes=[c[:, 0, :] for c in cnt_children.get(idx, [])\n",
    "                       if cv2.contourArea(c) >= min_area])\n",
    "            all_polygons.append(poly)\n",
    "    # approximating polygons might have created invalid ones, fix them\n",
    "    all_polygons = MultiPolygon(all_polygons)\n",
    "    if not all_polygons.is_valid:\n",
    "        all_polygons = all_polygons.buffer(0)\n",
    "        # Sometimes buffer() converts a simple Multipolygon to just a Polygon,\n",
    "        # need to keep it a Multi throughout\n",
    "        if all_polygons.type == 'Polygon':\n",
    "            all_polygons = MultiPolygon([all_polygons])\n",
    "    return all_polygons\n",
    "\n",
    "\n",
    "def image_to_test(image_id, image_type='3'):\n",
    "    if image_type =='3':\n",
    "        image = tiff.imread('./three_band/{}.tif'.format(image_id)).transpose([1, 2, 0])\n",
    "        image_shape = image.shape[0:2]\n",
    "        X = image.reshape(-1, 3).astype(np.float32)\n",
    "    else:\n",
    "        X_P = tiff.imread('./sixteen_band/{}_P.tif'.format(image_id))\n",
    "        nomRow = X_P.shape[0]\n",
    "        nomCol = X_P.shape[1]\n",
    "        \n",
    "        imageMP = func_feature_scale('./sixteen_band/{}_M.tif'.format(image_id), nomRow, nomCol)\n",
    "        X_M = imageMP.reshape(-1, 8).astype(np.float32) \n",
    "\n",
    "        imageAP = func_feature_scale('./sixteen_band/{}_A.tif'.format(image_id), nomRow, nomCol)\n",
    "        X_A = imageAP.reshape(-1, 8).astype(np.float32)    \n",
    "        \n",
    "        X_P = X_P.reshape(-1, 1).astype(np.float32)    \n",
    "        X = np.hstack((X_A, X_M, X_P))  \n",
    "        image_shape = [nomRow, nomCol]\n",
    "        \n",
    "    return X, image_shape\n",
    "\n",
    "\n",
    "## Load/ merge/ convert training images into a single table\n",
    "def load_train_pixels(class_type, image_type = '3', val_ids = None):\n",
    "    start = time.time()\n",
    "    \n",
    "    image_ids = train_wkt[(train_wkt['ClassType']==class_type) \n",
    "          & (train_wkt['MultipolygonWKT']!='MULTIPOLYGON EMPTY')].ImageId.unique().tolist()\n",
    "    train_x = np.array([])\n",
    "    train_y = np.array([])\n",
    "    if len(val_ids): ## peserved image ids for validation \n",
    "        for i in val_ids:\n",
    "            image_ids.remove(i)\n",
    "    print (len(image_ids),image_ids)\n",
    "    \n",
    "    print (\"Loading data for class type %d\" % (class_type))\n",
    "    \n",
    "    for image_id in image_ids:\n",
    "        x, y, p = image_to_train(image_id, class_type, image_type)\n",
    "        if image_type == 'withLabel':\n",
    "            x = x[y == 1]\n",
    "            y = y[y == 1]\n",
    "        elif image_type == 'withoutLabel': \n",
    "            x = x[y == 0]\n",
    "            y = y[y == 0]   \n",
    "            \n",
    "        if len(train_x)==0:  ## initialize train_x\n",
    "            train_x = x\n",
    "        else:                ## append new image to train_x\n",
    "            train_x = np.vstack((train_x,x))\n",
    "\n",
    "        if len(train_y)==0:  ## initialize train_y with x\n",
    "            train_y = y\n",
    "        else:                ## append new data to train_y\n",
    "            train_y = np.hstack((train_y,y))\n",
    "        \n",
    "    print (\"Data loaded in %d seconds.\" % (time.time() - start), train_x.shape, train_y.shape)\n",
    "    \n",
    "    return train_x, train_y  \n",
    "\n",
    "def train_class(X, y, class_type, n_jobs=-1):\n",
    "    pipeline = make_pipeline(StandardScaler(), SGDClassifier(loss='log', n_jobs=n_jobs))\n",
    "#     pipeline = make_pipeline(StandardScaler(), LogisticRegression(n_jobs=n_jobs))\n",
    "    start = time.time()\n",
    "    print('training...')\n",
    "    pipeline.fit(X, y)\n",
    "    print('training finished in %d seconds' % (time.time()-start))\n",
    "    return pipeline\n",
    "\n",
    "def train_pixel_models(class_types):\n",
    "    clfs = dict()\n",
    "    for class_type in class_types:\n",
    "        print (class_type, class_types[class_type])\n",
    "        train_x, train_y = load_train_pixels(class_type=class_type, image_type='3')    \n",
    "        clfs[class_type] = train_class(train_x, train_y, class_type=class_type, n_jobs=-1)\n",
    "    return clfs\n",
    "\n",
    "\n",
    "def predict_class(image_id, clf, threshold = 0.05, image_type = '3', epsilon = 10., min_area = 10.):\n",
    "    ## Get test data\n",
    "    test_x, test_image_shape = image_to_test(image_id, image_type)\n",
    "    ## Make predictions\n",
    "#     print (\"Predicting....\")\n",
    "    pred_y = clf.predict_proba(test_x)[:, 1]\n",
    "\n",
    "    ## Convert predictions to mask\n",
    "    pred_mask = pred_y.reshape(test_image_shape)\n",
    "#     pred_mask.shape\n",
    "\n",
    "    ## Convert mask to polygonsx\n",
    "    pred_mask = pred_mask >= threshold\n",
    "    pred_polygons = mask_to_polygons(pred_mask, epsilon = 10., min_area = 10.)\n",
    "    pred_poly_mask = mask_for_polygons(pred_polygons,test_image_shape)\n",
    "\n",
    "    ## Scale polygons based on image's grid size\n",
    "    test_x_max = grid_sizes[grid_sizes['ImageId']==image_id].Xmax.values[0]\n",
    "    test_y_min = grid_sizes[grid_sizes['ImageId']==image_id].Ymin.values[0]    \n",
    "\n",
    "    test_x_scaler, test_y_scaler = get_scalers(test_image_shape, test_x_max, test_y_min)\n",
    "\n",
    "    scaled_pred_polygons = shapely.affinity.scale(\n",
    "        pred_polygons, xfact=1 / test_x_scaler, yfact=1 / test_y_scaler, origin=(0, 0, 0))\n",
    "\n",
    "    ## Convert polygons to WKT format\n",
    "    pred_wkt = shapely.wkt.dumps(scaled_pred_polygons)\n",
    "    # print (scaled_pred_polygons,shapely.wkt.dumps(scaled_pred_polygons))\n",
    "    pred_polygons = shapely.wkt.loads(pred_wkt)\n",
    "    return pred_y, pred_wkt, pred_polygons\n",
    "\n",
    "\n",
    "def get_train_polygons(image_id,classes = CLASSES):\n",
    "    train_wkt = pd.read_csv('./train_wkt_v4.csv')\n",
    "    WKTs = train_wkt[train_wkt.ImageId == image_id]\n",
    "    polygonsList = {}\n",
    "    for cType in classes.keys():\n",
    "        polygonsList[cType] = wkt_loads(WKTs[WKTs.ClassType == cType].MultipolygonWKT.values[0])\n",
    "    return polygonsList\n",
    "\n",
    "\n",
    "def plot_polygons(polygonsList, image_id, figsize=(10, 10)):\n",
    "    '''\n",
    "    Plot descrates.PolygonPatch from list of polygons objs for each CLASS\n",
    "    '''\n",
    "    legend_patches = []\n",
    "    fig, axArr = plt.subplots(figsize=figsize)\n",
    "    ax = axArr\n",
    "    for cType in polygonsList:\n",
    "#         print('{} : {} \\tcount = {}'.format(cType, CLASSES[cType], len(polygonsList[cType])))\n",
    "        legend_patches.append(Patch(color=COLORS[cType],\n",
    "                                    label='{} ({})'.format(CLASSES[cType], len(polygonsList[cType]))))\n",
    "        for polygon in polygonsList[cType]:\n",
    "            mpl_poly = PolygonPatch(polygon,\n",
    "                                    color=COLORS[cType],\n",
    "                                    lw=0,\n",
    "                                    alpha=0.7,\n",
    "                                    zorder=ZORDER[cType])\n",
    "            ax.add_patch(mpl_poly)\n",
    "    # ax.relim()\n",
    "    ax.autoscale_view()\n",
    "    ax.set_title('Objects')\n",
    "    ax.set_xticks([])\n",
    "    ax.set_yticks([])\n",
    "    ax.legend(handles=legend_patches,\n",
    "#            loc='upper left',\n",
    "           bbox_to_anchor=(0.9, 1),\n",
    "           bbox_transform=plt.gcf().transFigure,\n",
    "           ncol=5,\n",
    "           fontsize='x-small',\n",
    "           title='Objects-' + image_id,\n",
    "           # mode=\"expand\",\n",
    "           framealpha=0.3)\n",
    "    #return legend_patches\n",
    "\n",
    "# Give short names, sensible colors and zorders to object types\n",
    "\n",
    "def unique_rows(data):\n",
    "    uniq = np.unique(data.view(data.dtype.descr * data.shape[1]))\n",
    "    return uniq.view(data.dtype).reshape(-1, data.shape[1])\n"
   ]
  },
  {
   "cell_type": "markdown",
   "metadata": {},
   "source": [
    "# Train Each ClassType\n"
   ]
  },
  {
   "cell_type": "code",
   "execution_count": 5,
   "metadata": {
    "collapsed": false
   },
   "outputs": [
    {
     "data": {
      "text/plain": [
       "{1: 'Buildings',\n",
       " 2: 'Misc',\n",
       " 3: 'Road',\n",
       " 4: 'Track',\n",
       " 5: 'Trees',\n",
       " 6: 'Crops',\n",
       " 7: 'Waterway',\n",
       " 8: 'Standing water',\n",
       " 9: 'Vehicle Large',\n",
       " 10: 'Vehicle Small'}"
      ]
     },
     "execution_count": 5,
     "metadata": {},
     "output_type": "execute_result"
    }
   ],
   "source": [
    "CLASSES"
   ]
  },
  {
   "cell_type": "markdown",
   "metadata": {},
   "source": [
    "## 1_Buildings"
   ]
  },
  {
   "cell_type": "code",
   "execution_count": 8,
   "metadata": {
    "collapsed": false
   },
   "outputs": [
    {
     "name": "stdout",
     "output_type": "stream",
     "text": [
      "12 ['6120_2_2', '6120_2_0', '6100_1_3', '6110_4_0', '6140_3_1', '6110_1_2', '6100_2_3', '6140_1_2', '6110_3_1', '6060_2_3', '6070_2_3', '6100_2_2']\n",
      "Loading data for class type 1\n",
      "Data loaded in 91 seconds. (10048655, 17) (10048655,)\n",
      "4 ['6120_2_2', '6100_1_3', '6110_1_2', '6140_1_2']\n",
      "Loading data for class type 1\n",
      "Data loaded in 34 seconds. (38735272, 17) (38735272,)\n",
      "Removing Duplicated Data ...\n",
      "Data loaded in 183 seconds. (31214396, 17) (31214396,)\n",
      "13 ['6120_2_0', '6090_2_0', '6110_4_0', '6140_3_1', '6100_2_3', '6150_2_3', '6110_3_1', '6170_2_4', '6170_0_4', '6060_2_3', '6070_2_3', '6010_1_2', '6100_2_2']\n",
      "Loading data for class type 2\n",
      "Data loaded in 91 seconds. (1097612, 17) (1097612,)\n",
      "Data Shape:  (42360663, 17) (42360663,)\n"
     ]
    }
   ],
   "source": [
    "class_type = 1\n",
    "\n",
    "# data with labels\n",
    "val_image_id = []\n",
    "train_x, train_y = load_train_pixels(class_type = class_type, val_ids = val_image_id, image_type = 'withLabel')\n",
    "\n",
    "# data without labels => 6100_1_3 + 6110_1_2 + 6120_2_2 + 6140_1_2\n",
    "val_image_id = ['6060_2_3', '6070_2_3', '6100_2_2', '6100_2_3', '6110_3_1', '6110_4_0', '6120_2_0', '6140_3_1']\n",
    "train_x_wl, train_y_wl = load_train_pixels(class_type = class_type, val_ids = val_image_id, image_type = 'withoutLabel')\n",
    "# remove duplicates\n",
    "print (\"Removing Duplicated Data ...\")\n",
    "start = time.time()\n",
    "t = unique_rows(np.hstack((train_x_wl, train_y_wl.reshape([-1,1]))))\n",
    "train_x_wl = t[:,:-1]\n",
    "train_y_wl = t[:,-1]\n",
    "del t\n",
    "print (\"Data loaded in %d seconds.\" % (time.time() - start), train_x_wl.shape, train_y_wl.shape)\n",
    "\n",
    "# 2_Misc data without labels =>\n",
    "val_image_id = ['6100_1_3', '6110_1_2', '6120_2_2', '6140_1_2']\n",
    "train_x_misc, train_y_misc = load_train_pixels(class_type = 2, val_ids = val_image_id, image_type = 'withLabel')\n",
    "train_y_misc = np.array([0] * len(train_y_misc))\n",
    "\n",
    "# stack the data\n",
    "train_x = np.vstack((train_x, train_x_wl, train_x_misc))\n",
    "train_y = np.hstack((train_y, train_y_wl, train_y_misc))\n",
    "\n",
    "del train_x_wl, train_y_wl, train_x_misc, train_y_misc\n",
    "print (\"Data Shape: \", train_x.shape, train_y.shape)"
   ]
  },
  {
   "cell_type": "code",
   "execution_count": 9,
   "metadata": {
    "collapsed": false
   },
   "outputs": [
    {
     "name": "stdout",
     "output_type": "stream",
     "text": [
      "training...\n",
      "training for class type 1 finishied in 862 seconds...\n",
      "Training AUC:  0.929675681844\n"
     ]
    }
   ],
   "source": [
    "class_type = 1\n",
    "\n",
    "pipeline = make_pipeline(StandardScaler(), xgb.XGBClassifier(n_estimators = 100))\n",
    "start = time.time()\n",
    "print('training...')\n",
    "pipeline.fit(train_x, train_y)\n",
    "\n",
    "clfs = joblib.load('clfs_17Bands.pkl')\n",
    "clfs[class_type] = pipeline\n",
    "joblib.dump(clfs, 'clfs_17Bands.pkl')\n",
    "\n",
    "print('training for class type %d finishied in %d seconds...' % (class_type, time.time()-start))\n",
    "        \n",
    "## Show model accuracy: Use AUC because single class is a skwed binary classfication where AUC works better.\n",
    "pred_train_y = clfs[class_type].predict_proba(train_x)[:,1]\n",
    "\n",
    "print (\"Training AUC: \", roc_auc_score(y_true = train_y, y_score = pred_train_y))"
   ]
  },
  {
   "cell_type": "code",
   "execution_count": 7,
   "metadata": {
    "collapsed": false,
    "scrolled": true
   },
   "outputs": [
    {
     "name": "stderr",
     "output_type": "stream",
     "text": [
      "Self-intersection at or near point 3047.5991379310344 3170.9181034482758\n"
     ]
    },
    {
     "name": "stdout",
     "output_type": "stream",
     "text": [
      "imageId = 6060_2_3, threshold = 0.4000, jaccard score = 0.0871, InterArea = 3.6394e-08, UnionArea = 4.1803e-07\n"
     ]
    },
    {
     "name": "stderr",
     "output_type": "stream",
     "text": [
      "Self-intersection at or near point 3327.8458781362006 140.55913978494624\n"
     ]
    },
    {
     "name": "stdout",
     "output_type": "stream",
     "text": [
      "imageId = 6070_2_3, threshold = 0.4000, jaccard score = 0.0800, InterArea = 7.2513e-07, UnionArea = 9.0686e-06\n"
     ]
    },
    {
     "name": "stderr",
     "output_type": "stream",
     "text": [
      "Self-intersection at or near point 2873.4000000000001 1947.2\n"
     ]
    },
    {
     "name": "stdout",
     "output_type": "stream",
     "text": [
      "imageId = 6100_1_3, threshold = 0.4000, jaccard score = 0.3732, InterArea = 3.5760e-06, UnionArea = 9.5828e-06\n"
     ]
    },
    {
     "name": "stderr",
     "output_type": "stream",
     "text": [
      "Self-intersection at or near point 3155.7307692307691 1540.8923076923077\n"
     ]
    },
    {
     "name": "stdout",
     "output_type": "stream",
     "text": [
      "imageId = 6100_2_2, threshold = 0.4000, jaccard score = 0.2861, InterArea = 1.3015e-06, UnionArea = 4.5496e-06\n"
     ]
    },
    {
     "name": "stderr",
     "output_type": "stream",
     "text": [
      "Self-intersection at or near point 3016.6842105263158 664.68421052631584\n"
     ]
    },
    {
     "name": "stdout",
     "output_type": "stream",
     "text": [
      "imageId = 6100_2_3, threshold = 0.4000, jaccard score = 0.4663, InterArea = 3.5906e-06, UnionArea = 7.6995e-06\n"
     ]
    },
    {
     "name": "stderr",
     "output_type": "stream",
     "text": [
      "Self-intersection at or near point 2179.8215661103977 678.80744544287552\n"
     ]
    },
    {
     "name": "stdout",
     "output_type": "stream",
     "text": [
      "imageId = 6110_1_2, threshold = 0.4000, jaccard score = 0.5289, InterArea = 7.1648e-06, UnionArea = 1.3547e-05\n"
     ]
    },
    {
     "name": "stderr",
     "output_type": "stream",
     "text": [
      "Self-intersection at or near point 2512.039076376554 1583.7140319715809\n"
     ]
    },
    {
     "name": "stdout",
     "output_type": "stream",
     "text": [
      "imageId = 6110_3_1, threshold = 0.4000, jaccard score = 0.3785, InterArea = 3.1004e-06, UnionArea = 8.1914e-06\n"
     ]
    },
    {
     "name": "stderr",
     "output_type": "stream",
     "text": [
      "Self-intersection at or near point 3314.9893292682927 43.951219512195124\n"
     ]
    },
    {
     "name": "stdout",
     "output_type": "stream",
     "text": [
      "imageId = 6110_4_0, threshold = 0.4000, jaccard score = 0.3305, InterArea = 1.6191e-06, UnionArea = 4.8982e-06\n"
     ]
    },
    {
     "name": "stderr",
     "output_type": "stream",
     "text": [
      "Self-intersection at or near point 3086.7246596066566 471.05597579425114\n"
     ]
    },
    {
     "name": "stdout",
     "output_type": "stream",
     "text": [
      "imageId = 6120_2_0, threshold = 0.4000, jaccard score = 0.2866, InterArea = 5.1865e-07, UnionArea = 1.8099e-06\n"
     ]
    },
    {
     "name": "stderr",
     "output_type": "stream",
     "text": [
      "Self-intersection at or near point 3370.8499999999999 1783\n"
     ]
    },
    {
     "name": "stdout",
     "output_type": "stream",
     "text": [
      "imageId = 6120_2_2, threshold = 0.4000, jaccard score = 0.5379, InterArea = 1.0734e-05, UnionArea = 1.9954e-05\n"
     ]
    },
    {
     "name": "stderr",
     "output_type": "stream",
     "text": [
      "Self-intersection at or near point 2069.7295423023579 1033.7683772538142\n"
     ]
    },
    {
     "name": "stdout",
     "output_type": "stream",
     "text": [
      "imageId = 6140_1_2, threshold = 0.4000, jaccard score = 0.5060, InterArea = 7.3187e-06, UnionArea = 1.4463e-05\n"
     ]
    },
    {
     "name": "stderr",
     "output_type": "stream",
     "text": [
      "Self-intersection at or near point 2608.765625 944.3125\n"
     ]
    },
    {
     "name": "stdout",
     "output_type": "stream",
     "text": [
      "imageId = 6140_3_1, threshold = 0.4000, jaccard score = 0.3513, InterArea = 3.2921e-06, UnionArea = 9.3726e-06\n",
      "Averaged Jaccard Score =  [0.41501704250496824]\n"
     ]
    }
   ],
   "source": [
    "## optimize threshold values\n",
    "\n",
    "class_type = 1\n",
    "\n",
    "clfs = joblib.load('clfs_17Bands.pkl')\n",
    "\n",
    "val_image_id = train_wkt[(train_wkt['ClassType']==class_type) \n",
    "          & (train_wkt['MultipolygonWKT']!='MULTIPOLYGON EMPTY')].ImageId.unique().tolist()\n",
    "val_image_id = sorted(val_image_id)\n",
    "\n",
    "#threshold = [0.35, 0.38, 0.39, 0.4, 0.45]\n",
    "#[0.3920642614756121, 0.39339047290520235, 0.39356247325909904, 0.41501704250496824, 0.4070869945909983]\n",
    "threshold = [0.40]\n",
    "\n",
    "jaccard_list = []\n",
    "for i in threshold:\n",
    "    areaInter = 0\n",
    "    areaUnion = 0\n",
    "    for j in range(len(val_image_id)):\n",
    "        # prepare validaiton data\n",
    "        val_x, val_y, val_p = image_to_train(image_id = val_image_id[j], \n",
    "                                             class_type = class_type, image_type = 'withLabel')\n",
    "\n",
    "        # Plot original validation polygons\n",
    "        # plot_polygons(image_id = val_image_id[j], polygonsList = {class_type:val_p}, figsize=(5,5))\n",
    "\n",
    "        # Plot predicted validation polygons - how well the model generaalizes\n",
    "        pred_val_y, pred_val_wkt, pred_val_p = predict_class(clf = clfs[class_type], image_id = val_image_id[j], \n",
    "                                                             threshold = i, image_type = 'withLabel')\n",
    "        # plot_polygons(image_id = val_image_id[j], polygonsList = {class_type:pred_val_p}, figsize=(5,5))\n",
    "         \n",
    "        print('imageId = {:^8}, threshold = {:.4f}, jaccard score = {:.4f}, InterArea = {:.4e}, UnionArea = {:.4e}'\n",
    "              .format(val_image_id[j], i, pred_val_p.intersection(val_p).area / pred_val_p.union(val_p).area, \n",
    "                pred_val_p.intersection(val_p).area, pred_val_p.union(val_p).area))\n",
    "                \n",
    "        areaInter += pred_val_p.intersection(val_p).area \n",
    "        areaUnion += pred_val_p.union(val_p).area\n",
    "        \n",
    "    jaccard_list.append(areaInter/areaUnion)\n",
    "    \n",
    "print('Averaged Jaccard Score = ', jaccard_list)  \n"
   ]
  },
  {
   "cell_type": "markdown",
   "metadata": {},
   "source": [
    "## 2_Misc"
   ]
  },
  {
   "cell_type": "code",
   "execution_count": 7,
   "metadata": {
    "collapsed": false
   },
   "outputs": [
    {
     "name": "stdout",
     "output_type": "stream",
     "text": [
      "17 ['6120_2_2', '6120_2_0', '6090_2_0', '6100_1_3', '6110_4_0', '6140_3_1', '6110_1_2', '6100_2_3', '6150_2_3', '6140_1_2', '6110_3_1', '6170_2_4', '6170_0_4', '6060_2_3', '6070_2_3', '6010_1_2', '6100_2_2']\n",
      "Loading data for class type 2\n",
      "Data loaded in 140 seconds. (2580620, 17) (2580620,)\n",
      "4 ['6120_2_2', '6100_1_3', '6110_1_2', '6140_1_2']\n",
      "Loading data for class type 2\n",
      "Data loaded in 43 seconds. (44002920, 17) (44002920,)\n",
      "Removing Duplicated Data ...\n",
      "Data loaded in 216 seconds. (35473394, 17) (35473394,)\n",
      "8 ['6120_2_0', '6110_4_0', '6140_3_1', '6100_2_3', '6110_3_1', '6060_2_3', '6070_2_3', '6100_2_2']\n",
      "Loading data for class type 1\n",
      "Data loaded in 64 seconds. (3297999, 17) (3297999,)\n",
      "Data Shape:  (41352013, 17) (41352013,)\n"
     ]
    }
   ],
   "source": [
    "class_type = 2\n",
    "\n",
    "# data with labels\n",
    "val_image_id = []\n",
    "train_x, train_y = load_train_pixels(class_type = class_type, val_ids = val_image_id, image_type = 'withLabel')\n",
    "\n",
    "# data without labels => 6100_1_3 + 6110_1_2 + 6120_2_2 + 6140_1_2\n",
    "val_image_id = ['6010_1_2', '6060_2_3', '6070_2_3', '6090_2_0', '6100_2_2', '6100_2_3', '6110_3_1', \n",
    "                '6110_4_0', '6120_2_0', '6140_3_1', '6150_2_3', '6170_0_4', '6170_2_4']\n",
    "train_x_wl, train_y_wl = load_train_pixels(class_type = class_type, val_ids = val_image_id, image_type = 'withoutLabel')\n",
    "# remove duplicates\n",
    "print (\"Removing Duplicated Data ...\")\n",
    "start = time.time()\n",
    "t = unique_rows(np.hstack((train_x_wl, train_y_wl.reshape([-1,1]))))\n",
    "train_x_wl = t[:,:-1]\n",
    "train_y_wl = t[:,-1]\n",
    "del t\n",
    "print (\"Data loaded in %d seconds.\" % (time.time() - start), train_x_wl.shape, train_y_wl.shape)\n",
    "\n",
    "# 1_building data without labels =>\n",
    "val_image_id = ['6120_2_2', '6100_1_3', '6110_1_2', '6140_1_2']\n",
    "train_x_building, train_y_building = load_train_pixels(class_type = 1, val_ids = val_image_id, image_type = 'withLabel')\n",
    "train_y_building = np.array([0] * len(train_y_building))\n",
    "\n",
    "# stack the data\n",
    "train_x = np.vstack((train_x, train_x_wl, train_x_building))\n",
    "train_y = np.hstack((train_y, train_y_wl, train_y_building))\n",
    "\n",
    "del train_x_wl, train_y_wl, train_x_building, train_y_building\n",
    "print (\"Data Shape: \", train_x.shape, train_y.shape)"
   ]
  },
  {
   "cell_type": "code",
   "execution_count": 8,
   "metadata": {
    "collapsed": false
   },
   "outputs": [
    {
     "name": "stdout",
     "output_type": "stream",
     "text": [
      "training...\n",
      "training for class type 2 finishied in 2462 seconds...\n",
      "Training AUC:  0.843498943891\n"
     ]
    }
   ],
   "source": [
    "class_type = 2\n",
    "\n",
    "pipeline = make_pipeline(StandardScaler(), xgb.XGBClassifier(n_estimators = 200, max_depth = 6, \n",
    "                                                             subsample = 0.8, colsample_bytree = 0.8))\n",
    "start = time.time()\n",
    "print('training...')\n",
    "pipeline.fit(train_x, train_y)\n",
    "\n",
    "clfs = joblib.load('clfs_17Bands.pkl')\n",
    "clfs[class_type] = pipeline\n",
    "joblib.dump(clfs, 'clfs_17Bands.pkl')\n",
    "\n",
    "print('training for class type %d finishied in %d seconds...' % (class_type, time.time()-start))\n",
    "        \n",
    "## Show model accuracy: Use AUC because single class is a skwed binary classfication where AUC works better.\n",
    "pred_train_y = clfs[class_type].predict_proba(train_x)[:,1]\n",
    "\n",
    "print (\"Training AUC: \", roc_auc_score(y_true = train_y, y_score = pred_train_y))"
   ]
  },
  {
   "cell_type": "code",
   "execution_count": 9,
   "metadata": {
    "collapsed": false,
    "scrolled": true
   },
   "outputs": [
    {
     "name": "stderr",
     "output_type": "stream",
     "text": [
      "Self-intersection at or near point 2139.9495548961422 44.468842729970326\n",
      "Ring Self-intersection at or near point 0.0088730000000000007 -0.005816\n"
     ]
    },
    {
     "name": "stdout",
     "output_type": "stream",
     "text": [
      "Validation Area 5.41695000e-08 => 5.41695000e-08\n",
      "imageId = 6010_1_2, threshold = 0.0700, jaccard score = 0.0007, InterArea = 5.4170e-08, UnionArea = 8.2529e-05\n"
     ]
    },
    {
     "name": "stderr",
     "output_type": "stream",
     "text": [
      "Self-intersection at or near point 3068.3333333333335 3174\n"
     ]
    },
    {
     "name": "stdout",
     "output_type": "stream",
     "text": [
      "Validation Area 2.52385698e-07 => 2.52387114e-07\n",
      "imageId = 6060_2_3, threshold = 0.0700, jaccard score = 0.0031, InterArea = 2.5203e-07, UnionArea = 8.1640e-05\n"
     ]
    },
    {
     "name": "stderr",
     "output_type": "stream",
     "text": [
      "Self-intersection at or near point 3268.8240963855424 2733.4987951807229\n",
      "Self-intersection at or near point 0.0077710418058940288 -0.0089950524081099416\n"
     ]
    },
    {
     "name": "stdout",
     "output_type": "stream",
     "text": [
      "Validation Area 2.50966668e-07 => 2.50968495e-07\n",
      "imageId = 6070_2_3, threshold = 0.0700, jaccard score = 0.0029, InterArea = 2.1931e-07, UnionArea = 7.4518e-05\n"
     ]
    },
    {
     "name": "stderr",
     "output_type": "stream",
     "text": [
      "Self-intersection at or near point 3055.3033033033034 3027.996996996997\n"
     ]
    },
    {
     "name": "stdout",
     "output_type": "stream",
     "text": [
      "Validation Area 2.84457489e-08 => 2.84457016e-08\n"
     ]
    },
    {
     "name": "stderr",
     "output_type": "stream",
     "text": [
      "Self-intersection at or near point 0.0040549100000000001 -0.0086094399999999995\n"
     ]
    },
    {
     "name": "stdout",
     "output_type": "stream",
     "text": [
      "imageId = 6090_2_0, threshold = 0.0700, jaccard score = 0.0004, InterArea = 2.8446e-08, UnionArea = 7.9248e-05\n"
     ]
    },
    {
     "name": "stderr",
     "output_type": "stream",
     "text": [
      "Self-intersection at or near point 3340.072837632777 2244.9468892261002\n",
      "Self-intersection at or near point 0.0047379778000534029 -0.0051287653021313308\n"
     ]
    },
    {
     "name": "stdout",
     "output_type": "stream",
     "text": [
      "Validation Area 2.26053172e-06 => 2.26052365e-06\n"
     ]
    },
    {
     "name": "stderr",
     "output_type": "stream",
     "text": [
      "Ring Self-intersection at or near point 0.0032950800000000001 -0.0050896700000000001\n"
     ]
    },
    {
     "name": "stdout",
     "output_type": "stream",
     "text": [
      "imageId = 6100_1_3, threshold = 0.0700, jaccard score = 0.0909, InterArea = 1.6970e-06, UnionArea = 1.8673e-05\n"
     ]
    },
    {
     "name": "stderr",
     "output_type": "stream",
     "text": [
      "Self-intersection at or near point 3312.9719101123596 918.11516853932585\n"
     ]
    },
    {
     "name": "stdout",
     "output_type": "stream",
     "text": [
      "Validation Area 6.78303088e-07 => 6.78304650e-07\n"
     ]
    },
    {
     "name": "stderr",
     "output_type": "stream",
     "text": [
      "Ring Self-intersection at or near point 0.0054882000000000004 -0.0045196500000000001\n"
     ]
    },
    {
     "name": "stdout",
     "output_type": "stream",
     "text": [
      "imageId = 6100_2_2, threshold = 0.0700, jaccard score = 0.0524, InterArea = 4.4635e-07, UnionArea = 8.5201e-06\n"
     ]
    },
    {
     "name": "stderr",
     "output_type": "stream",
     "text": [
      "Self-intersection at or near point 3336.0196078431372 50.862745098039213\n",
      "Self-intersection at or near point 0.00849500056348239 -0.0051420007751021273\n"
     ]
    },
    {
     "name": "stdout",
     "output_type": "stream",
     "text": [
      "Validation Area 1.16881727e-06 => 1.17155469e-06\n"
     ]
    },
    {
     "name": "stderr",
     "output_type": "stream",
     "text": [
      "Ring Self-intersection at or near point 0.0084778000000000006 -0.00058894999999999998\n"
     ]
    },
    {
     "name": "stdout",
     "output_type": "stream",
     "text": [
      "imageId = 6100_2_3, threshold = 0.0700, jaccard score = 0.0552, InterArea = 7.7031e-07, UnionArea = 1.3945e-05\n"
     ]
    },
    {
     "name": "stderr",
     "output_type": "stream",
     "text": [
      "Self-intersection at or near point 3373.1333333333332 1304.2666666666667\n",
      "Self-intersection at or near point 0.0033809599999999997 -0.0045389499999999999\n"
     ]
    },
    {
     "name": "stdout",
     "output_type": "stream",
     "text": [
      "Validation Area 2.37327678e-06 => 2.36132784e-06\n"
     ]
    },
    {
     "name": "stderr",
     "output_type": "stream",
     "text": [
      "Ring Self-intersection at or near point 0.0022956000000000001 -0.00134235\n"
     ]
    },
    {
     "name": "stdout",
     "output_type": "stream",
     "text": [
      "imageId = 6110_1_2, threshold = 0.0700, jaccard score = 0.0799, InterArea = 1.8253e-06, UnionArea = 2.2838e-05\n"
     ]
    },
    {
     "name": "stderr",
     "output_type": "stream",
     "text": [
      "Self-intersection at or near point 3389.6421052631581 335.92631578947368\n",
      "Self-intersection at or near point 0.00013501000000000021 -0.0062042699999999996\n"
     ]
    },
    {
     "name": "stdout",
     "output_type": "stream",
     "text": [
      "Validation Area 1.04171158e-06 => 1.04171526e-06\n",
      "imageId = 6110_3_1, threshold = 0.0700, jaccard score = 0.0381, InterArea = 8.1350e-07, UnionArea = 2.1374e-05\n"
     ]
    },
    {
     "name": "stderr",
     "output_type": "stream",
     "text": [
      "Self-intersection at or near point 3380.0526315789475 309.94736842105266\n",
      "Ring Self-intersection at or near point 0.0083160000000000005 -8.6000000000000003e-05\n"
     ]
    },
    {
     "name": "stdout",
     "output_type": "stream",
     "text": [
      "Validation Area 4.75418515e-07 => 4.75419013e-07\n",
      "imageId = 6110_4_0, threshold = 0.0700, jaccard score = 0.0207, InterArea = 3.7366e-07, UnionArea = 1.8054e-05\n"
     ]
    },
    {
     "name": "stderr",
     "output_type": "stream",
     "text": [
      "Self-intersection at or near point 3399.8858218318696 1424.1405269761606\n",
      "Self-intersection at or near point 0.0053820098504003475 -0.00035383343190488486\n"
     ]
    },
    {
     "name": "stdout",
     "output_type": "stream",
     "text": [
      "Validation Area 6.03151704e-07 => 6.03537283e-07\n",
      "imageId = 6120_2_0, threshold = 0.0700, jaccard score = 0.0233, InterArea = 5.2763e-07, UnionArea = 2.2652e-05\n"
     ]
    },
    {
     "name": "stderr",
     "output_type": "stream",
     "text": [
      "Self-intersection at or near point 3396.4000000000001 557.79999999999995\n",
      "Self-intersection at or near point 0.0051980000000000004 -0.00020599766627771296\n"
     ]
    },
    {
     "name": "stdout",
     "output_type": "stream",
     "text": [
      "Validation Area 1.69450306e-06 => 1.69512678e-06\n",
      "imageId = 6120_2_2, threshold = 0.0700, jaccard score = 0.0469, InterArea = 1.0338e-06, UnionArea = 2.2025e-05\n"
     ]
    },
    {
     "name": "stderr",
     "output_type": "stream",
     "text": [
      "Self-intersection at or near point 3355.2758620689656 1416.844827586207\n",
      "Self-intersection at or near point 0.0057256144343664789 -0.00018967766586908534\n"
     ]
    },
    {
     "name": "stdout",
     "output_type": "stream",
     "text": [
      "Validation Area 2.03099107e-06 => 2.03098735e-06\n",
      "imageId = 6140_1_2, threshold = 0.0700, jaccard score = 0.0552, InterArea = 1.6638e-06, UnionArea = 3.0158e-05\n"
     ]
    },
    {
     "name": "stderr",
     "output_type": "stream",
     "text": [
      "Self-intersection at or near point 3390.9126807563962 1851.8081201334817\n",
      "Self-intersection at or near point 0.0040721799999999999 -0.00653529\n"
     ]
    },
    {
     "name": "stdout",
     "output_type": "stream",
     "text": [
      "Validation Area 1.19004957e-06 => 1.19004105e-06\n"
     ]
    },
    {
     "name": "stderr",
     "output_type": "stream",
     "text": [
      "Ring Self-intersection at or near point 0.0042884899999999998 -0.0068795599999999998\n"
     ]
    },
    {
     "name": "stdout",
     "output_type": "stream",
     "text": [
      "imageId = 6140_3_1, threshold = 0.0700, jaccard score = 0.0362, InterArea = 9.1930e-07, UnionArea = 2.5376e-05\n"
     ]
    },
    {
     "name": "stderr",
     "output_type": "stream",
     "text": [
      "Self-intersection at or near point 3359.3155818540436 614.91321499013804\n"
     ]
    },
    {
     "name": "stdout",
     "output_type": "stream",
     "text": [
      "Validation Area 5.03241449e-07 => 5.03243397e-07\n"
     ]
    },
    {
     "name": "stderr",
     "output_type": "stream",
     "text": [
      "Self-intersection at or near point 0.0058065499999999997 -0.00067252000000000002\n"
     ]
    },
    {
     "name": "stdout",
     "output_type": "stream",
     "text": [
      "imageId = 6150_2_3, threshold = 0.0700, jaccard score = 0.0105, InterArea = 4.9120e-07, UnionArea = 4.6827e-05\n"
     ]
    },
    {
     "name": "stderr",
     "output_type": "stream",
     "text": [
      "Self-intersection at or near point 3383.9589895988115 1662.6731054977711\n"
     ]
    },
    {
     "name": "stdout",
     "output_type": "stream",
     "text": [
      "Validation Area 1.36260046e-09 => 1.36264960e-09\n",
      "imageId = 6170_0_4, threshold = 0.0700, jaccard score = 0.0000, InterArea = 1.2387e-09, UnionArea = 7.2526e-05\n"
     ]
    },
    {
     "name": "stderr",
     "output_type": "stream",
     "text": [
      "Self-intersection at or near point 3134.1851851851852 2438.8148148148148\n"
     ]
    },
    {
     "name": "stdout",
     "output_type": "stream",
     "text": [
      "Validation Area 8.78500000e-10 => 8.78500000e-10\n",
      "imageId = 6170_2_4, threshold = 0.0700, jaccard score = 0.0000, InterArea = 8.7850e-10, UnionArea = 7.7299e-05\n",
      "Averaged Jaccard Score =  [0.015480164370652309]\n"
     ]
    }
   ],
   "source": [
    "## optimize threshold values\n",
    "\n",
    "class_type = 2\n",
    "\n",
    "clfs = joblib.load('clfs_17Bands.pkl')\n",
    "\n",
    "val_image_id = train_wkt[(train_wkt['ClassType']==class_type) \n",
    "          & (train_wkt['MultipolygonWKT']!='MULTIPOLYGON EMPTY')].ImageId.unique().tolist()\n",
    "val_image_id = sorted(val_image_id)\n",
    "\n",
    "threshold = [0.07]\n",
    "\n",
    "# threshold = [0.06, 0.07, 0.08, 0.09]\n",
    "# jaccard_list = [0.018843579950017487, 0.019413928612292977, 0.01633060995452238, 0.014783841263104712]\n",
    "\n",
    "jaccard_list = []\n",
    "for i in threshold:\n",
    "    areaInter = 0\n",
    "    areaUnion = 0\n",
    "    for j in range(len(val_image_id)):\n",
    "        # prepare validaiton data\n",
    "        val_x, val_y, val_p = image_to_train(image_id = val_image_id[j], \n",
    "                                             class_type = class_type, image_type = 'withLabel')\n",
    "\n",
    "        # Plot original validation polygons\n",
    "        # plot_polygons(image_id = val_image_id[j], polygonsList = {class_type:val_p}, figsize=(5,5))\n",
    "\n",
    "        # Plot predicted validation polygons - how well the model generaalizes\n",
    "        pred_val_y, pred_val_wkt, pred_val_p = predict_class(clf = clfs[class_type], image_id = val_image_id[j], \n",
    "                                        threshold = i, image_type = 'withLabel', epsilon = 1., min_area = 10.)\n",
    "        # plot_polygons(image_id = val_image_id[j], polygonsList = {class_type:pred_val_p}, figsize=(5,5))\n",
    "        t = val_p.area\n",
    "        # handle \"Error performing intersection: TopologyException: found non-noded intersection\"\n",
    "        val_p = val_p.simplify(1e-8, preserve_topology=False) \n",
    "        val_p = shapely.wkt.dumps(val_p,rounding_precision = 8)\n",
    "        val_p = shapely.wkt.loads(val_p)\n",
    "        if not val_p.is_valid:\n",
    "            val_p = val_p.buffer(0)\n",
    "\n",
    "        print('Validation Area {:.8e} => {:.8e}'.format(t, val_p.area))\n",
    "        \n",
    "        pred_val_p = pred_val_p.simplify(1e-8, preserve_topology=False)\n",
    "        pred_val_p = shapely.wkt.dumps(pred_val_p,rounding_precision = 8)\n",
    "        pred_val_p = shapely.wkt.loads(pred_val_p)\n",
    "        if not pred_val_p.is_valid:\n",
    "            pred_val_p = pred_val_p.buffer(0)\n",
    "        \n",
    "        t = pred_val_p.union(val_p).area\n",
    "        if t!= 0:\n",
    "            print('imageId = {:^8}, threshold = {:.4f}, jaccard score = {:.4f}, InterArea = {:.4e}, UnionArea = {:.4e}'\n",
    "                  .format(val_image_id[j], i, pred_val_p.intersection(val_p).area / t, \n",
    "                    pred_val_p.intersection(val_p).area, t))\n",
    "        else:\n",
    "            print('imageId = {:^8}, threshold = {:.4f}, InterArea = {:.4e}, ZERO!! UnionArea = {:.4e}'\n",
    "                  .format(val_image_id[j], i, pred_val_p.intersection(val_p).area, t))            \n",
    "                \n",
    "        areaInter += pred_val_p.intersection(val_p).area \n",
    "        areaUnion += pred_val_p.union(val_p).area\n",
    "        \n",
    "    jaccard_list.append(areaInter/areaUnion)\n",
    "    \n",
    "print('Averaged Jaccard Score = ', jaccard_list)  \n",
    "\n",
    "\n"
   ]
  },
  {
   "cell_type": "code",
   "execution_count": 103,
   "metadata": {
    "collapsed": false,
    "scrolled": true
   },
   "outputs": [
    {
     "name": "stderr",
     "output_type": "stream",
     "text": [
      "Self-intersection at or near point 2855.0809061488671 1400.8025889967637\n",
      "Ring Self-intersection at or near point 0.0088730000000000007 -0.005816\n"
     ]
    },
    {
     "name": "stdout",
     "output_type": "stream",
     "text": [
      "Validation Area 5.41695000e-08 => 5.41695000e-08\n",
      "imageId = 6010_1_2, threshold = 0.0300, jaccard score = 0.0007, InterArea = 5.4065e-08, UnionArea = 8.1702e-05\n",
      "Validation Area 2.52385698e-07 => 2.52387114e-07\n",
      "imageId = 6060_2_3, threshold = 0.0300, jaccard score = 0.0031, InterArea = 2.5224e-07, UnionArea = 8.1397e-05\n"
     ]
    },
    {
     "name": "stderr",
     "output_type": "stream",
     "text": [
      "Self-intersection at or near point 2695.1403887688984 2929.0712742980563\n",
      "Self-intersection at or near point 0.0077710418058940288 -0.0089950524081099416\n"
     ]
    },
    {
     "name": "stdout",
     "output_type": "stream",
     "text": [
      "Validation Area 2.50966668e-07 => 2.50968495e-07\n",
      "imageId = 6070_2_3, threshold = 0.0300, jaccard score = 0.0030, InterArea = 2.3396e-07, UnionArea = 7.8932e-05\n"
     ]
    },
    {
     "name": "stderr",
     "output_type": "stream",
     "text": [
      "Self-intersection at or near point 3360.2743259085582 2974.5252051582647\n"
     ]
    },
    {
     "name": "stdout",
     "output_type": "stream",
     "text": [
      "Validation Area 2.84457489e-08 => 2.84457016e-08\n",
      "imageId = 6090_2_0, threshold = 0.0300, jaccard score = 0.0004, InterArea = 2.8446e-08, UnionArea = 7.2739e-05\n"
     ]
    },
    {
     "name": "stderr",
     "output_type": "stream",
     "text": [
      "Self-intersection at or near point 3387.6340956340955 1979.5426195426196\n",
      "Self-intersection at or near point 0.0047379778000534029 -0.0051287653021313308\n"
     ]
    },
    {
     "name": "stdout",
     "output_type": "stream",
     "text": [
      "Validation Area 2.26053172e-06 => 2.26052365e-06\n",
      "imageId = 6100_1_3, threshold = 0.0300, jaccard score = 0.0406, InterArea = 2.1871e-06, UnionArea = 5.3894e-05\n"
     ]
    },
    {
     "name": "stderr",
     "output_type": "stream",
     "text": [
      "Self-intersection at or near point 3334.1408450704225 1451.9859154929577\n"
     ]
    },
    {
     "name": "stdout",
     "output_type": "stream",
     "text": [
      "Validation Area 6.78303088e-07 => 6.78304650e-07\n",
      "imageId = 6100_2_2, threshold = 0.0300, jaccard score = 0.0162, InterArea = 6.3180e-07, UnionArea = 3.8985e-05\n"
     ]
    },
    {
     "name": "stderr",
     "output_type": "stream",
     "text": [
      "Self-intersection at or near point 3363.9557522123896 744.30973451327429\n",
      "Self-intersection at or near point 0.00849500056348239 -0.0051420007751021273\n"
     ]
    },
    {
     "name": "stdout",
     "output_type": "stream",
     "text": [
      "Validation Area 1.16881727e-06 => 1.17155469e-06\n"
     ]
    },
    {
     "name": "stderr",
     "output_type": "stream",
     "text": [
      "Ring Self-intersection at or near point 0.0060901200000000001 -0.0076915799999999999\n"
     ]
    },
    {
     "name": "stdout",
     "output_type": "stream",
     "text": [
      "imageId = 6100_2_3, threshold = 0.0300, jaccard score = 0.0242, InterArea = 1.0900e-06, UnionArea = 4.5010e-05\n"
     ]
    },
    {
     "name": "stderr",
     "output_type": "stream",
     "text": [
      "Self-intersection at or near point 3385.0245231607628 1580.6675749318802\n",
      "Self-intersection at or near point 0.0033809599999999997 -0.0045389499999999999\n"
     ]
    },
    {
     "name": "stdout",
     "output_type": "stream",
     "text": [
      "Validation Area 2.37327678e-06 => 2.36132784e-06\n",
      "imageId = 6110_1_2, threshold = 0.0300, jaccard score = 0.0431, InterArea = 2.2445e-06, UnionArea = 5.2090e-05\n"
     ]
    },
    {
     "name": "stderr",
     "output_type": "stream",
     "text": [
      "Self-intersection at or near point 3391.6521739130435 725.08695652173913\n",
      "Self-intersection at or near point 0.00013501000000000021 -0.0062042699999999996\n"
     ]
    },
    {
     "name": "stdout",
     "output_type": "stream",
     "text": [
      "Validation Area 1.04171158e-06 => 1.04171526e-06\n"
     ]
    },
    {
     "name": "stderr",
     "output_type": "stream",
     "text": [
      "Ring Self-intersection at or near point 0.0060607200000000003 -0.0071056599999999998\n"
     ]
    },
    {
     "name": "stdout",
     "output_type": "stream",
     "text": [
      "imageId = 6110_3_1, threshold = 0.0300, jaccard score = 0.0215, InterArea = 9.6625e-07, UnionArea = 4.4919e-05\n"
     ]
    },
    {
     "name": "stderr",
     "output_type": "stream",
     "text": [
      "Self-intersection at or near point 3303.5555555555557 1999.148148148148\n",
      "Ring Self-intersection at or near point 0.0083160000000000005 -8.6000000000000003e-05\n"
     ]
    },
    {
     "name": "stdout",
     "output_type": "stream",
     "text": [
      "Validation Area 4.75418515e-07 => 4.75419013e-07\n",
      "imageId = 6110_4_0, threshold = 0.0300, jaccard score = 0.0117, InterArea = 4.4950e-07, UnionArea = 3.8513e-05\n"
     ]
    },
    {
     "name": "stderr",
     "output_type": "stream",
     "text": [
      "Self-intersection at or near point 3361.5482815057285 2837.0294599018002\n",
      "Self-intersection at or near point 0.0053820098504003475 -0.00035383343190488486\n"
     ]
    },
    {
     "name": "stdout",
     "output_type": "stream",
     "text": [
      "Validation Area 6.03151704e-07 => 6.03537283e-07\n",
      "imageId = 6120_2_0, threshold = 0.0300, jaccard score = 0.0142, InterArea = 5.5957e-07, UnionArea = 3.9312e-05\n"
     ]
    },
    {
     "name": "stderr",
     "output_type": "stream",
     "text": [
      "Self-intersection at or near point 3399.8054145516076 156.70050761421319\n",
      "Self-intersection at or near point 0.0051980000000000004 -0.00020599766627771296\n"
     ]
    },
    {
     "name": "stdout",
     "output_type": "stream",
     "text": [
      "Validation Area 1.69450306e-06 => 1.69512678e-06\n"
     ]
    },
    {
     "name": "stderr",
     "output_type": "stream",
     "text": [
      "Self-intersection at or near point 0.0086424571390798528 -0.00053747245850026032\n"
     ]
    },
    {
     "name": "stdout",
     "output_type": "stream",
     "text": [
      "imageId = 6120_2_2, threshold = 0.0300, jaccard score = 0.0266, InterArea = 1.5974e-06, UnionArea = 6.0019e-05\n"
     ]
    },
    {
     "name": "stderr",
     "output_type": "stream",
     "text": [
      "Self-intersection at or near point 3114.7515878616796 142.18701482004235\n",
      "Self-intersection at or near point 0.0057256144343664789 -0.00018967766586908534\n"
     ]
    },
    {
     "name": "stdout",
     "output_type": "stream",
     "text": [
      "Validation Area 2.03099107e-06 => 2.03098735e-06\n",
      "imageId = 6140_1_2, threshold = 0.0300, jaccard score = 0.0347, InterArea = 1.9740e-06, UnionArea = 5.6925e-05\n"
     ]
    },
    {
     "name": "stderr",
     "output_type": "stream",
     "text": [
      "Self-intersection at or near point 3385.7042513863216 1740.2292051756008\n",
      "Self-intersection at or near point 0.0040721799999999999 -0.00653529\n"
     ]
    },
    {
     "name": "stdout",
     "output_type": "stream",
     "text": [
      "Validation Area 1.19004957e-06 => 1.19004105e-06\n",
      "imageId = 6140_3_1, threshold = 0.0300, jaccard score = 0.0223, InterArea = 1.1350e-06, UnionArea = 5.0960e-05\n"
     ]
    },
    {
     "name": "stderr",
     "output_type": "stream",
     "text": [
      "Self-intersection at or near point 3324.2002781641168 2504.8066759388039\n"
     ]
    },
    {
     "name": "stdout",
     "output_type": "stream",
     "text": [
      "Validation Area 5.03241449e-07 => 5.03243397e-07\n",
      "imageId = 6150_2_3, threshold = 0.0300, jaccard score = 0.0100, InterArea = 4.7104e-07, UnionArea = 4.6899e-05\n"
     ]
    },
    {
     "name": "stderr",
     "output_type": "stream",
     "text": [
      "Self-intersection at or near point 3374.8468468468468 2720.2972972972975\n"
     ]
    },
    {
     "name": "stdout",
     "output_type": "stream",
     "text": [
      "Validation Area 1.36260046e-09 => 1.36264960e-09\n",
      "imageId = 6170_0_4, threshold = 0.0300, jaccard score = 0.0000, InterArea = 1.1962e-09, UnionArea = 7.0395e-05\n"
     ]
    },
    {
     "name": "stderr",
     "output_type": "stream",
     "text": [
      "Self-intersection at or near point 3328.6404353285893 2163.926329007953\n"
     ]
    },
    {
     "name": "stdout",
     "output_type": "stream",
     "text": [
      "Validation Area 8.78500000e-10 => 8.78500000e-10\n",
      "imageId = 6170_2_4, threshold = 0.0300, jaccard score = 0.0000, InterArea = 8.7850e-10, UnionArea = 7.8385e-05\n"
     ]
    },
    {
     "name": "stderr",
     "output_type": "stream",
     "text": [
      "Self-intersection at or near point 3368.910591471802 513.12792297111412\n",
      "Ring Self-intersection at or near point 0.0088730000000000007 -0.005816\n"
     ]
    },
    {
     "name": "stdout",
     "output_type": "stream",
     "text": [
      "Validation Area 5.41695000e-08 => 5.41695000e-08\n"
     ]
    },
    {
     "name": "stderr",
     "output_type": "stream",
     "text": [
      "Ring Self-intersection at or near point 0.00247117 -0.0081477900000000002\n"
     ]
    },
    {
     "name": "stdout",
     "output_type": "stream",
     "text": [
      "imageId = 6010_1_2, threshold = 0.0500, jaccard score = 0.0009, InterArea = 4.8623e-08, UnionArea = 5.6957e-05\n"
     ]
    },
    {
     "name": "stderr",
     "output_type": "stream",
     "text": [
      "Self-intersection at or near point 3384.5322580645161 2195.4032258064517\n"
     ]
    },
    {
     "name": "stdout",
     "output_type": "stream",
     "text": [
      "Validation Area 2.52385698e-07 => 2.52387114e-07\n",
      "imageId = 6060_2_3, threshold = 0.0500, jaccard score = 0.0031, InterArea = 2.5213e-07, UnionArea = 8.0621e-05\n"
     ]
    },
    {
     "name": "stderr",
     "output_type": "stream",
     "text": [
      "Self-intersection at or near point 3276.2857142857142 1196.4285714285713\n",
      "Self-intersection at or near point 0.0077710418058940288 -0.0089950524081099416\n"
     ]
    },
    {
     "name": "stdout",
     "output_type": "stream",
     "text": [
      "Validation Area 2.50966668e-07 => 2.50968495e-07\n",
      "imageId = 6070_2_3, threshold = 0.0500, jaccard score = 0.0028, InterArea = 2.1644e-07, UnionArea = 7.6995e-05\n"
     ]
    },
    {
     "name": "stderr",
     "output_type": "stream",
     "text": [
      "Self-intersection at or near point 3386.4900284900286 1773.5128205128206\n"
     ]
    },
    {
     "name": "stdout",
     "output_type": "stream",
     "text": [
      "Validation Area 2.84457489e-08 => 2.84457016e-08\n",
      "imageId = 6090_2_0, threshold = 0.0500, jaccard score = 0.0005, InterArea = 2.5475e-08, UnionArea = 4.7582e-05\n"
     ]
    },
    {
     "name": "stderr",
     "output_type": "stream",
     "text": [
      "Self-intersection at or near point 3341.1663019693656 2245.6630196936544\n",
      "Self-intersection at or near point 0.0047379778000534029 -0.0051287653021313308\n"
     ]
    },
    {
     "name": "stdout",
     "output_type": "stream",
     "text": [
      "Validation Area 2.26053172e-06 => 2.26052365e-06\n"
     ]
    },
    {
     "name": "stderr",
     "output_type": "stream",
     "text": [
      "Ring Self-intersection at or near point 0.0053072400000000004 -0.00340932\n"
     ]
    },
    {
     "name": "stdout",
     "output_type": "stream",
     "text": [
      "imageId = 6100_1_3, threshold = 0.0500, jaccard score = 0.0680, InterArea = 1.8534e-06, UnionArea = 2.7273e-05\n"
     ]
    },
    {
     "name": "stderr",
     "output_type": "stream",
     "text": [
      "Self-intersection at or near point 3350.0457933972311 1280.8945686900959\n"
     ]
    },
    {
     "name": "stdout",
     "output_type": "stream",
     "text": [
      "Validation Area 6.78303088e-07 => 6.78304650e-07\n"
     ]
    },
    {
     "name": "stderr",
     "output_type": "stream",
     "text": [
      "Ring Self-intersection at or near point 0.0044672599999999998 -0.00128863\n"
     ]
    },
    {
     "name": "stdout",
     "output_type": "stream",
     "text": [
      "imageId = 6100_2_2, threshold = 0.0500, jaccard score = 0.0306, InterArea = 4.9895e-07, UnionArea = 1.6294e-05\n"
     ]
    },
    {
     "name": "stderr",
     "output_type": "stream",
     "text": [
      "Self-intersection at or near point 3363.1918032786884 518.79344262295081\n",
      "Self-intersection at or near point 0.00849500056348239 -0.0051420007751021273\n"
     ]
    },
    {
     "name": "stdout",
     "output_type": "stream",
     "text": [
      "Validation Area 1.16881727e-06 => 1.17155469e-06\n",
      "imageId = 6100_2_3, threshold = 0.0500, jaccard score = 0.0422, InterArea = 8.5454e-07, UnionArea = 2.0257e-05\n"
     ]
    },
    {
     "name": "stderr",
     "output_type": "stream",
     "text": [
      "Self-intersection at or near point 3308.3928571428573 394.60714285714283\n",
      "Self-intersection at or near point 0.0033809599999999997 -0.0045389499999999999\n"
     ]
    },
    {
     "name": "stdout",
     "output_type": "stream",
     "text": [
      "Validation Area 2.37327678e-06 => 2.36132784e-06\n",
      "imageId = 6110_1_2, threshold = 0.0500, jaccard score = 0.0526, InterArea = 2.0396e-06, UnionArea = 3.8808e-05\n"
     ]
    },
    {
     "name": "stderr",
     "output_type": "stream",
     "text": [
      "Self-intersection at or near point 3342.8260869565215 1470.4782608695652\n",
      "Self-intersection at or near point 0.00013501000000000021 -0.0062042699999999996\n"
     ]
    },
    {
     "name": "stdout",
     "output_type": "stream",
     "text": [
      "Validation Area 1.04171158e-06 => 1.04171526e-06\n"
     ]
    },
    {
     "name": "stderr",
     "output_type": "stream",
     "text": [
      "Self-intersection at or near point 0.0032842425569082371 -0.0074540695907733979\n"
     ]
    },
    {
     "name": "stdout",
     "output_type": "stream",
     "text": [
      "imageId = 6110_3_1, threshold = 0.0500, jaccard score = 0.0258, InterArea = 8.4544e-07, UnionArea = 3.2807e-05\n"
     ]
    },
    {
     "name": "stderr",
     "output_type": "stream",
     "text": [
      "Self-intersection at or near point 3337.7923076923075 100.60673076923077\n",
      "Ring Self-intersection at or near point 0.0083160000000000005 -8.6000000000000003e-05\n"
     ]
    },
    {
     "name": "stdout",
     "output_type": "stream",
     "text": [
      "Validation Area 4.75418515e-07 => 4.75419013e-07\n",
      "imageId = 6110_4_0, threshold = 0.0500, jaccard score = 0.0144, InterArea = 3.9825e-07, UnionArea = 2.7728e-05\n"
     ]
    },
    {
     "name": "stderr",
     "output_type": "stream",
     "text": [
      "Self-intersection at or near point 3389.267955801105 2369.1104972375692\n",
      "Self-intersection at or near point 0.0053820098504003475 -0.00035383343190488486\n"
     ]
    },
    {
     "name": "stdout",
     "output_type": "stream",
     "text": [
      "Validation Area 6.03151704e-07 => 6.03537283e-07\n",
      "imageId = 6120_2_0, threshold = 0.0500, jaccard score = 0.0183, InterArea = 4.9416e-07, UnionArea = 2.7065e-05\n"
     ]
    },
    {
     "name": "stderr",
     "output_type": "stream",
     "text": [
      "Self-intersection at or near point 3372.1282051282051 1875.3525641025642\n",
      "Self-intersection at or near point 0.0051980000000000004 -0.00020599766627771296\n"
     ]
    },
    {
     "name": "stdout",
     "output_type": "stream",
     "text": [
      "Validation Area 1.69450306e-06 => 1.69512678e-06\n",
      "imageId = 6120_2_2, threshold = 0.0500, jaccard score = 0.0339, InterArea = 1.3099e-06, UnionArea = 3.8670e-05\n"
     ]
    },
    {
     "name": "stderr",
     "output_type": "stream",
     "text": [
      "Self-intersection at or near point 3389.9050279329608 667.17877094972062\n",
      "Self-intersection at or near point 0.0057256144343664789 -0.00018967766586908534\n"
     ]
    },
    {
     "name": "stdout",
     "output_type": "stream",
     "text": [
      "Validation Area 2.03099107e-06 => 2.03098735e-06\n",
      "imageId = 6140_1_2, threshold = 0.0500, jaccard score = 0.0414, InterArea = 1.8071e-06, UnionArea = 4.3608e-05\n"
     ]
    },
    {
     "name": "stderr",
     "output_type": "stream",
     "text": [
      "Self-intersection at or near point 3365 1509.875\n",
      "Self-intersection at or near point 0.0040721799999999999 -0.00653529\n"
     ]
    },
    {
     "name": "stdout",
     "output_type": "stream",
     "text": [
      "Validation Area 1.19004957e-06 => 1.19004105e-06\n",
      "imageId = 6140_3_1, threshold = 0.0500, jaccard score = 0.0276, InterArea = 9.5821e-07, UnionArea = 3.4709e-05\n"
     ]
    },
    {
     "name": "stderr",
     "output_type": "stream",
     "text": [
      "Self-intersection at or near point 3377.3365735115431 2506.3487241798298\n"
     ]
    },
    {
     "name": "stdout",
     "output_type": "stream",
     "text": [
      "Validation Area 5.03241449e-07 => 5.03243397e-07\n"
     ]
    },
    {
     "name": "stderr",
     "output_type": "stream",
     "text": [
      "Self-intersection at or near point 0.0044804945947568538 -0.0085969045947568538\n"
     ]
    },
    {
     "name": "stdout",
     "output_type": "stream",
     "text": [
      "imageId = 6150_2_3, threshold = 0.0500, jaccard score = 0.0125, InterArea = 4.3358e-07, UnionArea = 3.4758e-05\n"
     ]
    },
    {
     "name": "stderr",
     "output_type": "stream",
     "text": [
      "Self-intersection at or near point 3388.090909090909 1558.2727272727273\n"
     ]
    },
    {
     "name": "stdout",
     "output_type": "stream",
     "text": [
      "Validation Area 1.36260046e-09 => 1.36264960e-09\n"
     ]
    },
    {
     "name": "stderr",
     "output_type": "stream",
     "text": [
      "Ring Self-intersection at or near point 0.0062655000000000002 -0.0023314099999999999\n"
     ]
    },
    {
     "name": "stdout",
     "output_type": "stream",
     "text": [
      "imageId = 6170_0_4, threshold = 0.0500, jaccard score = 0.0000, InterArea = 1.2645e-09, UnionArea = 4.8511e-05\n"
     ]
    },
    {
     "name": "stderr",
     "output_type": "stream",
     "text": [
      "Self-intersection at or near point 3360.605128205128 2722.8307692307694\n"
     ]
    },
    {
     "name": "stdout",
     "output_type": "stream",
     "text": [
      "Validation Area 8.78500000e-10 => 8.78500000e-10\n"
     ]
    },
    {
     "name": "stderr",
     "output_type": "stream",
     "text": [
      "Ring Self-intersection at or near point 0.0085917300000000005 -0.005025\n"
     ]
    },
    {
     "name": "stdout",
     "output_type": "stream",
     "text": [
      "imageId = 6170_2_4, threshold = 0.0500, jaccard score = 0.0000, InterArea = 8.7850e-10, UnionArea = 5.2600e-05\n"
     ]
    },
    {
     "name": "stderr",
     "output_type": "stream",
     "text": [
      "Self-intersection at or near point 3354.4743875278396 638.37416481069044\n",
      "Ring Self-intersection at or near point 0.0088730000000000007 -0.005816\n"
     ]
    },
    {
     "name": "stdout",
     "output_type": "stream",
     "text": [
      "Validation Area 5.41695000e-08 => 5.41695000e-08\n",
      "imageId = 6010_1_2, threshold = 0.0800, jaccard score = 0.0011, InterArea = 3.0531e-08, UnionArea = 2.8759e-05\n"
     ]
    },
    {
     "name": "stderr",
     "output_type": "stream",
     "text": [
      "Self-intersection at or near point 3341.8837209302324 1553.8139534883721\n"
     ]
    },
    {
     "name": "stdout",
     "output_type": "stream",
     "text": [
      "Validation Area 2.52385698e-07 => 2.52387114e-07\n",
      "imageId = 6060_2_3, threshold = 0.0800, jaccard score = 0.0032, InterArea = 2.4673e-07, UnionArea = 7.6087e-05\n"
     ]
    },
    {
     "name": "stderr",
     "output_type": "stream",
     "text": [
      "Self-intersection at or near point 3272.59375 2104.3125\n",
      "Self-intersection at or near point 0.0077710418058940288 -0.0089950524081099416\n"
     ]
    },
    {
     "name": "stdout",
     "output_type": "stream",
     "text": [
      "Validation Area 2.50966668e-07 => 2.50968495e-07\n",
      "imageId = 6070_2_3, threshold = 0.0800, jaccard score = 0.0026, InterArea = 1.8696e-07, UnionArea = 7.3274e-05\n"
     ]
    },
    {
     "name": "stderr",
     "output_type": "stream",
     "text": [
      "Self-intersection at or near point 3378.067415730337 1840.685393258427\n"
     ]
    },
    {
     "name": "stdout",
     "output_type": "stream",
     "text": [
      "Validation Area 2.84457489e-08 => 2.84457016e-08\n",
      "imageId = 6090_2_0, threshold = 0.0800, jaccard score = 0.0011, InterArea = 1.9307e-08, UnionArea = 1.8347e-05\n"
     ]
    },
    {
     "name": "stderr",
     "output_type": "stream",
     "text": [
      "Self-intersection at or near point 3375.4754098360654 2166.0983606557379\n",
      "Self-intersection at or near point 0.0047379778000534029 -0.0051287653021313308\n"
     ]
    },
    {
     "name": "stdout",
     "output_type": "stream",
     "text": [
      "Validation Area 2.26053172e-06 => 2.26052365e-06\n",
      "imageId = 6100_1_3, threshold = 0.0800, InterArea = 0.0000e+00, ZERO!! UnionArea = 0.0000e+00\n"
     ]
    },
    {
     "name": "stderr",
     "output_type": "stream",
     "text": [
      "Self-intersection at or near point 3360.3717948717949 25.743589743589745\n"
     ]
    },
    {
     "name": "stdout",
     "output_type": "stream",
     "text": [
      "Validation Area 6.78303088e-07 => 6.78304650e-07\n",
      "imageId = 6100_2_2, threshold = 0.0800, jaccard score = 0.0484, InterArea = 3.5043e-07, UnionArea = 7.2414e-06\n"
     ]
    },
    {
     "name": "stderr",
     "output_type": "stream",
     "text": [
      "Self-intersection at or near point 3377.0361544782249 631.76088742810191\n",
      "Self-intersection at or near point 0.00849500056348239 -0.0051420007751021273\n"
     ]
    },
    {
     "name": "stdout",
     "output_type": "stream",
     "text": [
      "Validation Area 1.16881727e-06 => 1.17155469e-06\n",
      "imageId = 6100_2_3, threshold = 0.0800, jaccard score = 0.0560, InterArea = 5.5807e-07, UnionArea = 9.9617e-06\n"
     ]
    },
    {
     "name": "stderr",
     "output_type": "stream",
     "text": [
      "Self-intersection at or near point 3343.3119777158772 2626.9777158774373\n",
      "Self-intersection at or near point 0.0033809599999999997 -0.0045389499999999999\n"
     ]
    },
    {
     "name": "stdout",
     "output_type": "stream",
     "text": [
      "Validation Area 2.37327678e-06 => 2.36132784e-06\n",
      "imageId = 6110_1_2, threshold = 0.0800, jaccard score = 0.0626, InterArea = 1.4151e-06, UnionArea = 2.2592e-05\n"
     ]
    },
    {
     "name": "stderr",
     "output_type": "stream",
     "text": [
      "Self-intersection at or near point 3333.4220183486241 1629.394495412844\n",
      "Self-intersection at or near point 0.00013501000000000021 -0.0062042699999999996\n"
     ]
    },
    {
     "name": "stdout",
     "output_type": "stream",
     "text": [
      "Validation Area 1.04171158e-06 => 1.04171526e-06\n",
      "imageId = 6110_3_1, threshold = 0.0800, jaccard score = 0.0263, InterArea = 5.5986e-07, UnionArea = 2.1270e-05\n"
     ]
    },
    {
     "name": "stderr",
     "output_type": "stream",
     "text": [
      "Self-intersection at or near point 3387.932584269663 1278.9606741573034\n",
      "Ring Self-intersection at or near point 0.0083160000000000005 -8.6000000000000003e-05\n"
     ]
    },
    {
     "name": "stdout",
     "output_type": "stream",
     "text": [
      "Validation Area 4.75418515e-07 => 4.75419013e-07\n",
      "imageId = 6110_4_0, threshold = 0.0800, jaccard score = 0.0191, InterArea = 2.4719e-07, UnionArea = 1.2932e-05\n"
     ]
    },
    {
     "name": "stderr",
     "output_type": "stream",
     "text": [
      "Self-intersection at or near point 3361.7435158501439 2573.579250720461\n",
      "Self-intersection at or near point 0.0053820098504003475 -0.00035383343190488486\n"
     ]
    },
    {
     "name": "stdout",
     "output_type": "stream",
     "text": [
      "Validation Area 6.03151704e-07 => 6.03537283e-07\n",
      "imageId = 6120_2_0, threshold = 0.0800, jaccard score = 0.0238, InterArea = 3.9285e-07, UnionArea = 1.6473e-05\n"
     ]
    },
    {
     "name": "stderr",
     "output_type": "stream",
     "text": [
      "Self-intersection at or near point 3398.2399999999998 2152.096\n",
      "Self-intersection at or near point 0.0051980000000000004 -0.00020599766627771296\n"
     ]
    },
    {
     "name": "stdout",
     "output_type": "stream",
     "text": [
      "Validation Area 1.69450306e-06 => 1.69512678e-06\n",
      "imageId = 6120_2_2, threshold = 0.0800, jaccard score = 0.0386, InterArea = 8.3669e-07, UnionArea = 2.1695e-05\n"
     ]
    },
    {
     "name": "stderr",
     "output_type": "stream",
     "text": [
      "Self-intersection at or near point 3325 3250.4000000000001\n",
      "Self-intersection at or near point 0.0057256144343664789 -0.00018967766586908534\n"
     ]
    },
    {
     "name": "stdout",
     "output_type": "stream",
     "text": [
      "Validation Area 2.03099107e-06 => 2.03098735e-06\n"
     ]
    },
    {
     "name": "stderr",
     "output_type": "stream",
     "text": [
      "Ring Self-intersection at or near point 0.0014827 -0.0060770800000000003\n"
     ]
    },
    {
     "name": "stdout",
     "output_type": "stream",
     "text": [
      "imageId = 6140_1_2, threshold = 0.0800, jaccard score = 0.0519, InterArea = 1.3103e-06, UnionArea = 2.5249e-05\n"
     ]
    },
    {
     "name": "stderr",
     "output_type": "stream",
     "text": [
      "Self-intersection at or near point 3360.9506726457398 2037.5829596412557\n",
      "Self-intersection at or near point 0.0040721799999999999 -0.00653529\n"
     ]
    },
    {
     "name": "stdout",
     "output_type": "stream",
     "text": [
      "Validation Area 1.19004957e-06 => 1.19004105e-06\n",
      "imageId = 6140_3_1, threshold = 0.0800, jaccard score = 0.0278, InterArea = 5.3778e-07, UnionArea = 1.9333e-05\n"
     ]
    },
    {
     "name": "stderr",
     "output_type": "stream",
     "text": [
      "Self-intersection at or near point 3399.5960784313725 1571.8117647058823\n"
     ]
    },
    {
     "name": "stdout",
     "output_type": "stream",
     "text": [
      "Validation Area 5.03241449e-07 => 5.03243397e-07\n",
      "imageId = 6150_2_3, threshold = 0.0800, jaccard score = 0.0138, InterArea = 2.9104e-07, UnionArea = 2.1071e-05\n"
     ]
    },
    {
     "name": "stderr",
     "output_type": "stream",
     "text": [
      "Self-intersection at or near point 3368.2556390977443 2142.2631578947367\n"
     ]
    },
    {
     "name": "stdout",
     "output_type": "stream",
     "text": [
      "Validation Area 1.36260046e-09 => 1.36264960e-09\n"
     ]
    },
    {
     "name": "stderr",
     "output_type": "stream",
     "text": [
      "Ring Self-intersection at or near point 0.0061926400000000001 -0.00099146\n"
     ]
    },
    {
     "name": "stdout",
     "output_type": "stream",
     "text": [
      "imageId = 6170_0_4, threshold = 0.0800, jaccard score = 0.0000, InterArea = 8.4445e-10, UnionArea = 3.3656e-05\n"
     ]
    },
    {
     "name": "stderr",
     "output_type": "stream",
     "text": [
      "Self-intersection at or near point 3381.7830388692578 1877.7342756183746\n"
     ]
    },
    {
     "name": "stdout",
     "output_type": "stream",
     "text": [
      "Validation Area 8.78500000e-10 => 8.78500000e-10\n"
     ]
    },
    {
     "name": "stderr",
     "output_type": "stream",
     "text": [
      "Ring Self-intersection at or near point 0.0043444399999999998 -0.0070620199999999996\n"
     ]
    },
    {
     "name": "stdout",
     "output_type": "stream",
     "text": [
      "imageId = 6170_2_4, threshold = 0.0800, jaccard score = 0.0000, InterArea = 8.7673e-10, UnionArea = 1.9754e-05\n"
     ]
    },
    {
     "name": "stderr",
     "output_type": "stream",
     "text": [
      "Self-intersection at or near point 3372.7440758293837 1035.1658767772512\n",
      "Ring Self-intersection at or near point 0.0088730000000000007 -0.005816\n"
     ]
    },
    {
     "name": "stdout",
     "output_type": "stream",
     "text": [
      "Validation Area 5.41695000e-08 => 5.41695000e-08\n",
      "imageId = 6010_1_2, threshold = 0.1000, jaccard score = 0.0009, InterArea = 1.7439e-08, UnionArea = 2.0225e-05\n"
     ]
    },
    {
     "name": "stderr",
     "output_type": "stream",
     "text": [
      "Self-intersection at or near point 3303.0500000000002 221.09999999999999\n"
     ]
    },
    {
     "name": "stdout",
     "output_type": "stream",
     "text": [
      "Validation Area 2.52385698e-07 => 2.52387114e-07\n",
      "imageId = 6060_2_3, threshold = 0.1000, jaccard score = 0.0032, InterArea = 2.4084e-07, UnionArea = 7.4144e-05\n"
     ]
    },
    {
     "name": "stderr",
     "output_type": "stream",
     "text": [
      "Self-intersection at or near point 3335.42578125 2900.59375\n",
      "Self-intersection at or near point 0.0077710418058940288 -0.0089950524081099416\n"
     ]
    },
    {
     "name": "stdout",
     "output_type": "stream",
     "text": [
      "Validation Area 2.50966668e-07 => 2.50968495e-07\n",
      "imageId = 6070_2_3, threshold = 0.1000, jaccard score = 0.0025, InterArea = 1.7252e-07, UnionArea = 7.0165e-05\n"
     ]
    },
    {
     "name": "stderr",
     "output_type": "stream",
     "text": [
      "Self-intersection at or near point 3332.7300131061597 3035.2922673656617\n"
     ]
    },
    {
     "name": "stdout",
     "output_type": "stream",
     "text": [
      "Validation Area 2.84457489e-08 => 2.84457016e-08\n"
     ]
    },
    {
     "name": "stderr",
     "output_type": "stream",
     "text": [
      "Self-intersection at or near point 0.004538624960134849 -0.0057974921701840062\n"
     ]
    },
    {
     "name": "stdout",
     "output_type": "stream",
     "text": [
      "imageId = 6090_2_0, threshold = 0.1000, jaccard score = 0.0015, InterArea = 1.8776e-08, UnionArea = 1.2458e-05\n"
     ]
    },
    {
     "name": "stderr",
     "output_type": "stream",
     "text": [
      "Self-intersection at or near point 3374.2666666666669 544\n",
      "Self-intersection at or near point 0.0047379778000534029 -0.0051287653021313308\n"
     ]
    },
    {
     "name": "stdout",
     "output_type": "stream",
     "text": [
      "Validation Area 2.26053172e-06 => 2.26052365e-06\n",
      "imageId = 6100_1_3, threshold = 0.1000, jaccard score = 0.1250, InterArea = 2.0000e-06, UnionArea = 1.6000e-05\n"
     ]
    },
    {
     "name": "stderr",
     "output_type": "stream",
     "text": [
      "Self-intersection at or near point 3342.5882352941176 2294.4705882352941\n"
     ]
    },
    {
     "name": "stdout",
     "output_type": "stream",
     "text": [
      "Validation Area 6.78303088e-07 => 6.78304650e-07\n",
      "imageId = 6100_2_2, threshold = 0.1000, jaccard score = 0.0587, InterArea = 3.2045e-07, UnionArea = 5.4605e-06\n"
     ]
    },
    {
     "name": "stderr",
     "output_type": "stream",
     "text": [
      "Self-intersection at or near point 3376.8071539657853 630.74183514774495\n",
      "Self-intersection at or near point 0.00849500056348239 -0.0051420007751021273\n"
     ]
    },
    {
     "name": "stdout",
     "output_type": "stream",
     "text": [
      "Validation Area 1.16881727e-06 => 1.17155469e-06\n",
      "imageId = 6100_2_3, threshold = 0.1000, jaccard score = 0.0608, InterArea = 4.8070e-07, UnionArea = 7.9125e-06\n"
     ]
    },
    {
     "name": "stderr",
     "output_type": "stream",
     "text": [
      "Self-intersection at or near point 3386.8408304498271 2436.0207612456747\n",
      "Self-intersection at or near point 0.0033809599999999997 -0.0045389499999999999\n"
     ]
    },
    {
     "name": "stdout",
     "output_type": "stream",
     "text": [
      "Validation Area 2.37327678e-06 => 2.36132784e-06\n"
     ]
    },
    {
     "name": "stderr",
     "output_type": "stream",
     "text": [
      "Ring Self-intersection at or near point 0.0042536099999999997 -0.0033977299999999998\n"
     ]
    },
    {
     "name": "stdout",
     "output_type": "stream",
     "text": [
      "imageId = 6110_1_2, threshold = 0.1000, jaccard score = 0.0686, InterArea = 9.5753e-07, UnionArea = 1.3957e-05\n"
     ]
    },
    {
     "name": "stderr",
     "output_type": "stream",
     "text": [
      "Self-intersection at or near point 3388.1647727272725 1221.2045454545455\n",
      "Self-intersection at or near point 0.00013501000000000021 -0.0062042699999999996\n"
     ]
    },
    {
     "name": "stdout",
     "output_type": "stream",
     "text": [
      "Validation Area 1.04171158e-06 => 1.04171526e-06\n",
      "imageId = 6110_3_1, threshold = 0.1000, jaccard score = 0.0254, InterArea = 3.7399e-07, UnionArea = 1.4699e-05\n"
     ]
    },
    {
     "name": "stderr",
     "output_type": "stream",
     "text": [
      "Self-intersection at or near point 3391.4137931034484 1175.5862068965516\n",
      "Ring Self-intersection at or near point 0.0083160000000000005 -8.6000000000000003e-05\n"
     ]
    },
    {
     "name": "stdout",
     "output_type": "stream",
     "text": [
      "Validation Area 4.75418515e-07 => 4.75419013e-07\n"
     ]
    },
    {
     "name": "stderr",
     "output_type": "stream",
     "text": [
      "Ring Self-intersection at or near point 0.00192022 -0.00066982999999999995\n"
     ]
    },
    {
     "name": "stdout",
     "output_type": "stream",
     "text": [
      "imageId = 6110_4_0, threshold = 0.1000, jaccard score = 0.0201, InterArea = 2.3153e-07, UnionArea = 1.1531e-05\n"
     ]
    },
    {
     "name": "stderr",
     "output_type": "stream",
     "text": [
      "Self-intersection at or near point 3400.1232876712329 1401.8493150684931\n",
      "Self-intersection at or near point 0.0053820098504003475 -0.00035383343190488486\n"
     ]
    },
    {
     "name": "stdout",
     "output_type": "stream",
     "text": [
      "Validation Area 6.03151704e-07 => 6.03537283e-07\n",
      "imageId = 6120_2_0, threshold = 0.1000, jaccard score = 0.0323, InterArea = 2.3669e-07, UnionArea = 7.3284e-06\n"
     ]
    },
    {
     "name": "stderr",
     "output_type": "stream",
     "text": [
      "Self-intersection at or near point 3385.3652694610778 1535.5449101796407\n",
      "Self-intersection at or near point 0.0051980000000000004 -0.00020599766627771296\n"
     ]
    },
    {
     "name": "stdout",
     "output_type": "stream",
     "text": [
      "Validation Area 1.69450306e-06 => 1.69512678e-06\n",
      "imageId = 6120_2_2, threshold = 0.1000, jaccard score = 0.0426, InterArea = 4.3428e-07, UnionArea = 1.0197e-05\n"
     ]
    },
    {
     "name": "stderr",
     "output_type": "stream",
     "text": [
      "Self-intersection at or near point 3383.2058212058214 2286.9438669438669\n",
      "Self-intersection at or near point 0.0057256144343664789 -0.00018967766586908534\n"
     ]
    },
    {
     "name": "stdout",
     "output_type": "stream",
     "text": [
      "Validation Area 2.03099107e-06 => 2.03098735e-06\n",
      "imageId = 6140_1_2, threshold = 0.1000, jaccard score = 0.0615, InterArea = 5.1785e-07, UnionArea = 8.4166e-06\n"
     ]
    },
    {
     "name": "stderr",
     "output_type": "stream",
     "text": [
      "Self-intersection at or near point 3373 3300.6153846153848\n",
      "Self-intersection at or near point 0.0040721799999999999 -0.00653529\n"
     ]
    },
    {
     "name": "stdout",
     "output_type": "stream",
     "text": [
      "Validation Area 1.19004957e-06 => 1.19004105e-06\n",
      "imageId = 6140_3_1, threshold = 0.1000, jaccard score = 0.0207, InterArea = 2.0390e-07, UnionArea = 9.8473e-06\n"
     ]
    },
    {
     "name": "stderr",
     "output_type": "stream",
     "text": [
      "Self-intersection at or near point 3346.3181549379065 1277.2324068598462\n"
     ]
    },
    {
     "name": "stdout",
     "output_type": "stream",
     "text": [
      "Validation Area 5.03241449e-07 => 5.03243397e-07\n",
      "imageId = 6150_2_3, threshold = 0.1000, jaccard score = 0.0106, InterArea = 1.1145e-07, UnionArea = 1.0538e-05\n"
     ]
    },
    {
     "name": "stderr",
     "output_type": "stream",
     "text": [
      "Self-intersection at or near point 3326.5584176632933 1834.8169273229071\n"
     ]
    },
    {
     "name": "stdout",
     "output_type": "stream",
     "text": [
      "Validation Area 1.36260046e-09 => 1.36264960e-09\n",
      "imageId = 6170_0_4, threshold = 0.1000, jaccard score = 0.0000, InterArea = 8.3906e-10, UnionArea = 2.6445e-05\n"
     ]
    },
    {
     "name": "stderr",
     "output_type": "stream",
     "text": [
      "Self-intersection at or near point 3370.512630014859 1214.7607726597325\n"
     ]
    },
    {
     "name": "stdout",
     "output_type": "stream",
     "text": [
      "Validation Area 8.78500000e-10 => 8.78500000e-10\n"
     ]
    },
    {
     "name": "stderr",
     "output_type": "stream",
     "text": [
      "Ring Self-intersection at or near point 0.00136539 -0.0055221000000000003\n"
     ]
    },
    {
     "name": "stdout",
     "output_type": "stream",
     "text": [
      "imageId = 6170_2_4, threshold = 0.1000, jaccard score = 0.0000, InterArea = 0.0000e+00, UnionArea = 1.1937e-05\n",
      "Averaged Jaccard Score =  [0.014001936056873917, 0.01706921523038504, 0.01633060995452238, 0.01907487582003092]\n"
     ]
    }
   ],
   "source": []
  },
  {
   "cell_type": "code",
   "execution_count": null,
   "metadata": {
    "collapsed": true
   },
   "outputs": [],
   "source": [
    "val_x, val_y, val_p = image_to_train(image_id = val_image_id[j], \n",
    "                                             class_type = class_type, image_type = 'withLabel')\n",
    "# Plot original validation polygons\n",
    "plot_polygons(image_id = val_image_id[0], polygonsList = {class_type:val_p}, figsize=(5,5))\n",
    "\n",
    "# Plot predicted validation polygons - how well the model generaalizes\n",
    "pred_val_y, pred_val_wkt, pred_val_p = predict_class(clf = clfs[class_type], image_id = val_image_id[0], \n",
    "                                                     threshold = 0.5, image_type = 'withLabel')\n",
    "plot_polygons(image_id = val_image_id[0], polygonsList = {class_type:pred_val_p}, figsize=(5,5))\n",
    "\n",
    "print('jaccard score = ', pred_val_p.intersection(val_p).area / pred_val_p.union(val_p).area)"
   ]
  },
  {
   "cell_type": "markdown",
   "metadata": {},
   "source": [
    "## 3_Road"
   ]
  },
  {
   "cell_type": "code",
   "execution_count": null,
   "metadata": {
    "collapsed": true
   },
   "outputs": [],
   "source": [
    "# Object-based approach: \n",
    "# 1) large road width => road > track\n",
    "# 2) direction follows building's"
   ]
  },
  {
   "cell_type": "code",
   "execution_count": 18,
   "metadata": {
    "collapsed": false
   },
   "outputs": [
    {
     "name": "stdout",
     "output_type": "stream",
     "text": [
      "11 ['6120_2_2', '6120_2_0', '6100_1_3', '6110_4_0', '6140_3_1', '6110_1_2', '6100_2_3', '6140_1_2', '6110_3_1', '6070_2_3', '6100_2_2']\n",
      "Loading data for class type 3\n",
      "Data loaded in 80 seconds. (2356689, 17) (2356689,)\n",
      "4 ['6120_2_2', '6100_1_3', '6140_3_1', '6110_3_1']\n",
      "Loading data for class type 3\n",
      "Data loaded in 36 seconds. (43907189, 17) (43907189,)\n",
      "Removing Duplicated Data ...\n",
      "Data loaded in 215 seconds. (35471468, 17) (35471468,)\n",
      "19 ['6040_2_2', '6120_2_0', '6090_2_0', '6040_1_3', '6040_1_0', '6010_4_2', '6110_4_0', '6110_1_2', '6100_2_3', '6150_2_3', '6160_2_1', '6140_1_2', '6170_2_4', '6170_4_1', '6170_0_4', '6060_2_3', '6010_1_2', '6040_4_4', '6100_2_2']\n",
      "Loading data for class type 4\n",
      "Data loaded in 133 seconds. (5568395, 17) (5568395,)\n",
      "Data Shape:  (43396552, 17) (43396552,)\n"
     ]
    }
   ],
   "source": [
    "class_type = 3\n",
    "\n",
    "# data with labels\n",
    "val_image_id = []\n",
    "train_x, train_y = load_train_pixels(class_type = class_type, val_ids = val_image_id, image_type = 'withLabel')\n",
    "\n",
    "# data without labels => 6100_1_3 + 6110_3_1 + 6120_2_2 + 6140_3_1\n",
    "val_image_id = ['6070_2_3', '6100_2_2', '6100_2_3', '6110_1_2', '6110_4_0', '6120_2_0', '6140_1_2']\n",
    "train_x_wl, train_y_wl = load_train_pixels(class_type = class_type, val_ids = val_image_id, image_type = 'withoutLabel')\n",
    "# remove duplicates\n",
    "print (\"Removing Duplicated Data ...\")\n",
    "start = time.time()\n",
    "t = unique_rows(np.hstack((train_x_wl, train_y_wl.reshape([-1,1]))))\n",
    "train_x_wl = t[:,:-1]\n",
    "train_y_wl = t[:,-1]\n",
    "del t\n",
    "print (\"Data loaded in %d seconds.\" % (time.time() - start), train_x_wl.shape, train_y_wl.shape)\n",
    "\n",
    "# 4_Track data without labels =>\n",
    "val_image_id = ['6100_1_3', '6110_3_1', '6120_2_2', '6140_3_1']\n",
    "train_x_track, train_y_track = load_train_pixels(class_type = 4, val_ids = val_image_id, image_type = 'withLabel')\n",
    "train_y_track = np.array([0] * len(train_y_track))\n",
    "\n",
    "# stack the data\n",
    "train_x = np.vstack((train_x, train_x_wl, train_x_track))\n",
    "train_y = np.hstack((train_y, train_y_wl, train_y_track))\n",
    "\n",
    "del train_x_wl, train_y_wl, train_x_track, train_y_track\n",
    "print (\"Data Shape: \", train_x.shape, train_y.shape)"
   ]
  },
  {
   "cell_type": "code",
   "execution_count": 19,
   "metadata": {
    "collapsed": false
   },
   "outputs": [
    {
     "name": "stdout",
     "output_type": "stream",
     "text": [
      "training...\n",
      "training for class type 3 finishied in 912 seconds...\n",
      "Training AUC:  0.927606647333\n"
     ]
    }
   ],
   "source": [
    "class_type = 3\n",
    "\n",
    "pipeline = make_pipeline(StandardScaler(), xgb.XGBClassifier(n_estimators = 100))\n",
    "start = time.time()\n",
    "print('training...')\n",
    "pipeline.fit(train_x, train_y)\n",
    "\n",
    "clfs = joblib.load('clfs_17Bands.pkl')\n",
    "clfs[class_type] = pipeline\n",
    "joblib.dump(clfs, 'clfs_17Bands.pkl')\n",
    "\n",
    "print('training for class type %d finishied in %d seconds...' % (class_type, time.time()-start))\n",
    "        \n",
    "## Show model accuracy: Use AUC because single class is a skwed binary classfication where AUC works better.\n",
    "pred_train_y = clfs[class_type].predict_proba(train_x)[:,1]\n",
    "\n",
    "print (\"Training AUC: \", roc_auc_score(y_true = train_y, y_score = pred_train_y))"
   ]
  },
  {
   "cell_type": "code",
   "execution_count": 18,
   "metadata": {
    "collapsed": false,
    "scrolled": true
   },
   "outputs": [
    {
     "name": "stderr",
     "output_type": "stream",
     "text": [
      "Self-intersection at or near point 2767.8034460753033 3296.6738991703892\n",
      "WARNING:shapely.geos:Self-intersection at or near point 2767.8034460753033 3296.6738991703892\n"
     ]
    },
    {
     "name": "stdout",
     "output_type": "stream",
     "text": [
      "imageId = 6070_2_3, threshold = 0.3100, jaccard score = 0.1550, InterArea = 1.2935e-07, UnionArea = 8.3474e-07\n"
     ]
    },
    {
     "name": "stderr",
     "output_type": "stream",
     "text": [
      "Self-intersection at or near point 3092.3701657458564 1862.4972375690609\n",
      "WARNING:shapely.geos:Self-intersection at or near point 3092.3701657458564 1862.4972375690609\n"
     ]
    },
    {
     "name": "stdout",
     "output_type": "stream",
     "text": [
      "imageId = 6100_1_3, threshold = 0.3100, jaccard score = 0.3783, InterArea = 8.7654e-07, UnionArea = 2.3170e-06\n"
     ]
    },
    {
     "name": "stderr",
     "output_type": "stream",
     "text": [
      "Self-intersection at or near point 3374.4903299203643 2987.0762229806596\n",
      "WARNING:shapely.geos:Self-intersection at or near point 3374.4903299203643 2987.0762229806596\n"
     ]
    },
    {
     "name": "stdout",
     "output_type": "stream",
     "text": [
      "imageId = 6100_2_2, threshold = 0.3100, jaccard score = 0.2915, InterArea = 3.9014e-07, UnionArea = 1.3385e-06\n"
     ]
    },
    {
     "name": "stderr",
     "output_type": "stream",
     "text": [
      "Self-intersection at or near point 3222.0153846153844 174.64615384615385\n",
      "WARNING:shapely.geos:Self-intersection at or near point 3222.0153846153844 174.64615384615385\n"
     ]
    },
    {
     "name": "stdout",
     "output_type": "stream",
     "text": [
      "imageId = 6100_2_3, threshold = 0.3100, jaccard score = 0.2804, InterArea = 4.0176e-07, UnionArea = 1.4326e-06\n"
     ]
    },
    {
     "name": "stderr",
     "output_type": "stream",
     "text": [
      "Self-intersection at or near point 3247.8447058823531 1008.2976470588235\n",
      "WARNING:shapely.geos:Self-intersection at or near point 3247.8447058823531 1008.2976470588235\n"
     ]
    },
    {
     "name": "stdout",
     "output_type": "stream",
     "text": [
      "imageId = 6110_1_2, threshold = 0.3100, jaccard score = 0.0000, InterArea = 0.0000e+00, UnionArea = 1.4061e-06\n"
     ]
    },
    {
     "name": "stderr",
     "output_type": "stream",
     "text": [
      "Self-intersection at or near point 2289.9538461538464 345.64615384615382\n",
      "WARNING:shapely.geos:Self-intersection at or near point 2289.9538461538464 345.64615384615382\n"
     ]
    },
    {
     "name": "stdout",
     "output_type": "stream",
     "text": [
      "imageId = 6110_3_1, threshold = 0.3100, jaccard score = 0.4580, InterArea = 1.7571e-06, UnionArea = 3.8360e-06\n"
     ]
    },
    {
     "name": "stderr",
     "output_type": "stream",
     "text": [
      "Self-intersection at or near point 3339.4316546762589 560.30215827338134\n",
      "WARNING:shapely.geos:Self-intersection at or near point 3339.4316546762589 560.30215827338134\n"
     ]
    },
    {
     "name": "stdout",
     "output_type": "stream",
     "text": [
      "imageId = 6110_4_0, threshold = 0.3100, jaccard score = 0.5858, InterArea = 1.1902e-06, UnionArea = 2.0319e-06\n"
     ]
    },
    {
     "name": "stderr",
     "output_type": "stream",
     "text": [
      "Self-intersection at or near point 3284.8108108108108 1680.3513513513512\n",
      "WARNING:shapely.geos:Self-intersection at or near point 3284.8108108108108 1680.3513513513512\n"
     ]
    },
    {
     "name": "stdout",
     "output_type": "stream",
     "text": [
      "imageId = 6120_2_0, threshold = 0.3100, jaccard score = 0.0883, InterArea = 7.6047e-08, UnionArea = 8.6083e-07\n"
     ]
    },
    {
     "name": "stderr",
     "output_type": "stream",
     "text": [
      "Self-intersection at or near point 3394.3505154639174 2180.9621993127148\n",
      "WARNING:shapely.geos:Self-intersection at or near point 3394.3505154639174 2180.9621993127148\n"
     ]
    },
    {
     "name": "stdout",
     "output_type": "stream",
     "text": [
      "imageId = 6120_2_2, threshold = 0.3100, jaccard score = 0.3407, InterArea = 1.5507e-06, UnionArea = 4.5515e-06\n"
     ]
    },
    {
     "name": "stderr",
     "output_type": "stream",
     "text": [
      "Self-intersection at or near point 2410 1352\n",
      "WARNING:shapely.geos:Self-intersection at or near point 2410 1352\n"
     ]
    },
    {
     "name": "stdout",
     "output_type": "stream",
     "text": [
      "imageId = 6140_1_2, threshold = 0.3100, jaccard score = 0.0000, InterArea = 0.0000e+00, UnionArea = 6.6332e-07\n"
     ]
    },
    {
     "name": "stderr",
     "output_type": "stream",
     "text": [
      "Self-intersection at or near point 231.24000000000001 2941.0799999999999\n",
      "WARNING:shapely.geos:Self-intersection at or near point 231.24000000000001 2941.0799999999999\n"
     ]
    },
    {
     "name": "stdout",
     "output_type": "stream",
     "text": [
      "imageId = 6140_3_1, threshold = 0.3100, jaccard score = 0.4266, InterArea = 1.3370e-06, UnionArea = 3.1336e-06\n",
      "Averaged Jaccard Score =  [0.344046066101306]\n"
     ]
    }
   ],
   "source": [
    "## optimize threshold values\n",
    "\n",
    "class_type = 3\n",
    "\n",
    "clfs = joblib.load('clfs_17Bands.pkl')\n",
    "\n",
    "val_image_id = train_wkt[(train_wkt['ClassType']==class_type) \n",
    "          & (train_wkt['MultipolygonWKT']!='MULTIPOLYGON EMPTY')].ImageId.unique().tolist()\n",
    "val_image_id = sorted(val_image_id)\n",
    "\n",
    "# threshold = [0.28, 0.29, 0.3, 0.31, 0.32]\n",
    "# [0.32164377285245976, 0.30119516364728655, 0.30483909158891853, 0.344046066101306, 0.3047670360388596]\n",
    "threshold = [0.31]\n",
    "\n",
    "jaccard_list = []\n",
    "for i in threshold:\n",
    "    areaInter = 0\n",
    "    areaUnion = 0\n",
    "    for j in range(len(val_image_id)):\n",
    "        # prepare validaiton data\n",
    "        val_x, val_y, val_p = image_to_train(image_id = val_image_id[j], \n",
    "                                             class_type = class_type, image_type = 'withLabel')\n",
    "\n",
    "        # Plot original validation polygons\n",
    "        # plot_polygons(image_id = val_image_id[j], polygonsList = {class_type:val_p}, figsize=(5,5))\n",
    "\n",
    "        # Plot predicted validation polygons - how well the model generaalizes\n",
    "        pred_val_y, pred_val_wkt, pred_val_p = predict_class(clf = clfs[class_type], image_id = val_image_id[j], \n",
    "                                                             threshold = i, image_type = 'withLabel')\n",
    "        # plot_polygons(image_id = val_image_id[j], polygonsList = {class_type:pred_val_p}, figsize=(5,5))\n",
    "        \n",
    "        t_areaInter = pred_val_p.intersection(val_p)\n",
    "        if not t_areaInter.is_valid:\n",
    "            t_areaInter = t_areaInter.buffer(0)\n",
    "            \n",
    "        t_areaUnion = pred_val_p.union(val_p)\n",
    "        if not t_areaUnion.is_valid:\n",
    "            t_areaUnion = t_areaUnion.buffer(0)    \n",
    "            \n",
    "        print('imageId = {:^8}, threshold = {:.4f}, jaccard score = {:.4f}, InterArea = {:.4e}, UnionArea = {:.4e}'\n",
    "              .format(val_image_id[j], i, t_areaInter.area / t_areaUnion.area, \n",
    "                      t_areaInter.area, t_areaUnion.union(val_p).area))\n",
    "                \n",
    "        areaInter += t_areaInter.area \n",
    "        areaUnion += t_areaUnion.area\n",
    "        \n",
    "    jaccard_list.append(areaInter/areaUnion)\n",
    "    \n",
    "print('Averaged Jaccard Score = ', jaccard_list)  \n"
   ]
  },
  {
   "cell_type": "markdown",
   "metadata": {},
   "source": [
    "##  4_Track"
   ]
  },
  {
   "cell_type": "code",
   "execution_count": 24,
   "metadata": {
    "collapsed": false
   },
   "outputs": [
    {
     "name": "stdout",
     "output_type": "stream",
     "text": [
      "23 ['6040_2_2', '6120_2_2', '6120_2_0', '6090_2_0', '6040_1_3', '6040_1_0', '6100_1_3', '6010_4_2', '6110_4_0', '6140_3_1', '6110_1_2', '6100_2_3', '6150_2_3', '6160_2_1', '6140_1_2', '6110_3_1', '6170_2_4', '6170_4_1', '6170_0_4', '6060_2_3', '6010_1_2', '6040_4_4', '6100_2_2']\n",
      "Loading data for class type 4\n",
      "Data loaded in 165 seconds. (8596101, 17) (8596101,)\n",
      "4 ['6120_2_2', '6100_1_3', '6110_1_2', '6160_2_1']\n",
      "Loading data for class type 4\n",
      "Data loaded in 33 seconds. (42291943, 17) (42291943,)\n",
      "Removing Duplicated Data ...\n",
      "Data loaded in 193 seconds. (34928440, 17) (34928440,)\n",
      "8 ['6120_2_0', '6110_4_0', '6140_3_1', '6100_2_3', '6140_1_2', '6110_3_1', '6070_2_3', '6100_2_2']\n",
      "Loading data for class type 3\n",
      "Data loaded in 58 seconds. (1554620, 17) (1554620,)\n",
      "Data Shape:  (45079161, 17) (45079161,)\n"
     ]
    }
   ],
   "source": [
    "class_type = 4\n",
    "\n",
    "# data with labels\n",
    "val_image_id = []\n",
    "train_x, train_y = load_train_pixels(class_type = class_type, val_ids = val_image_id, image_type = 'withLabel')\n",
    "\n",
    "# data without labels => 6100_1_3 + 6110_1_2 + 6120_2_2 + 6160_2_1\n",
    "val_image_id = ['6010_1_2', '6010_4_2', '6040_1_0', '6040_1_3', '6040_2_2', '6040_4_4', \n",
    "                '6060_2_3', '6090_2_0', '6100_2_2', '6100_2_3', '6110_3_1', '6110_4_0', \n",
    "                '6120_2_0', '6140_1_2', '6140_3_1', '6150_2_3', '6170_0_4', '6170_2_4', '6170_4_1']\n",
    "train_x_wl, train_y_wl = load_train_pixels(class_type = class_type, val_ids = val_image_id, image_type = 'withoutLabel')\n",
    "# remove duplicates\n",
    "print (\"Removing Duplicated Data ...\")\n",
    "start = time.time()\n",
    "t = unique_rows(np.hstack((train_x_wl, train_y_wl.reshape([-1,1]))))\n",
    "train_x_wl = t[:,:-1]\n",
    "train_y_wl = t[:,-1]\n",
    "del t\n",
    "print (\"Data loaded in %d seconds.\" % (time.time() - start), train_x_wl.shape, train_y_wl.shape)\n",
    "\n",
    "# 3_Road data without labels =>\n",
    "val_image_id = ['6100_1_3', '6110_1_2', '6120_2_2']\n",
    "train_x_road, train_y_road = load_train_pixels(class_type = 3, val_ids = val_image_id, image_type = 'withLabel')\n",
    "train_y_road = np.array([0] * len(train_y_road))\n",
    "\n",
    "# stack the data\n",
    "train_x = np.vstack((train_x, train_x_wl, train_x_road))\n",
    "train_y = np.hstack((train_y, train_y_wl, train_y_road))\n",
    "\n",
    "del train_x_wl, train_y_wl, train_x_road, train_y_road\n",
    "print (\"Data Shape: \", train_x.shape, train_y.shape)"
   ]
  },
  {
   "cell_type": "code",
   "execution_count": 25,
   "metadata": {
    "collapsed": false
   },
   "outputs": [
    {
     "name": "stdout",
     "output_type": "stream",
     "text": [
      "training...\n",
      "training for class type 4 finishied in 1230 seconds...\n",
      "Training AUC:  0.865725536729\n"
     ]
    }
   ],
   "source": [
    "class_type = 4\n",
    "\n",
    "pipeline = make_pipeline(StandardScaler(), xgb.XGBClassifier(n_estimators = 100))\n",
    "start = time.time()\n",
    "print('training...')\n",
    "pipeline.fit(train_x, train_y)\n",
    "\n",
    "clfs = joblib.load('clfs_17Bands.pkl')\n",
    "clfs[class_type] = pipeline\n",
    "joblib.dump(clfs, 'clfs_17Bands.pkl')\n",
    "\n",
    "print('training for class type %d finishied in %d seconds...' % (class_type, time.time()-start))\n",
    "        \n",
    "## Show model accuracy: Use AUC because single class is a skwed binary classfication where AUC works better.\n",
    "pred_train_y = clfs[class_type].predict_proba(train_x)[:,1]\n",
    "\n",
    "print (\"Training AUC: \", roc_auc_score(y_true = train_y, y_score = pred_train_y))"
   ]
  },
  {
   "cell_type": "code",
   "execution_count": 22,
   "metadata": {
    "collapsed": false,
    "scrolled": true
   },
   "outputs": [
    {
     "name": "stdout",
     "output_type": "stream",
     "text": [
      "imageId = 6010_1_2, threshold = 0.1000, jaccard score = 0.0134, InterArea = 1.1061e-06, UnionArea = 8.2809e-05\n",
      "imageId = 6010_4_2, threshold = 0.1000, jaccard score = 0.0195, InterArea = 1.6135e-06, UnionArea = 8.2699e-05\n"
     ]
    },
    {
     "name": "stderr",
     "output_type": "stream",
     "text": [
      "Self-intersection at or near point 3355.5659722222222 2661.0416666666665\n",
      "WARNING:shapely.geos:Self-intersection at or near point 3355.5659722222222 2661.0416666666665\n"
     ]
    },
    {
     "name": "stdout",
     "output_type": "stream",
     "text": [
      "imageId = 6040_1_0, threshold = 0.1000, jaccard score = 0.0223, InterArea = 1.1930e-06, UnionArea = 5.3403e-05\n"
     ]
    },
    {
     "name": "stderr",
     "output_type": "stream",
     "text": [
      "Self-intersection at or near point 3172.6019032513877 1924.0467882632831\n",
      "WARNING:shapely.geos:Self-intersection at or near point 3172.6019032513877 1924.0467882632831\n"
     ]
    },
    {
     "name": "stdout",
     "output_type": "stream",
     "text": [
      "imageId = 6040_1_3, threshold = 0.1000, jaccard score = 0.0021, InterArea = 1.6712e-07, UnionArea = 8.1046e-05\n"
     ]
    },
    {
     "name": "stderr",
     "output_type": "stream",
     "text": [
      "Self-intersection at or near point 3328.9601593625498 3099.1225099601593\n",
      "WARNING:shapely.geos:Self-intersection at or near point 3328.9601593625498 3099.1225099601593\n"
     ]
    },
    {
     "name": "stdout",
     "output_type": "stream",
     "text": [
      "imageId = 6040_2_2, threshold = 0.1000, jaccard score = 0.0137, InterArea = 7.7829e-07, UnionArea = 5.6890e-05\n"
     ]
    },
    {
     "name": "stderr",
     "output_type": "stream",
     "text": [
      "Self-intersection at or near point 79 1588.4444444444443\n",
      "WARNING:shapely.geos:Self-intersection at or near point 79 1588.4444444444443\n"
     ]
    },
    {
     "name": "stdout",
     "output_type": "stream",
     "text": [
      "imageId = 6040_4_4, threshold = 0.1000, jaccard score = 0.0190, InterArea = 1.5598e-06, UnionArea = 8.2097e-05\n"
     ]
    },
    {
     "name": "stderr",
     "output_type": "stream",
     "text": [
      "Self-intersection at or near point 1643.7847222222222 280.30555555555554\n",
      "WARNING:shapely.geos:Self-intersection at or near point 1643.7847222222222 280.30555555555554\n"
     ]
    },
    {
     "name": "stdout",
     "output_type": "stream",
     "text": [
      "imageId = 6060_2_3, threshold = 0.1000, jaccard score = 0.0303, InterArea = 2.5082e-06, UnionArea = 8.2756e-05\n",
      "imageId = 6090_2_0, threshold = 0.1000, jaccard score = 0.0041, InterArea = 3.3724e-07, UnionArea = 8.2565e-05\n"
     ]
    },
    {
     "name": "stderr",
     "output_type": "stream",
     "text": [
      "Self-intersection at or near point 3381.4100719424459 3008.5863309352517\n",
      "WARNING:shapely.geos:Self-intersection at or near point 3381.4100719424459 3008.5863309352517\n"
     ]
    },
    {
     "name": "stdout",
     "output_type": "stream",
     "text": [
      "imageId = 6100_1_3, threshold = 0.1000, jaccard score = 0.1645, InterArea = 9.7193e-06, UnionArea = 5.9070e-05\n"
     ]
    },
    {
     "name": "stderr",
     "output_type": "stream",
     "text": [
      "Self-intersection at or near point 3383.9661399548531 1129.0835214446952\n",
      "WARNING:shapely.geos:Self-intersection at or near point 3383.9661399548531 1129.0835214446952\n"
     ]
    },
    {
     "name": "stdout",
     "output_type": "stream",
     "text": [
      "imageId = 6100_2_2, threshold = 0.1000, jaccard score = 0.0544, InterArea = 2.9396e-06, UnionArea = 5.4002e-05\n"
     ]
    },
    {
     "name": "stderr",
     "output_type": "stream",
     "text": [
      "Self-intersection at or near point 3344.2781065088757 1301.1863905325445\n",
      "WARNING:shapely.geos:Self-intersection at or near point 3344.2781065088757 1301.1863905325445\n"
     ]
    },
    {
     "name": "stdout",
     "output_type": "stream",
     "text": [
      "imageId = 6100_2_3, threshold = 0.1000, jaccard score = 0.1293, InterArea = 7.7452e-06, UnionArea = 5.9900e-05\n"
     ]
    },
    {
     "name": "stderr",
     "output_type": "stream",
     "text": [
      "Self-intersection at or near point 3373.6270967741934 2778.251612903226\n",
      "WARNING:shapely.geos:Self-intersection at or near point 3373.6270967741934 2778.251612903226\n"
     ]
    },
    {
     "name": "stdout",
     "output_type": "stream",
     "text": [
      "imageId = 6110_1_2, threshold = 0.1000, jaccard score = 0.0770, InterArea = 2.3031e-06, UnionArea = 2.9917e-05\n"
     ]
    },
    {
     "name": "stderr",
     "output_type": "stream",
     "text": [
      "Self-intersection at or near point 3349.3394209354119 1689.9581291759466\n",
      "WARNING:shapely.geos:Self-intersection at or near point 3349.3394209354119 1689.9581291759466\n"
     ]
    },
    {
     "name": "stdout",
     "output_type": "stream",
     "text": [
      "imageId = 6110_3_1, threshold = 0.1000, jaccard score = 0.0568, InterArea = 1.8548e-06, UnionArea = 3.2633e-05\n"
     ]
    },
    {
     "name": "stderr",
     "output_type": "stream",
     "text": [
      "Self-intersection at or near point 3387.1971830985917 1170.9507042253522\n",
      "WARNING:shapely.geos:Self-intersection at or near point 3387.1971830985917 1170.9507042253522\n"
     ]
    },
    {
     "name": "stdout",
     "output_type": "stream",
     "text": [
      "imageId = 6110_4_0, threshold = 0.1000, jaccard score = 0.0610, InterArea = 1.8764e-06, UnionArea = 3.0753e-05\n"
     ]
    },
    {
     "name": "stderr",
     "output_type": "stream",
     "text": [
      "Self-intersection at or near point 1112 824\n",
      "WARNING:shapely.geos:Self-intersection at or near point 1112 824\n"
     ]
    },
    {
     "name": "stdout",
     "output_type": "stream",
     "text": [
      "imageId = 6120_2_0, threshold = 0.1000, jaccard score = 0.0443, InterArea = 3.6578e-06, UnionArea = 8.2568e-05\n"
     ]
    },
    {
     "name": "stderr",
     "output_type": "stream",
     "text": [
      "Self-intersection at or near point 3225.705035971223 3031.6546762589928\n",
      "WARNING:shapely.geos:Self-intersection at or near point 3225.705035971223 3031.6546762589928\n"
     ]
    },
    {
     "name": "stdout",
     "output_type": "stream",
     "text": [
      "imageId = 6120_2_2, threshold = 0.1000, jaccard score = 0.0958, InterArea = 7.1710e-06, UnionArea = 7.4844e-05\n"
     ]
    },
    {
     "name": "stderr",
     "output_type": "stream",
     "text": [
      "Self-intersection at or near point 3071.6638655462184 1066.3697478991596\n",
      "WARNING:shapely.geos:Self-intersection at or near point 3071.6638655462184 1066.3697478991596\n"
     ]
    },
    {
     "name": "stdout",
     "output_type": "stream",
     "text": [
      "imageId = 6140_1_2, threshold = 0.1000, jaccard score = 0.0433, InterArea = 3.4202e-06, UnionArea = 7.8929e-05\n"
     ]
    },
    {
     "name": "stderr",
     "output_type": "stream",
     "text": [
      "Self-intersection at or near point 1570.6923076923076 952.18343195266277\n",
      "WARNING:shapely.geos:Self-intersection at or near point 1570.6923076923076 952.18343195266277\n"
     ]
    },
    {
     "name": "stdout",
     "output_type": "stream",
     "text": [
      "imageId = 6140_3_1, threshold = 0.1000, jaccard score = 0.0262, InterArea = 2.0810e-06, UnionArea = 7.9443e-05\n"
     ]
    },
    {
     "name": "stderr",
     "output_type": "stream",
     "text": [
      "Self-intersection at or near point 3125.8297872340427 1475.4893617021276\n",
      "WARNING:shapely.geos:Self-intersection at or near point 3125.8297872340427 1475.4893617021276\n"
     ]
    },
    {
     "name": "stdout",
     "output_type": "stream",
     "text": [
      "imageId = 6150_2_3, threshold = 0.1000, jaccard score = 0.0303, InterArea = 2.4958e-06, UnionArea = 8.2498e-05\n"
     ]
    },
    {
     "name": "stderr",
     "output_type": "stream",
     "text": [
      "Self-intersection at or near point 3384.0356832027851 197.31592689295039\n",
      "WARNING:shapely.geos:Self-intersection at or near point 3384.0356832027851 197.31592689295039\n"
     ]
    },
    {
     "name": "stdout",
     "output_type": "stream",
     "text": [
      "imageId = 6160_2_1, threshold = 0.1000, jaccard score = 0.1366, InterArea = 1.5119e-06, UnionArea = 1.1069e-05\n",
      "imageId = 6170_0_4, threshold = 0.1000, jaccard score = 0.0020, InterArea = 1.6376e-07, UnionArea = 8.2624e-05\n",
      "imageId = 6170_2_4, threshold = 0.1000, jaccard score = 0.0251, InterArea = 2.0741e-06, UnionArea = 8.2640e-05\n",
      "imageId = 6170_4_1, threshold = 0.1000, jaccard score = 0.0013, InterArea = 1.1138e-07, UnionArea = 8.2789e-05\n",
      "Averaged Jaccard Score =  [0.03821381183069426]\n"
     ]
    }
   ],
   "source": [
    "## optimize threshold values\n",
    "\n",
    "class_type = 4\n",
    "\n",
    "clfs = joblib.load('clfs_17Bands.pkl')\n",
    "\n",
    "val_image_id = train_wkt[(train_wkt['ClassType']==class_type) \n",
    "          & (train_wkt['MultipolygonWKT']!='MULTIPOLYGON EMPTY')].ImageId.unique().tolist()\n",
    "val_image_id = sorted(val_image_id)\n",
    "\n",
    "threshold = [0.1]\n",
    "#threshold =  [0.05, 0.1, 0.2]\n",
    "#[ 0.03446457730712046, 0.03820135681964416, 0.0372907621284865]\n",
    "\n",
    "jaccard_list = []\n",
    "for i in threshold:\n",
    "    areaInter = 0\n",
    "    areaUnion = 0\n",
    "    for j in range(len(val_image_id)):\n",
    "        # prepare validaiton data\n",
    "        val_x, val_y, val_p = image_to_train(image_id = val_image_id[j], \n",
    "                                             class_type = class_type, image_type = 'withLabel')\n",
    "\n",
    "        # Plot original validation polygons\n",
    "        # plot_polygons(image_id = val_image_id[j], polygonsList = {class_type:val_p}, figsize=(5,5))\n",
    "\n",
    "        # Plot predicted validation polygons - how well the model generaalizes\n",
    "        pred_val_y, pred_val_wkt, pred_val_p = predict_class(clf = clfs[class_type], image_id = val_image_id[j], \n",
    "                                                             threshold = i, image_type = 'withLabel')\n",
    "        # plot_polygons(image_id = val_image_id[j], polygonsList = {class_type:pred_val_p}, figsize=(5,5))\n",
    "         \n",
    "        print('imageId = {:^8}, threshold = {:.4f}, jaccard score = {:.4f}, InterArea = {:.4e}, UnionArea = {:.4e}'\n",
    "              .format(val_image_id[j], i, pred_val_p.intersection(val_p).area / pred_val_p.union(val_p).area, \n",
    "                pred_val_p.intersection(val_p).area, pred_val_p.union(val_p).area))\n",
    "                \n",
    "        areaInter += pred_val_p.intersection(val_p).area \n",
    "        areaUnion += pred_val_p.union(val_p).area\n",
    "        \n",
    "    jaccard_list.append(areaInter/areaUnion)\n",
    "    \n",
    "print('Averaged Jaccard Score = ', jaccard_list)  \n"
   ]
  },
  {
   "cell_type": "markdown",
   "metadata": {},
   "source": [
    "## 5_Trees"
   ]
  },
  {
   "cell_type": "code",
   "execution_count": 8,
   "metadata": {
    "collapsed": false
   },
   "outputs": [
    {
     "name": "stdout",
     "output_type": "stream",
     "text": [
      "25 ['6040_2_2', '6120_2_2', '6120_2_0', '6090_2_0', '6040_1_3', '6040_1_0', '6100_1_3', '6010_4_2', '6110_4_0', '6140_3_1', '6110_1_2', '6100_2_3', '6150_2_3', '6160_2_1', '6140_1_2', '6110_3_1', '6010_4_4', '6170_2_4', '6170_4_1', '6170_0_4', '6060_2_3', '6070_2_3', '6010_1_2', '6040_4_4', '6100_2_2']\n",
      "Loading data for class type 5\n",
      "Data loaded in 224 seconds. (30777127, 17) (30777127,)\n",
      "Removing Duplicated Data ...\n",
      "Data loaded in 137 seconds. (25490207, 17) (25490207,)\n",
      "5 ['6040_1_3', '6110_4_0', '6150_2_3', '6070_2_3', '6100_2_2']\n",
      "Loading data for class type 5\n",
      "Data loaded in 52 seconds. (49301924, 17) (49301924,)\n",
      "Removing Duplicated Data ...\n",
      "Data loaded in 236 seconds. (39409192, 17) (39409192,)\n",
      "Data Shape:  (64899399, 17) (64899399,)\n"
     ]
    }
   ],
   "source": [
    "class_type = 5\n",
    "\n",
    "val_image_id = []\n",
    "# data with labels\n",
    "train_x, train_y = load_train_pixels(class_type = class_type, val_ids = val_image_id, image_type = 'withLabel')\n",
    "# remove duplicates\n",
    "print (\"Removing Duplicated Data ...\")\n",
    "start = time.time()\n",
    "t = unique_rows(np.hstack((train_x, train_y.reshape([-1,1]))))\n",
    "train_x = t[:,:-1]\n",
    "train_y = t[:,-1]\n",
    "del t\n",
    "print (\"Data loaded in %d seconds.\" % (time.time() - start), train_x.shape, train_y.shape)\n",
    "\n",
    "# data without labels =>  6040_1_3 + 6070_2_3 + 6100_2_2 + 6110_4_0 + 6150_2_3\n",
    "val_image_id = ['6010_1_2', '6010_4_2', '6010_4_4', '6040_1_0', '6040_2_2', '6040_4_4', '6060_2_3', \n",
    "                '6090_2_0', '6100_1_3', '6100_2_3', '6110_1_2', '6110_3_1', '6120_2_0', '6120_2_2', \n",
    "                '6140_1_2', '6140_3_1', '6160_2_1', '6170_0_4', '6170_2_4', '6170_4_1']\n",
    "train_x_wl, train_y_wl = load_train_pixels(class_type = class_type, val_ids = val_image_id, image_type = 'withoutLabel')\n",
    "# remove duplicates\n",
    "print (\"Removing Duplicated Data ...\")\n",
    "start = time.time()\n",
    "t = unique_rows(np.hstack((train_x_wl, train_y_wl.reshape([-1,1]))))\n",
    "train_x_wl = t[:,:-1]\n",
    "train_y_wl = t[:,-1]\n",
    "del t\n",
    "print (\"Data loaded in %d seconds.\" % (time.time() - start), train_x_wl.shape, train_y_wl.shape)\n",
    "\n",
    "# stack the data\n",
    "train_x = np.vstack((train_x, train_x_wl))\n",
    "train_y = np.hstack((train_y, train_y_wl))\n",
    "\n",
    "del train_x_wl, train_y_wl\n",
    "print (\"Data Shape: \", train_x.shape, train_y.shape)"
   ]
  },
  {
   "cell_type": "code",
   "execution_count": 15,
   "metadata": {
    "collapsed": false
   },
   "outputs": [
    {
     "name": "stdout",
     "output_type": "stream",
     "text": [
      "training...\n",
      "training for class type 6 finishied in 6988 seconds...\n",
      "Training AUC:  0.944733128611\n"
     ]
    }
   ],
   "source": [
    "class_type = 5\n",
    "\n",
    "pipeline = make_pipeline(StandardScaler(), xgb.XGBClassifier(n_estimators = 100))\n",
    "start = time.time()\n",
    "print('training...')\n",
    "pipeline.fit(train_x, train_y)\n",
    "\n",
    "clfs = joblib.load('clfs_17Bands.pkl')\n",
    "clfs[class_type] = pipeline\n",
    "joblib.dump(clfs, 'clfs_17Bands.pkl')\n",
    "\n",
    "print('training for class type %d finishied in %d seconds...' % (class_type, time.time()-start))\n",
    "        \n",
    "## Show model accuracy: Use AUC because single class is a skwed binary classfication where AUC works better.\n",
    "pred_train_y = clfs[class_type].predict_proba(train_x)[:,1]\n",
    "\n",
    "print (\"Training AUC: \", roc_auc_score(y_true = train_y, y_score = pred_train_y))"
   ]
  },
  {
   "cell_type": "code",
   "execution_count": 19,
   "metadata": {
    "collapsed": false,
    "scrolled": true
   },
   "outputs": [
    {
     "name": "stderr",
     "output_type": "stream",
     "text": [
      "Self-intersection at or near point 3376.1118012422362 549.10559006211179\n",
      "WARNING:shapely.geos:Self-intersection at or near point 3376.1118012422362 549.10559006211179\n"
     ]
    },
    {
     "name": "stdout",
     "output_type": "stream",
     "text": [
      "imageId = 6010_1_2, threshold = 0.6000, jaccard score = 0.1352, InterArea = 2.7620e-06, UnionArea = 2.0427e-05\n"
     ]
    },
    {
     "name": "stderr",
     "output_type": "stream",
     "text": [
      "Self-intersection at or near point 3269.5555555555557 1043.4444444444443\n",
      "WARNING:shapely.geos:Self-intersection at or near point 3269.5555555555557 1043.4444444444443\n"
     ]
    },
    {
     "name": "stdout",
     "output_type": "stream",
     "text": [
      "imageId = 6010_4_2, threshold = 0.6000, jaccard score = 0.3123, InterArea = 5.8702e-06, UnionArea = 1.8797e-05\n"
     ]
    },
    {
     "name": "stderr",
     "output_type": "stream",
     "text": [
      "Self-intersection at or near point 3384.7368421052633 2037.8421052631579\n",
      "WARNING:shapely.geos:Self-intersection at or near point 3384.7368421052633 2037.8421052631579\n"
     ]
    },
    {
     "name": "stdout",
     "output_type": "stream",
     "text": [
      "imageId = 6010_4_4, threshold = 0.6000, jaccard score = 0.3175, InterArea = 1.5709e-05, UnionArea = 4.9473e-05\n"
     ]
    },
    {
     "name": "stderr",
     "output_type": "stream",
     "text": [
      "Self-intersection at or near point 3295.2613636363635 1843.8181818181818\n",
      "WARNING:shapely.geos:Self-intersection at or near point 3295.2613636363635 1843.8181818181818\n"
     ]
    },
    {
     "name": "stdout",
     "output_type": "stream",
     "text": [
      "imageId = 6040_1_0, threshold = 0.6000, jaccard score = 0.1390, InterArea = 4.0160e-06, UnionArea = 2.8900e-05\n"
     ]
    },
    {
     "name": "stderr",
     "output_type": "stream",
     "text": [
      "Self-intersection at or near point 3369.1011235955057 2854.2134831460676\n",
      "WARNING:shapely.geos:Self-intersection at or near point 3369.1011235955057 2854.2134831460676\n"
     ]
    },
    {
     "name": "stdout",
     "output_type": "stream",
     "text": [
      "imageId = 6040_1_3, threshold = 0.6000, jaccard score = 0.3774, InterArea = 8.4775e-06, UnionArea = 2.2465e-05\n"
     ]
    },
    {
     "name": "stderr",
     "output_type": "stream",
     "text": [
      "Self-intersection at or near point 3383.9172259507832 2500.3154362416108\n",
      "WARNING:shapely.geos:Self-intersection at or near point 3383.9172259507832 2500.3154362416108\n"
     ]
    },
    {
     "name": "stdout",
     "output_type": "stream",
     "text": [
      "imageId = 6040_2_2, threshold = 0.6000, jaccard score = 0.3382, InterArea = 1.1746e-05, UnionArea = 3.4728e-05\n"
     ]
    },
    {
     "name": "stderr",
     "output_type": "stream",
     "text": [
      "Self-intersection at or near point 2550.1296660117878 2457.8349705304518\n",
      "WARNING:shapely.geos:Self-intersection at or near point 2550.1296660117878 2457.8349705304518\n"
     ]
    },
    {
     "name": "stdout",
     "output_type": "stream",
     "text": [
      "imageId = 6040_4_4, threshold = 0.6000, jaccard score = 0.2040, InterArea = 7.1759e-07, UnionArea = 3.5172e-06\n"
     ]
    },
    {
     "name": "stderr",
     "output_type": "stream",
     "text": [
      "Self-intersection at or near point 3362.9677419354839 236\n",
      "WARNING:shapely.geos:Self-intersection at or near point 3362.9677419354839 236\n"
     ]
    },
    {
     "name": "stdout",
     "output_type": "stream",
     "text": [
      "imageId = 6060_2_3, threshold = 0.6000, jaccard score = 0.2513, InterArea = 6.3466e-06, UnionArea = 2.5252e-05\n"
     ]
    },
    {
     "name": "stderr",
     "output_type": "stream",
     "text": [
      "Self-intersection at or near point 3172.7116279069769 945.3441860465116\n",
      "WARNING:shapely.geos:Self-intersection at or near point 3172.7116279069769 945.3441860465116\n"
     ]
    },
    {
     "name": "stdout",
     "output_type": "stream",
     "text": [
      "imageId = 6070_2_3, threshold = 0.6000, jaccard score = 0.1558, InterArea = 2.1232e-06, UnionArea = 1.3625e-05\n"
     ]
    },
    {
     "name": "stderr",
     "output_type": "stream",
     "text": [
      "Self-intersection at or near point 3342.2538071065992 1794.0270727580373\n",
      "WARNING:shapely.geos:Self-intersection at or near point 3342.2538071065992 1794.0270727580373\n"
     ]
    },
    {
     "name": "stdout",
     "output_type": "stream",
     "text": [
      "imageId = 6090_2_0, threshold = 0.6000, jaccard score = 0.1065, InterArea = 8.3314e-06, UnionArea = 7.8226e-05\n"
     ]
    },
    {
     "name": "stderr",
     "output_type": "stream",
     "text": [
      "Self-intersection at or near point 3362.1599353796446 922.83683360258476\n",
      "WARNING:shapely.geos:Self-intersection at or near point 3362.1599353796446 922.83683360258476\n"
     ]
    },
    {
     "name": "stdout",
     "output_type": "stream",
     "text": [
      "imageId = 6100_1_3, threshold = 0.6000, jaccard score = 0.3005, InterArea = 1.9136e-06, UnionArea = 6.3684e-06\n"
     ]
    },
    {
     "name": "stderr",
     "output_type": "stream",
     "text": [
      "Self-intersection at or near point 3367.2732919254659 1366.7888198757764\n",
      "WARNING:shapely.geos:Self-intersection at or near point 3367.2732919254659 1366.7888198757764\n"
     ]
    },
    {
     "name": "stdout",
     "output_type": "stream",
     "text": [
      "imageId = 6100_2_2, threshold = 0.6000, jaccard score = 0.2662, InterArea = 1.9049e-06, UnionArea = 7.1571e-06\n"
     ]
    },
    {
     "name": "stderr",
     "output_type": "stream",
     "text": [
      "Self-intersection at or near point 3347.705882352941 3088.4117647058824\n",
      "WARNING:shapely.geos:Self-intersection at or near point 3347.705882352941 3088.4117647058824\n"
     ]
    },
    {
     "name": "stdout",
     "output_type": "stream",
     "text": [
      "imageId = 6100_2_3, threshold = 0.6000, jaccard score = 0.3608, InterArea = 2.7651e-06, UnionArea = 7.6626e-06\n"
     ]
    },
    {
     "name": "stderr",
     "output_type": "stream",
     "text": [
      "Self-intersection at or near point 3339.3076923076924 948.99038461538464\n",
      "WARNING:shapely.geos:Self-intersection at or near point 3339.3076923076924 948.99038461538464\n"
     ]
    },
    {
     "name": "stdout",
     "output_type": "stream",
     "text": [
      "imageId = 6110_1_2, threshold = 0.6000, jaccard score = 0.1538, InterArea = 1.2748e-06, UnionArea = 8.2900e-06\n"
     ]
    },
    {
     "name": "stderr",
     "output_type": "stream",
     "text": [
      "Self-intersection at or near point 2984.9354838709678 1870.1935483870968\n",
      "WARNING:shapely.geos:Self-intersection at or near point 2984.9354838709678 1870.1935483870968\n"
     ]
    },
    {
     "name": "stdout",
     "output_type": "stream",
     "text": [
      "imageId = 6110_3_1, threshold = 0.6000, jaccard score = 0.4265, InterArea = 2.3225e-06, UnionArea = 5.4457e-06\n"
     ]
    },
    {
     "name": "stderr",
     "output_type": "stream",
     "text": [
      "Self-intersection at or near point 3342.2752293577983 253.18577981651376\n",
      "WARNING:shapely.geos:Self-intersection at or near point 3342.2752293577983 253.18577981651376\n"
     ]
    },
    {
     "name": "stdout",
     "output_type": "stream",
     "text": [
      "imageId = 6110_4_0, threshold = 0.6000, jaccard score = 0.4216, InterArea = 2.7392e-06, UnionArea = 6.4975e-06\n"
     ]
    },
    {
     "name": "stderr",
     "output_type": "stream",
     "text": [
      "Self-intersection at or near point 2162.4128440366972 2047.3119266055046\n",
      "WARNING:shapely.geos:Self-intersection at or near point 2162.4128440366972 2047.3119266055046\n"
     ]
    },
    {
     "name": "stdout",
     "output_type": "stream",
     "text": [
      "imageId = 6120_2_0, threshold = 0.6000, jaccard score = 0.4117, InterArea = 2.6149e-06, UnionArea = 6.3519e-06\n"
     ]
    },
    {
     "name": "stderr",
     "output_type": "stream",
     "text": [
      "Self-intersection at or near point 3332.6363636363635 1121.8181818181818\n",
      "WARNING:shapely.geos:Self-intersection at or near point 3332.6363636363635 1121.8181818181818\n"
     ]
    },
    {
     "name": "stdout",
     "output_type": "stream",
     "text": [
      "imageId = 6120_2_2, threshold = 0.6000, jaccard score = 0.2722, InterArea = 2.4190e-06, UnionArea = 8.8884e-06\n"
     ]
    },
    {
     "name": "stderr",
     "output_type": "stream",
     "text": [
      "Self-intersection at or near point 3300.2274193548387 1037.425806451613\n",
      "WARNING:shapely.geos:Self-intersection at or near point 3300.2274193548387 1037.425806451613\n"
     ]
    },
    {
     "name": "stdout",
     "output_type": "stream",
     "text": [
      "imageId = 6140_1_2, threshold = 0.6000, jaccard score = 0.0966, InterArea = 2.1025e-06, UnionArea = 2.1767e-05\n"
     ]
    },
    {
     "name": "stderr",
     "output_type": "stream",
     "text": [
      "Self-intersection at or near point 3346.1697211155379 123.00557768924303\n",
      "WARNING:shapely.geos:Self-intersection at or near point 3346.1697211155379 123.00557768924303\n"
     ]
    },
    {
     "name": "stdout",
     "output_type": "stream",
     "text": [
      "imageId = 6140_3_1, threshold = 0.6000, jaccard score = 0.2670, InterArea = 3.8555e-06, UnionArea = 1.4438e-05\n"
     ]
    },
    {
     "name": "stderr",
     "output_type": "stream",
     "text": [
      "Self-intersection at or near point 3397.6730769230771 748.14743589743591\n",
      "WARNING:shapely.geos:Self-intersection at or near point 3397.6730769230771 748.14743589743591\n"
     ]
    },
    {
     "name": "stdout",
     "output_type": "stream",
     "text": [
      "imageId = 6150_2_3, threshold = 0.6000, jaccard score = 0.3657, InterArea = 6.2442e-06, UnionArea = 1.7073e-05\n"
     ]
    },
    {
     "name": "stderr",
     "output_type": "stream",
     "text": [
      "Self-intersection at or near point 3385.6089159067883 1284.3586626139818\n",
      "WARNING:shapely.geos:Self-intersection at or near point 3385.6089159067883 1284.3586626139818\n"
     ]
    },
    {
     "name": "stdout",
     "output_type": "stream",
     "text": [
      "imageId = 6160_2_1, threshold = 0.6000, jaccard score = 0.1190, InterArea = 7.7827e-06, UnionArea = 6.5382e-05\n"
     ]
    },
    {
     "name": "stderr",
     "output_type": "stream",
     "text": [
      "Self-intersection at or near point 2897.8387096774195 2528.6451612903224\n",
      "WARNING:shapely.geos:Self-intersection at or near point 2897.8387096774195 2528.6451612903224\n"
     ]
    },
    {
     "name": "stdout",
     "output_type": "stream",
     "text": [
      "imageId = 6170_0_4, threshold = 0.6000, jaccard score = 0.2547, InterArea = 2.0531e-05, UnionArea = 8.0605e-05\n"
     ]
    },
    {
     "name": "stderr",
     "output_type": "stream",
     "text": [
      "Self-intersection at or near point 3369.9929328621906 1610.7879858657243\n",
      "WARNING:shapely.geos:Self-intersection at or near point 3369.9929328621906 1610.7879858657243\n"
     ]
    },
    {
     "name": "stdout",
     "output_type": "stream",
     "text": [
      "imageId = 6170_2_4, threshold = 0.6000, jaccard score = 0.0947, InterArea = 6.3808e-06, UnionArea = 6.7347e-05\n"
     ]
    },
    {
     "name": "stderr",
     "output_type": "stream",
     "text": [
      "Self-intersection at or near point 3357.3076923076924 838.23076923076928\n",
      "WARNING:shapely.geos:Self-intersection at or near point 3357.3076923076924 838.23076923076928\n"
     ]
    },
    {
     "name": "stdout",
     "output_type": "stream",
     "text": [
      "imageId = 6170_4_1, threshold = 0.6000, jaccard score = 0.2055, InterArea = 1.6742e-05, UnionArea = 8.1476e-05\n",
      "Averaged Jaccard Score =  [0.21093999719509143]\n"
     ]
    }
   ],
   "source": [
    "## optimize threshold values\n",
    "\n",
    "class_type = 5\n",
    "\n",
    "clfs = joblib.load('clfs_17Bands.pkl')\n",
    "\n",
    "val_image_id = train_wkt[(train_wkt['ClassType']==class_type) \n",
    "          & (train_wkt['MultipolygonWKT']!='MULTIPOLYGON EMPTY')].ImageId.unique().tolist()\n",
    "val_image_id = sorted(val_image_id)\n",
    "\n",
    "# [0.18700677473264637, 0.20186334943390616, 0.21099653512555216, 0.20554999734701423]\n",
    "# threshold = [0.4, 0.5, 0.6, 0.7]\n",
    "threshold = [0.6]\n",
    "\n",
    "jaccard_list = []\n",
    "for i in threshold:\n",
    "    areaInter = 0\n",
    "    areaUnion = 0\n",
    "    for j in range(len(val_image_id)):\n",
    "        # prepare validaiton data\n",
    "        val_x, val_y, val_p = image_to_train(image_id = val_image_id[j], \n",
    "                                             class_type = class_type, image_type = 'withLabel')\n",
    "\n",
    "        # Plot original validation polygons\n",
    "        # plot_polygons(image_id = val_image_id[j], polygonsList = {class_type:val_p}, figsize=(5,5))\n",
    "\n",
    "        # Plot predicted validation polygons - how well the model generaalizes\n",
    "        pred_val_y, pred_val_wkt, pred_val_p = predict_class(clf = clfs[class_type], image_id = val_image_id[j], \n",
    "                                                             threshold = i, image_type = 'withLabel')\n",
    "        # plot_polygons(image_id = val_image_id[j], polygonsList = {class_type:pred_val_p}, figsize=(5,5))\n",
    "         \n",
    "        print('imageId = {:^8}, threshold = {:.4f}, jaccard score = {:.4f}, InterArea = {:.4e}, UnionArea = {:.4e}'\n",
    "              .format(val_image_id[j], i, pred_val_p.intersection(val_p).area / pred_val_p.union(val_p).area, \n",
    "                pred_val_p.intersection(val_p).area, pred_val_p.union(val_p).area))\n",
    "                \n",
    "        areaInter += pred_val_p.intersection(val_p).area \n",
    "        areaUnion += pred_val_p.union(val_p).area\n",
    "        \n",
    "    jaccard_list.append(areaInter/areaUnion)\n",
    "    \n",
    "print('Averaged Jaccard Score = ', jaccard_list)  \n"
   ]
  },
  {
   "cell_type": "markdown",
   "metadata": {},
   "source": [
    "## 6_Crops"
   ]
  },
  {
   "cell_type": "code",
   "execution_count": 6,
   "metadata": {
    "collapsed": false
   },
   "outputs": [
    {
     "name": "stdout",
     "output_type": "stream",
     "text": [
      "11 ['6120_2_2', '6120_2_0', '6090_2_0', '6040_1_3', '6100_1_3', '6140_3_1', '6150_2_3', '6110_3_1', '6170_2_4', '6060_2_3', '6100_2_2']\n",
      "Loading data for class type 6\n",
      "Data loaded in 93 seconds. (58007891, 17) (58007891,)\n",
      "Removing Duplicated Data ...\n",
      "Data loaded in 272 seconds. (44859238, 17) (44859238,)\n",
      "4 ['6120_2_0', '6140_3_1', '6110_3_1', '6100_2_2']\n",
      "Loading data for class type 6\n",
      "Data loaded in 31 seconds. (18188253, 17) (18188253,)\n",
      "11 ['6120_2_2', '6090_2_0', '6040_1_3', '6100_1_3', '6110_4_0', '6110_1_2', '6150_2_3', '6140_1_2', '6170_2_4', '6060_2_3', '6010_1_2']\n",
      "Loading data for class type 5\n",
      "Data loaded in 90 seconds. (10503120, 17) (10503120,)\n"
     ]
    }
   ],
   "source": [
    "class_type = 6\n",
    "\n",
    "val_image_id = ['6110_1_2', '6110_4_0', '6140_1_2']\n",
    "# data with labels\n",
    "train_x, train_y = load_train_pixels(class_type = class_type, val_ids = val_image_id, image_type = 'withLabel')\n",
    "# remove duplicates\n",
    "print (\"Removing Duplicated Data ...\")\n",
    "start = time.time()\n",
    "t = unique_rows(np.hstack((train_x, train_y.reshape([-1,1]))))\n",
    "train_x = t[:,:-1]\n",
    "train_y = t[:,-1]\n",
    "del t\n",
    "print (\"Data loaded in %d seconds.\" % (time.time() - start), train_x.shape, train_y.shape)\n",
    "\n",
    "# data without labels =>  6100_2_2 + 6110_3_1 + 6120_2_0 + 6140_3_1\n",
    "val_image_id = ['6120_2_2', '6090_2_0', '6040_1_3', '6100_1_3', '6110_4_0', '6110_1_2', \n",
    "                '6150_2_3', '6140_1_2', '6170_2_4', '6060_2_3']\n",
    "train_x_wl, train_y_wl = load_train_pixels(class_type = class_type, val_ids = val_image_id, image_type = 'withoutLabel')\n",
    "\n",
    "# 5_Tree data without labels\n",
    "val_image_id = ['6010_4_2','6010_4_4', '6040_1_0', '6040_2_2', '6040_4_4', '6070_2_3',\n",
    "                '6100_2_3', '6160_2_1', '6170_0_4', '6170_4_1', '6100_2_2','6110_3_1', '6120_2_0', '6140_3_1']\n",
    "train_x_tree, train_y_tree = load_train_pixels(class_type = 5, val_ids = val_image_id, image_type = 'withLabel')\n",
    "train_y_tree = np.array([0] * len(train_y_tree))\n",
    "\n",
    "# stack the data\n",
    "train_x = np.vstack((train_x, train_x_wl, train_x_tree))\n",
    "train_y = np.hstack((train_y, train_y_wl, train_y_tree))\n",
    "\n",
    "del train_x_wl, train_y_wl, train_x_tree, train_y_tree\n",
    "print (\"Data Shape: \", train_x.shape, train_y.shape)"
   ]
  },
  {
   "cell_type": "code",
   "execution_count": 7,
   "metadata": {
    "collapsed": false
   },
   "outputs": [
    {
     "name": "stdout",
     "output_type": "stream",
     "text": [
      "training...\n",
      "training for class type 6 finishied in 8956 seconds...\n",
      "Training AUC:  0.901975214946\n"
     ]
    }
   ],
   "source": [
    "pipeline = make_pipeline(StandardScaler(), xgb.XGBClassifier(n_estimators = 100))\n",
    "start = time.time()\n",
    "print('training...')\n",
    "pipeline.fit(train_x, train_y)\n",
    "\n",
    "clfs = joblib.load('clfs_17Bands.pkl')\n",
    "clfs[class_type] = pipeline\n",
    "joblib.dump(clfs, 'clfs_17Bands.pkl')\n",
    "\n",
    "print('training for class type %d finishied in %d seconds...' % (class_type, time.time()-start))\n",
    "        \n",
    "## Show model accuracy: Use AUC because single class is a skwed binary classfication where AUC works better.\n",
    "pred_train_y = clfs[class_type].predict_proba(train_x)[:,1]\n",
    "\n",
    "print (\"Training AUC: \", roc_auc_score(y_true = train_y, y_score = pred_train_y))"
   ]
  },
  {
   "cell_type": "code",
   "execution_count": 12,
   "metadata": {
    "collapsed": false,
    "scrolled": true
   },
   "outputs": [
    {
     "name": "stdout",
     "output_type": "stream",
     "text": [
      "imageId = 6040_1_3, threshold = 0.40, jaccard score = 0.0000, InterArea = 0.0000e+00, UnionArea = 3.0327e-06\n"
     ]
    },
    {
     "name": "stderr",
     "output_type": "stream",
     "text": [
      "Self-intersection at or near point 1619.7571115973742 2425.1247264770241\n"
     ]
    },
    {
     "name": "stdout",
     "output_type": "stream",
     "text": [
      "imageId = 6060_2_3, threshold = 0.40, jaccard score = 0.9328, InterArea = 7.6794e-05, UnionArea = 8.2325e-05\n"
     ]
    },
    {
     "name": "stderr",
     "output_type": "stream",
     "text": [
      "Self-intersection at or near point 3191.4444444444443 54.814814814814817\n"
     ]
    },
    {
     "name": "stdout",
     "output_type": "stream",
     "text": [
      "imageId = 6090_2_0, threshold = 0.40, jaccard score = 0.3225, InterArea = 2.3018e-05, UnionArea = 7.1382e-05\n"
     ]
    },
    {
     "name": "stderr",
     "output_type": "stream",
     "text": [
      "Self-intersection at or near point 3383.7353760445681 1300.8467966573817\n"
     ]
    },
    {
     "name": "stdout",
     "output_type": "stream",
     "text": [
      "imageId = 6100_1_3, threshold = 0.40, jaccard score = 0.0967, InterArea = 1.8487e-06, UnionArea = 1.9122e-05\n"
     ]
    },
    {
     "name": "stderr",
     "output_type": "stream",
     "text": [
      "Self-intersection at or near point 3376.1428571428573 1771.2857142857142\n"
     ]
    },
    {
     "name": "stdout",
     "output_type": "stream",
     "text": [
      "imageId = 6100_2_2, threshold = 0.40, jaccard score = 0.5647, InterArea = 2.8297e-05, UnionArea = 5.0111e-05\n"
     ]
    },
    {
     "name": "stderr",
     "output_type": "stream",
     "text": [
      "Self-intersection at or near point 3343.2990448199853 1039.505510653931\n"
     ]
    },
    {
     "name": "stdout",
     "output_type": "stream",
     "text": [
      "imageId = 6110_1_2, threshold = 0.40, jaccard score = 0.6072, InterArea = 3.1693e-05, UnionArea = 5.2199e-05\n"
     ]
    },
    {
     "name": "stderr",
     "output_type": "stream",
     "text": [
      "Self-intersection at or near point 3387.9300699300697 4.0559440559440567\n"
     ]
    },
    {
     "name": "stdout",
     "output_type": "stream",
     "text": [
      "imageId = 6110_3_1, threshold = 0.40, jaccard score = 0.6969, InterArea = 4.2861e-05, UnionArea = 6.1500e-05\n"
     ]
    },
    {
     "name": "stderr",
     "output_type": "stream",
     "text": [
      "Self-intersection at or near point 3375.4920049200491 538.41574415744162\n"
     ]
    },
    {
     "name": "stdout",
     "output_type": "stream",
     "text": [
      "imageId = 6110_4_0, threshold = 0.40, jaccard score = 0.8375, InterArea = 6.0146e-05, UnionArea = 7.1813e-05\n"
     ]
    },
    {
     "name": "stderr",
     "output_type": "stream",
     "text": [
      "Self-intersection at or near point 2989.9704433497536 641.06403940886696\n"
     ]
    },
    {
     "name": "stdout",
     "output_type": "stream",
     "text": [
      "imageId = 6120_2_0, threshold = 0.40, jaccard score = 0.8277, InterArea = 6.5806e-05, UnionArea = 7.9503e-05\n"
     ]
    },
    {
     "name": "stderr",
     "output_type": "stream",
     "text": [
      "Self-intersection at or near point 3389.9373297002726 3216.049046321526\n"
     ]
    },
    {
     "name": "stdout",
     "output_type": "stream",
     "text": [
      "imageId = 6120_2_2, threshold = 0.40, jaccard score = 0.1958, InterArea = 8.5105e-06, UnionArea = 4.3462e-05\n"
     ]
    },
    {
     "name": "stderr",
     "output_type": "stream",
     "text": [
      "Self-intersection at or near point 3239.2145922746781 2446.0557939914165\n"
     ]
    },
    {
     "name": "stdout",
     "output_type": "stream",
     "text": [
      "imageId = 6140_1_2, threshold = 0.40, jaccard score = 0.6132, InterArea = 2.9712e-05, UnionArea = 4.8451e-05\n"
     ]
    },
    {
     "name": "stderr",
     "output_type": "stream",
     "text": [
      "Self-intersection at or near point 3390.0070531188012 350.5840864007053\n"
     ]
    },
    {
     "name": "stdout",
     "output_type": "stream",
     "text": [
      "imageId = 6140_3_1, threshold = 0.40, jaccard score = 0.7360, InterArea = 4.3147e-05, UnionArea = 5.8623e-05\n"
     ]
    },
    {
     "name": "stderr",
     "output_type": "stream",
     "text": [
      "Self-intersection at or near point 2405.2306273062732 1532.7749077490776\n"
     ]
    },
    {
     "name": "stdout",
     "output_type": "stream",
     "text": [
      "imageId = 6150_2_3, threshold = 0.40, jaccard score = 0.8046, InterArea = 6.6781e-05, UnionArea = 8.2996e-05\n"
     ]
    },
    {
     "name": "stderr",
     "output_type": "stream",
     "text": [
      "Self-intersection at or near point 3290.9333333333334 2670.4666666666667\n"
     ]
    },
    {
     "name": "stdout",
     "output_type": "stream",
     "text": [
      "imageId = 6170_2_4, threshold = 0.40, jaccard score = 0.5333, InterArea = 4.0223e-05, UnionArea = 7.5417e-05\n",
      "Averaged Jaccard Score =  [0.6485969335025282]\n"
     ]
    }
   ],
   "source": [
    "## optimize threshold values\n",
    "\n",
    "class_type = 6\n",
    "\n",
    "clfs = joblib.load('clfs_17Bands.pkl')\n",
    "\n",
    "val_image_id = train_wkt[(train_wkt['ClassType']==class_type) \n",
    "          & (train_wkt['MultipolygonWKT']!='MULTIPOLYGON EMPTY')].ImageId.unique().tolist()\n",
    "val_image_id = sorted(val_image_id)\n",
    "\n",
    "# threshold = [0.39, 0.4, 0.41]\n",
    "# Averaged Jaccard Score =  [ 0.648279115768374, 0.6485969335025282, 0.6484381850270031]\n",
    "threshold = [0.4]\n",
    "\n",
    "jaccard_list = []\n",
    "for i in threshold:\n",
    "    areaInter = 0\n",
    "    areaUnion = 0\n",
    "    for j in range(len(val_image_id)):\n",
    "        # prepare validaiton data\n",
    "        val_x, val_y, val_p = image_to_train(image_id = val_image_id[j], \n",
    "                                             class_type = class_type, image_type = 'withLabel')\n",
    "\n",
    "        # Plot original validation polygons\n",
    "        # plot_polygons(image_id = val_image_id[j], polygonsList = {class_type:val_p}, figsize=(5,5))\n",
    "\n",
    "        # Plot predicted validation polygons - how well the model generaalizes\n",
    "        pred_val_y, pred_val_wkt, pred_val_p = predict_class(clf = clfs[class_type], image_id = val_image_id[j], \n",
    "                                                             threshold = i, image_type = 'withLabel')\n",
    "        # plot_polygons(image_id = val_image_id[j], polygonsList = {class_type:pred_val_p}, figsize=(5,5))\n",
    "\n",
    "        #if not pred_val_p.is_valid:\n",
    "            #pred_val_p = pred_val_p.buffer(0)\n",
    "    \n",
    "        print('imageId = {:^8}, threshold = {:.2f}, jaccard score = {:.4f}, InterArea = {:.4e}, UnionArea = {:.4e}'\n",
    "              .format(val_image_id[j], i, pred_val_p.intersection(val_p).area / pred_val_p.union(val_p).area, \n",
    "                pred_val_p.intersection(val_p).area, pred_val_p.union(val_p).area))\n",
    "                \n",
    "        areaInter += pred_val_p.intersection(val_p).area \n",
    "        areaUnion += pred_val_p.union(val_p).area\n",
    "        \n",
    "    jaccard_list.append(areaInter/areaUnion)\n",
    "    \n",
    "print('Averaged Jaccard Score = ', jaccard_list)  \n"
   ]
  },
  {
   "cell_type": "code",
   "execution_count": null,
   "metadata": {
    "collapsed": true
   },
   "outputs": [],
   "source": [
    "class_type = 6\n",
    "val_image_id = ['6110_1_2', '6110_4_0', '6140_1_2']\n",
    "\n",
    "val_x, val_y, val_p = image_to_train(image_id = val_image_id[0], class_type = class_type, image_type = 'withLabel')\n",
    "\n",
    "# Plot original validation polygons\n",
    "plot_polygons(image_id = val_image_id[0], polygonsList = {class_type:val_p}, figsize=(5,5))\n",
    "\n",
    "# Plot predicted validation polygons - how well the model generaalizes\n",
    "pred_val_y, pred_val_wkt, pred_val_p = predict_class(clf = clfs[class_type], image_id = val_image_id[0], \n",
    "                                                     threshold = 0.4, image_type = 'withLabel')\n",
    "plot_polygons(image_id = val_image_id[0], polygonsList = {class_type:pred_val_p}, figsize=(5,5))\n",
    "\n",
    "print('jaccard score = {:.4e}, InterArea = {:.4e}, UnionArea = {:.4e}'\n",
    "              .format(pred_val_p.intersection(val_p).area / pred_val_p.union(val_p).area, \n",
    "                pred_val_p.intersection(val_p).area, pred_val_p.union(val_p).area))\n"
   ]
  },
  {
   "cell_type": "markdown",
   "metadata": {},
   "source": [
    "## 7_Waterway"
   ]
  },
  {
   "cell_type": "code",
   "execution_count": 53,
   "metadata": {
    "collapsed": false,
    "scrolled": true
   },
   "outputs": [
    {
     "name": "stdout",
     "output_type": "stream",
     "text": [
      "2 ['6070_2_3', '6100_2_2']\n",
      "Loading data for class type 7\n",
      "Data loaded in 14 seconds. (1422619, 17) (1422619,)\n",
      "2 ['6070_2_3', '6100_2_2']\n",
      "Loading data for class type 7\n",
      "Data loaded in 16 seconds. (21109411, 17) (21109411,)\n",
      "13 ['6120_2_2', '6090_2_0', '6100_1_3', '6110_4_0', '6140_3_1', '6110_1_2', '6100_2_3', '6140_1_2', '6110_3_1', '6170_2_4', '6170_0_4', '6070_2_3', '6100_2_2']\n",
      "Loading data for class type 8\n",
      "Data loaded in 93 seconds. (491818, 17) (491818,)\n"
     ]
    }
   ],
   "source": [
    "class_type = 7\n",
    "val_image_id = []\n",
    "\n",
    "# data with labels\n",
    "train_x, train_y = load_train_pixels(class_type = class_type, val_ids = val_image_id, image_type = 'withLabel')\n",
    "\n",
    "# data without labels\n",
    "val_image_id = []\n",
    "train_x_wl, train_y_wl = load_train_pixels(class_type = class_type, val_ids = val_image_id, image_type = 'withoutLabel')\n",
    "\n",
    "# 8_StandingWater data without labels\n",
    "val_image_id = []\n",
    "train_x_sw, train_y_sw = load_train_pixels(class_type = 8, val_ids = val_image_id, image_type = 'withLabel')\n",
    "train_y_sw = np.array([0] * len(train_y_sw))\n",
    "\n",
    "# stack the data\n",
    "train_x = np.vstack((train_x, train_x_wl, train_x_sw))\n",
    "train_y = np.hstack((train_y, train_y_wl, train_y_sw))\n",
    "\n",
    "del train_x_wl, train_y_wl, train_x_sw, train_y_sw\n",
    "\n",
    "# prepare validaiton data\n",
    "val_image_id = ['6100_2_2']\n",
    "val_x, val_y, val_p = image_to_train(image_id = val_image_id[0], class_type = class_type, image_type = 'withLabel')\n"
   ]
  },
  {
   "cell_type": "code",
   "execution_count": 54,
   "metadata": {
    "collapsed": false
   },
   "outputs": [
    {
     "name": "stdout",
     "output_type": "stream",
     "text": [
      "training...\n",
      "training for class type 7 finishied in 462 seconds...\n",
      "Training AUC:  0.981665271113\n"
     ]
    }
   ],
   "source": [
    "## train model\n",
    "\n",
    "pipeline = make_pipeline(StandardScaler(), xgb.XGBClassifier(n_estimators = 100))\n",
    "start = time.time()\n",
    "print('training...')\n",
    "pipeline.fit(train_x, train_y)\n",
    "\n",
    "clfs = joblib.load('clfs_17Bands.pkl')\n",
    "clfs[class_type] = pipeline\n",
    "joblib.dump(clfs, 'clfs_17Bands.pkl')\n",
    "\n",
    "print('training for class type %d finishied in %d seconds...' % (class_type, time.time()-start))\n",
    "        \n",
    "## Show model accuracy: Use AUC because single class is a skwed binary classfication where AUC works better.\n",
    "pred_train_y = clfs[class_type].predict_proba(train_x)[:,1]\n",
    "\n",
    "print (\"Training AUC: \", roc_auc_score(y_true = train_y, y_score = pred_train_y))"
   ]
  },
  {
   "cell_type": "code",
   "execution_count": 15,
   "metadata": {
    "collapsed": false
   },
   "outputs": [
    {
     "name": "stderr",
     "output_type": "stream",
     "text": [
      "Self-intersection at or near point 2871.0735294117649 1556.4007352941176\n"
     ]
    },
    {
     "name": "stdout",
     "output_type": "stream",
     "text": [
      "imageId = 6070_2_3, threshold = 0.34, jaccard score = 7.9842e-01, InterArea = 7.3559e-06, UnionArea = 9.2131e-06\n"
     ]
    },
    {
     "name": "stderr",
     "output_type": "stream",
     "text": [
      "Self-intersection at or near point 3184.5534591194969 1299.6037735849056\n"
     ]
    },
    {
     "name": "stdout",
     "output_type": "stream",
     "text": [
      "imageId = 6100_2_2, threshold = 0.34, jaccard score = 6.3771e-01, InterArea = 1.0541e-06, UnionArea = 1.6530e-06\n",
      "Averaged Jaccard Score =  [0.7739685297037436]\n"
     ]
    }
   ],
   "source": [
    "## optimize threshold values\n",
    "\n",
    "class_type = 7\n",
    "\n",
    "clfs = joblib.load('clfs_17Bands.pkl')\n",
    "\n",
    "val_image_id = train_wkt[(train_wkt['ClassType']==class_type) \n",
    "          & (train_wkt['MultipolygonWKT']!='MULTIPOLYGON EMPTY')].ImageId.unique().tolist()\n",
    "val_image_id = sorted(val_image_id)\n",
    "\n",
    "threshold = [0.34]\n",
    "# jaccard_list = [0.7735613362654171, 0.7747606605595285, 0.7735923036587781, 0.7737623518134427, 0.773118765957314]\n",
    "# threshold = [ 0.33, 0.34, 0.35, 0.36, 0.37]\n",
    "\n",
    "jaccard_list = []\n",
    "for i in threshold:\n",
    "    areaInter = 0\n",
    "    areaUnion = 0\n",
    "    for j in range(len(val_image_id)):\n",
    "        # prepare validaiton data\n",
    "        val_x, val_y, val_p = image_to_train(image_id = val_image_id[j], \n",
    "                                             class_type = class_type, image_type = 'withLabel')\n",
    "\n",
    "        # Plot original validation polygons\n",
    "        # plot_polygons(image_id = val_image_id[j], polygonsList = {class_type:val_p}, figsize=(5,5))\n",
    "\n",
    "        # Plot predicted validation polygons - how well the model generaalizes\n",
    "        pred_val_y, pred_val_wkt, pred_val_p = predict_class(clf = clfs[class_type], image_id = val_image_id[j], \n",
    "                                                             threshold = i, image_type = 'withLabel')\n",
    "        # plot_polygons(image_id = val_image_id[j], polygonsList = {class_type:pred_val_p}, figsize=(5,5))\n",
    "\n",
    "        print('imageId = {:^8}, threshold = {:.2f}, jaccard score = {:.4e}, InterArea = {:.4e}, UnionArea = {:.4e}'\n",
    "              .format(val_image_id[j], i, pred_val_p.intersection(val_p).area / pred_val_p.union(val_p).area, \n",
    "                pred_val_p.intersection(val_p).area, pred_val_p.union(val_p).area))\n",
    "                \n",
    "        areaInter += pred_val_p.intersection(val_p).area \n",
    "        areaUnion += pred_val_p.union(val_p).area\n",
    "        \n",
    "    jaccard_list.append(areaInter/areaUnion)\n",
    "    \n",
    "print('Averaged Jaccard Score = ', jaccard_list)  \n",
    "\n"
   ]
  },
  {
   "cell_type": "markdown",
   "metadata": {},
   "source": [
    "## 8_StandingWater"
   ]
  },
  {
   "cell_type": "code",
   "execution_count": 44,
   "metadata": {
    "collapsed": false,
    "scrolled": true
   },
   "outputs": [
    {
     "name": "stdout",
     "output_type": "stream",
     "text": [
      "13 ['6120_2_2', '6090_2_0', '6100_1_3', '6110_4_0', '6140_3_1', '6110_1_2', '6100_2_3', '6140_1_2', '6110_3_1', '6170_2_4', '6170_0_4', '6070_2_3', '6100_2_2']\n",
      "Loading data for class type 8\n",
      "Data loaded in 92 seconds. (491818, 17) (491818,)\n",
      "5 ['6090_2_0', '6100_1_3', '6110_4_0', '6140_1_2', '6070_2_3']\n",
      "Loading data for class type 8\n",
      "Data loaded in 58 seconds. (56323035, 17) (56323035,)\n"
     ]
    }
   ],
   "source": [
    "class_type = 8\n",
    "val_image_id = []\n",
    "\n",
    "# data with labels\n",
    "train_x, train_y = load_train_pixels(class_type = class_type, val_ids = val_image_id, image_type = 'withLabel')\n",
    "\n",
    "# data without labels => ['6090_2_0', '6100_1_3', '6110_4_0', '6140_1_2', '6070_2_3']\n",
    "val_image_id = ['6120_2_2', '6140_3_1', '6110_1_2', '6100_2_3', '6110_3_1',\n",
    "                '6170_2_4', '6170_0_4', '6100_2_2']\n",
    "train_x_wl, train_y_wl = load_train_pixels(class_type = class_type, val_ids = val_image_id, image_type = 'withoutLabel')\n",
    "\n",
    "# stack the data\n",
    "train_x = np.vstack((train_x, train_x_wl))\n",
    "train_y = np.hstack((train_y, train_y_wl))\n",
    "\n",
    "del train_x_wl, train_y_wl"
   ]
  },
  {
   "cell_type": "code",
   "execution_count": 45,
   "metadata": {
    "collapsed": false
   },
   "outputs": [
    {
     "name": "stdout",
     "output_type": "stream",
     "text": [
      "training...\n",
      "training for class type 8 finishied in 3921 seconds...\n",
      "Training AUC:  0.983081833055\n"
     ]
    }
   ],
   "source": [
    "pipeline = make_pipeline(StandardScaler(), xgb.XGBClassifier(n_estimators = 100))\n",
    "start = time.time()\n",
    "print('training...')\n",
    "pipeline.fit(train_x, train_y)\n",
    "\n",
    "clfs = joblib.load('clfs_17Bands.pkl')\n",
    "clfs[class_type] = pipeline\n",
    "joblib.dump(clfs, 'clfs_17Bands.pkl')\n",
    "\n",
    "print('training for class type %d finishied in %d seconds...' % (class_type, time.time()-start))\n",
    "        \n",
    "## Show model accuracy: Use AUC because single class is a skwed binary classfication where AUC works better.\n",
    "pred_train_y = clfs[class_type].predict_proba(train_x)[:,1]\n",
    "\n",
    "print (\"Training AUC: \", roc_auc_score(y_true = train_y, y_score = pred_train_y))"
   ]
  },
  {
   "cell_type": "code",
   "execution_count": 10,
   "metadata": {
    "collapsed": false,
    "scrolled": false
   },
   "outputs": [
    {
     "name": "stdout",
     "output_type": "stream",
     "text": [
      "imageId = 6070_2_3, threshold = 0.30, jaccard score = 0.0000, InterArea = 0.0000e+00, UnionArea = 4.4255e-08\n"
     ]
    },
    {
     "name": "stderr",
     "output_type": "stream",
     "text": [
      "Self-intersection at or near point 1854.8661710037175 1135.0334572490706\n"
     ]
    },
    {
     "name": "stdout",
     "output_type": "stream",
     "text": [
      "imageId = 6090_2_0, threshold = 0.30, jaccard score = 0.4131, InterArea = 1.1211e-07, UnionArea = 2.7140e-07\n",
      "imageId = 6100_1_3, threshold = 0.30, jaccard score = 0.6376, InterArea = 3.6175e-07, UnionArea = 5.6733e-07\n",
      "imageId = 6100_2_2, threshold = 0.30, jaccard score = 0.0000, InterArea = 0.0000e+00, UnionArea = 2.5440e-07\n",
      "imageId = 6100_2_3, threshold = 0.30, jaccard score = 0.4300, InterArea = 2.2462e-08, UnionArea = 5.2235e-08\n",
      "imageId = 6110_1_2, threshold = 0.30, jaccard score = 0.2760, InterArea = 3.6372e-08, UnionArea = 1.3180e-07\n",
      "imageId = 6110_3_1, threshold = 0.30, jaccard score = 0.7338, InterArea = 3.5449e-07, UnionArea = 4.8309e-07\n",
      "imageId = 6110_4_0, threshold = 0.30, jaccard score = 0.7285, InterArea = 9.7960e-07, UnionArea = 1.3447e-06\n"
     ]
    },
    {
     "name": "stderr",
     "output_type": "stream",
     "text": [
      "Self-intersection at or near point 3399.961508852964 1699.9992301770592\n"
     ]
    },
    {
     "name": "stdout",
     "output_type": "stream",
     "text": [
      "imageId = 6120_2_2, threshold = 0.30, jaccard score = 0.1095, InterArea = 1.2493e-07, UnionArea = 1.1411e-06\n",
      "imageId = 6140_1_2, threshold = 0.30, jaccard score = 0.1919, InterArea = 2.8094e-08, UnionArea = 1.4637e-07\n"
     ]
    },
    {
     "name": "stderr",
     "output_type": "stream",
     "text": [
      "Self-intersection at or near point 3188.2857142857142 219.42857142857142\n"
     ]
    },
    {
     "name": "stdout",
     "output_type": "stream",
     "text": [
      "imageId = 6140_3_1, threshold = 0.30, jaccard score = 0.7327, InterArea = 3.2402e-07, UnionArea = 4.4221e-07\n",
      "imageId = 6170_0_4, threshold = 0.30, jaccard score = 0.0000, InterArea = 0.0000e+00, UnionArea = 2.7739e-08\n",
      "imageId = 6170_2_4, threshold = 0.30, jaccard score = 0.0000, InterArea = 0.0000e+00, UnionArea = 7.3575e-09\n",
      "Averaged Jaccard Score =  [0.4769691450182286]\n"
     ]
    }
   ],
   "source": [
    "## optimize threshold values\n",
    "\n",
    "class_type = 8\n",
    "\n",
    "clfs = joblib.load('clfs_17Bands.pkl')\n",
    "\n",
    "val_image_id = train_wkt[(train_wkt['ClassType']==class_type) \n",
    "          & (train_wkt['MultipolygonWKT']!='MULTIPOLYGON EMPTY')].ImageId.unique().tolist()\n",
    "val_image_id = sorted(val_image_id)\n",
    "\n",
    "\n",
    "# jaccard_list = [0.4741022384747649, 0.47162442927501647, 0.4769691450182286, 0.4754542557732288]\n",
    "# threshold = [0.28, 0.29, 0.3, 0.31]\n",
    "threshold = [0.3]\n",
    "\n",
    "jaccard_list = []\n",
    "for i in threshold:\n",
    "    areaInter = 0\n",
    "    areaUnion = 0\n",
    "    for j in range(len(val_image_id)):\n",
    "        # prepare validaiton data\n",
    "        val_x, val_y, val_p = image_to_train(image_id = val_image_id[j], \n",
    "                                             class_type = class_type, image_type = 'withLabel')\n",
    "\n",
    "        # Plot original validation polygons\n",
    "        # plot_polygons(image_id = val_image_id[j], polygonsList = {class_type:val_p}, figsize=(5,5))\n",
    "\n",
    "        # Plot predicted validation polygons - how well the model generaalizes\n",
    "        pred_val_y, pred_val_wkt, pred_val_p = predict_class(clf = clfs[class_type], image_id = val_image_id[j], \n",
    "                                                             threshold = i, image_type = 'withLabel')\n",
    "        # plot_polygons(image_id = val_image_id[j], polygonsList = {class_type:pred_val_p}, figsize=(5,5))\n",
    "\n",
    "        print('imageId = {:^8}, threshold = {:.2f}, jaccard score = {:.4f}, InterArea = {:.4e}, UnionArea = {:.4e}'\n",
    "              .format(val_image_id[j], i, pred_val_p.intersection(val_p).area / pred_val_p.union(val_p).area, \n",
    "                pred_val_p.intersection(val_p).area, pred_val_p.union(val_p).area))\n",
    "                \n",
    "        areaInter += pred_val_p.intersection(val_p).area \n",
    "        areaUnion += pred_val_p.union(val_p).area\n",
    "        \n",
    "    jaccard_list.append(areaInter/areaUnion)\n",
    "    \n",
    "print('Averaged Jaccard Score = ', jaccard_list)  \n"
   ]
  },
  {
   "cell_type": "code",
   "execution_count": 56,
   "metadata": {
    "collapsed": false,
    "scrolled": true
   },
   "outputs": [
    {
     "name": "stdout",
     "output_type": "stream",
     "text": [
      "jaccard score = 0.0000e+00, InterArea = 0.0000e+00, UnionArea = 6.7013e-08\n"
     ]
    },
    {
     "data": {
      "image/png": "[encoded data removed]",
      "text/plain": [
       "<matplotlib.figure.Figure at 0x11fca2278>"
      ]
     },
     "metadata": {},
     "output_type": "display_data"
    },
    {
     "data": {
      "image/png": "[encoded data removed]",
      "text/plain": [
       "<matplotlib.figure.Figure at 0x11fc9d160>"
      ]
     },
     "metadata": {},
     "output_type": "display_data"
    }
   ],
   "source": [
    "# prepare validaiton data\n",
    "class_type = 8\n",
    "val_image_id = ['6070_2_3']\n",
    "val_x, val_y, val_p = image_to_train(image_id = val_image_id[0], class_type = class_type, image_type = 'withLabel')\n",
    "\n",
    "# Plot original validation polygons\n",
    "plot_polygons(image_id = val_image_id[0], polygonsList = {class_type:val_p}, figsize=(5,5))\n",
    "\n",
    "# Plot predicted validation polygons - how well the model generaalizes\n",
    "pred_val_y, pred_val_wkt, pred_val_p = predict_class(clf = clfs[class_type], image_id = val_image_id[0], \n",
    "                                                     threshold = 0.3, image_type = 'withLabel')\n",
    "plot_polygons(image_id = val_image_id[0], polygonsList = {class_type:pred_val_p}, figsize=(5,5))\n",
    "\n",
    "print('jaccard score = {:.4e}, InterArea = {:.4e}, UnionArea = {:.4e}'\n",
    "              .format(pred_val_p.intersection(val_p).area / pred_val_p.union(val_p).area, \n",
    "                pred_val_p.intersection(val_p).area, pred_val_p.union(val_p).area))"
   ]
  },
  {
   "cell_type": "markdown",
   "metadata": {},
   "source": [
    "## 9_LargeVehicle"
   ]
  },
  {
   "cell_type": "code",
   "execution_count": 47,
   "metadata": {
    "collapsed": false
   },
   "outputs": [
    {
     "name": "stdout",
     "output_type": "stream",
     "text": [
      "7 ['6120_2_2', '6100_1_3', '6110_4_0', '6140_3_1', '6100_2_3', '6110_3_1', '6100_2_2']\n",
      "Loading data for class type 9\n",
      "Data loaded in 49 seconds. (10473, 17) (10473,)\n",
      "2 ['6120_2_0', '6100_2_3']\n",
      "Loading data for class type 9\n",
      "Data loaded in 19 seconds. (22742571, 17) (22742571,)\n",
      "11 ['6120_2_2', '6120_2_0', '6100_1_3', '6110_4_0', '6140_3_1', '6110_1_2', '6100_2_3', '6140_1_2', '6110_3_1', '6070_2_3', '6100_2_2']\n",
      "Loading data for class type 3\n",
      "Data loaded in 79 seconds. (2356689, 17) (2356689,)\n",
      "23 ['6040_2_2', '6120_2_2', '6120_2_0', '6090_2_0', '6040_1_3', '6040_1_0', '6100_1_3', '6010_4_2', '6110_4_0', '6140_3_1', '6110_1_2', '6100_2_3', '6150_2_3', '6160_2_1', '6140_1_2', '6110_3_1', '6170_2_4', '6170_4_1', '6170_0_4', '6060_2_3', '6010_1_2', '6040_4_4', '6100_2_2']\n",
      "Loading data for class type 4\n",
      "Data loaded in 172 seconds. (8596101, 17) (8596101,)\n"
     ]
    }
   ],
   "source": [
    "class_type = 9\n",
    "val_image_id = ['6120_2_0']\n",
    "\n",
    "# data with labels\n",
    "train_x, train_y = load_train_pixels(class_type = class_type, val_ids = val_image_id, image_type = 'withLabel')\n",
    "\n",
    "# data without labels => 6100_2_3 + 6120_2_2\n",
    "val_image_id = ['6120_2_2', '6100_1_3', '6110_4_0', '6140_3_1', '6110_3_1', '6100_2_2']\n",
    "train_x_wl, train_y_wl = load_train_pixels(class_type = class_type, val_ids = val_image_id, image_type = 'withoutLabel')\n",
    "\n",
    "# 3_Road data without labels\n",
    "val_image_id = []\n",
    "train_x_road, train_y_road = load_train_pixels(class_type = 3, val_ids = val_image_id, image_type = 'withLabel')\n",
    "train_y_road = np.array([0] * len(train_y_road))\n",
    "\n",
    "# 4_Track data without labels\n",
    "val_image_id = []\n",
    "train_x_track, train_y_track = load_train_pixels(class_type = 4, val_ids = val_image_id, image_type = 'withLabel')\n",
    "train_y_track = np.array([0] * len(train_y_track))\n",
    "\n",
    "# stack the data\n",
    "train_x = np.vstack((train_x, train_x_wl, train_x_road, train_x_track))\n",
    "train_y = np.hstack((train_y, train_y_wl, train_y_road, train_y_track))\n",
    "\n",
    "del train_x_wl, train_y_wl, train_x_road, train_x_track, train_y_road, train_y_track\n"
   ]
  },
  {
   "cell_type": "code",
   "execution_count": 48,
   "metadata": {
    "collapsed": false
   },
   "outputs": [
    {
     "name": "stdout",
     "output_type": "stream",
     "text": [
      "training...\n",
      "training for class type 9 finishied in 699 seconds...\n",
      "Training AUC:  0.940626527611\n"
     ]
    }
   ],
   "source": [
    "pipeline = make_pipeline(StandardScaler(), xgb.XGBClassifier(n_estimators = 100))\n",
    "start = time.time()\n",
    "print('training...')\n",
    "pipeline.fit(train_x, train_y)\n",
    "\n",
    "clfs = joblib.load('clfs_17Bands.pkl')\n",
    "clfs[class_type] = pipeline\n",
    "joblib.dump(clfs, 'clfs_17Bands.pkl')\n",
    "\n",
    "print('training for class type %d finishied in %d seconds...' % (class_type, time.time()-start))\n",
    "        \n",
    "## Show model accuracy: Use AUC because single class is a skwed binary classfication where AUC works better.\n",
    "pred_train_y = clfs[class_type].predict_proba(train_x)[:,1]\n",
    "\n",
    "print (\"Training AUC: \", roc_auc_score(y_true = train_y, y_score = pred_train_y))"
   ]
  },
  {
   "cell_type": "code",
   "execution_count": 7,
   "metadata": {
    "collapsed": false,
    "scrolled": true
   },
   "outputs": [
    {
     "name": "stdout",
     "output_type": "stream",
     "text": [
      "imageId = 6100_1_3, threshold = 0.0400, jaccard score = 0.0000e+00, InterArea = 0.0000e+00, UnionArea = 1.3312e-08\n",
      "imageId = 6100_2_2, threshold = 0.0400, jaccard score = 0.0000e+00, InterArea = 0.0000e+00, UnionArea = 1.0744e-08\n",
      "imageId = 6100_2_3, threshold = 0.0400, jaccard score = 0.0000e+00, InterArea = 0.0000e+00, UnionArea = 1.4799e-08\n"
     ]
    },
    {
     "name": "stderr",
     "output_type": "stream",
     "text": [
      "Self-intersection at or near point 949.66431924882625 3130.3779342723005\n"
     ]
    },
    {
     "name": "stdout",
     "output_type": "stream",
     "text": [
      "imageId = 6110_3_1, threshold = 0.0400, jaccard score = 3.0100e-02, InterArea = 5.0980e-09, UnionArea = 1.6937e-07\n",
      "imageId = 6110_4_0, threshold = 0.0400, jaccard score = 3.8976e-02, InterArea = 2.2063e-09, UnionArea = 5.6605e-08\n",
      "imageId = 6120_2_0, threshold = 0.0400, jaccard score = 0.0000e+00, InterArea = 0.0000e+00, UnionArea = 1.1435e-08\n",
      "imageId = 6120_2_2, threshold = 0.0400, jaccard score = 0.0000e+00, InterArea = 0.0000e+00, UnionArea = 8.4794e-09\n",
      "imageId = 6140_3_1, threshold = 0.0400, jaccard score = 6.7257e-02, InterArea = 4.4397e-10, UnionArea = 6.6011e-09\n",
      "Averaged Jaccard Score =  [0.02659500774314107]\n"
     ]
    }
   ],
   "source": [
    "## optimize threshold values\n",
    "\n",
    "class_type = 9\n",
    "\n",
    "clfs = joblib.load('clfs_17Bands.pkl')\n",
    "\n",
    "val_image_id = train_wkt[(train_wkt['ClassType']==class_type) \n",
    "          & (train_wkt['MultipolygonWKT']!='MULTIPOLYGON EMPTY')].ImageId.unique().tolist()\n",
    "val_image_id = sorted(val_image_id)\n",
    "\n",
    "# threshold = [0.03, 0.04, 0.05]\n",
    "# Averaged Jaccard Score =  [0.014165086815163708, 0.02659500774314107, 0.01716351234110796]\n",
    "threshold = [0.04]\n",
    "jaccard_list = []\n",
    "for i in threshold:\n",
    "    areaInter = 0\n",
    "    areaUnion = 0\n",
    "    for j in range(len(val_image_id)):\n",
    "        # prepare validaiton data\n",
    "        val_x, val_y, val_p = image_to_train(image_id = val_image_id[j], \n",
    "                                             class_type = class_type, image_type = 'withLabel')\n",
    "\n",
    "        # Plot original validation polygons\n",
    "        # plot_polygons(image_id = val_image_id[j], polygonsList = {class_type:val_p}, figsize=(5,5))\n",
    "\n",
    "        # Plot predicted validation polygons - how well the model generaalizes\n",
    "        pred_val_y, pred_val_wkt, pred_val_p = predict_class(clf = clfs[class_type], image_id = val_image_id[j], \n",
    "                                                             threshold = i, image_type = 'withLabel')\n",
    "        # plot_polygons(image_id = val_image_id[j], polygonsList = {class_type:pred_val_p}, figsize=(5,5))\n",
    "\n",
    "        print('imageId = {:^8}, threshold = {:.4f}, jaccard score = {:.4e}, InterArea = {:.4e}, UnionArea = {:.4e}'\n",
    "              .format(val_image_id[j], i, pred_val_p.intersection(val_p).area / pred_val_p.union(val_p).area, \n",
    "                pred_val_p.intersection(val_p).area, pred_val_p.union(val_p).area))\n",
    "                \n",
    "        areaInter += pred_val_p.intersection(val_p).area \n",
    "        areaUnion += pred_val_p.union(val_p).area\n",
    "        \n",
    "    jaccard_list.append(areaInter/areaUnion)\n",
    "    \n",
    "print('Averaged Jaccard Score = ', jaccard_list)  \n"
   ]
  },
  {
   "cell_type": "code",
   "execution_count": null,
   "metadata": {
    "collapsed": true
   },
   "outputs": [],
   "source": [
    "# prepare validaiton data\n",
    "val_image_id = ['6100_2_3']\n",
    "val_x, val_y, val_p = image_to_train(image_id = val_image_id[0], class_type = class_type, image_type = 'withLabel')\n",
    "\n",
    "# Plot original validation polygons\n",
    "plot_polygons(image_id = val_image_id[0], polygonsList = {class_type:val_p}, figsize=(5,5))\n",
    "\n",
    "# Plot predicted validation polygons - how well the model generaalizes\n",
    "pred_val_y, pred_val_wkt, pred_val_p = predict_class(clf = clfs[class_type], image_id = val_image_id[0], \n",
    "                                                     threshold = 0.04, image_type = 'withLabel')\n",
    "plot_polygons(image_id = val_image_id[0], polygonsList = {class_type:pred_val_p}, figsize=(5,5))\n",
    "\n",
    "print('jaccard score = {:.4f}, InterArea = {:.4e}, UnionArea = {:.4e}'\n",
    "              .format(pred_val_p.intersection(val_p).area / pred_val_p.union(val_p).area, \n",
    "                pred_val_p.intersection(val_p).area, pred_val_p.union(val_p).area))"
   ]
  },
  {
   "cell_type": "markdown",
   "metadata": {
    "collapsed": true
   },
   "source": [
    "## 10_SmallVehicle"
   ]
  },
  {
   "cell_type": "code",
   "execution_count": 50,
   "metadata": {
    "collapsed": false
   },
   "outputs": [
    {
     "name": "stdout",
     "output_type": "stream",
     "text": [
      "12 ['6120_2_2', '6090_2_0', '6100_1_3', '6110_4_0', '6140_3_1', '6110_1_2', '6100_2_3', '6140_1_2', '6110_3_1', '6060_2_3', '6070_2_3', '6100_2_2']\n",
      "Loading data for class type 10\n",
      "Data loaded in 87 seconds. (55103, 17) (55103,)\n",
      "3 ['6120_2_2', '6100_2_3', '6070_2_3']\n",
      "Loading data for class type 10\n",
      "Data loaded in 25 seconds. (33891350, 17) (33891350,)\n",
      "11 ['6120_2_2', '6120_2_0', '6100_1_3', '6110_4_0', '6140_3_1', '6110_1_2', '6100_2_3', '6140_1_2', '6110_3_1', '6070_2_3', '6100_2_2']\n",
      "Loading data for class type 3\n",
      "Data loaded in 79 seconds. (2356689, 17) (2356689,)\n",
      "23 ['6040_2_2', '6120_2_2', '6120_2_0', '6090_2_0', '6040_1_3', '6040_1_0', '6100_1_3', '6010_4_2', '6110_4_0', '6140_3_1', '6110_1_2', '6100_2_3', '6150_2_3', '6160_2_1', '6140_1_2', '6110_3_1', '6170_2_4', '6170_4_1', '6170_0_4', '6060_2_3', '6010_1_2', '6040_4_4', '6100_2_2']\n",
      "Loading data for class type 4\n",
      "Data loaded in 172 seconds. (8596101, 17) (8596101,)\n"
     ]
    }
   ],
   "source": [
    "class_type = 10\n",
    "val_image_id = ['6120_2_0']\n",
    "\n",
    "# data with labels\n",
    "train_x, train_y = load_train_pixels(class_type = class_type, val_ids = val_image_id, image_type = 'withLabel')\n",
    "\n",
    "# data without labels => ‘6070_2_3’ + ‘6100_2_3’ + '6120_2_2'\n",
    "val_image_id = ['6110_1_2', '6120_2_0', '6090_2_0', '6100_1_3', '6110_4_0', '6140_3_1', \n",
    "                '6140_1_2', '6110_3_1', '6060_2_3', '6100_2_2']\n",
    "train_x_wl, train_y_wl = load_train_pixels(class_type = class_type, val_ids = val_image_id, image_type = 'withoutLabel')\n",
    "\n",
    "# 3_Road data without labels\n",
    "val_image_id = []\n",
    "train_x_road, train_y_road = load_train_pixels(class_type = 3, val_ids = val_image_id, image_type = 'withLabel')\n",
    "train_y_road = np.array([0] * len(train_y_road))\n",
    "\n",
    "# 4_Track data without labels\n",
    "val_image_id = []\n",
    "train_x_track, train_y_track = load_train_pixels(class_type = 4, val_ids = val_image_id, image_type = 'withLabel')\n",
    "train_y_track = np.array([0] * len(train_y_track))\n",
    "\n",
    "# stack the data\n",
    "train_x = np.vstack((train_x, train_x_wl, train_x_road, train_x_track))\n",
    "train_y = np.hstack((train_y, train_y_wl, train_y_road, train_y_track))\n",
    "\n",
    "del train_x_wl, train_y_wl, train_x_road, train_x_track, train_y_road, train_y_track\n",
    "\n"
   ]
  },
  {
   "cell_type": "code",
   "execution_count": 51,
   "metadata": {
    "collapsed": false,
    "scrolled": true
   },
   "outputs": [
    {
     "name": "stdout",
     "output_type": "stream",
     "text": [
      "training...\n",
      "training for class type 10 finishied in 955 seconds...\n",
      "Training AUC:  0.866675177613\n"
     ]
    }
   ],
   "source": [
    "pipeline = make_pipeline(StandardScaler(), xgb.XGBClassifier(n_estimators = 100))\n",
    "start = time.time()\n",
    "print('training...')\n",
    "pipeline.fit(train_x, train_y)\n",
    "\n",
    "clfs = joblib.load('clfs_17Bands.pkl')\n",
    "clfs[class_type] = pipeline\n",
    "joblib.dump(clfs, 'clfs_17Bands.pkl')\n",
    "\n",
    "print('training for class type %d finishied in %d seconds...' % (class_type, time.time()-start))\n",
    "        \n",
    "## Show model accuracy: Use AUC because single class is a skwed binary classfication where AUC works better.\n",
    "pred_train_y = clfs[class_type].predict_proba(train_x)[:,1]\n",
    "\n",
    "print (\"Training AUC: \", roc_auc_score(y_true = train_y, y_score = pred_train_y))"
   ]
  },
  {
   "cell_type": "code",
   "execution_count": 6,
   "metadata": {
    "collapsed": false
   },
   "outputs": [
    {
     "name": "stdout",
     "output_type": "stream",
     "text": [
      "imageId = 6060_2_3, threshold = 0.0170, jaccard score = 0.0000e+00, InterArea = 0.0000e+00, UnionArea = 2.6350e-10\n",
      "imageId = 6070_2_3, threshold = 0.0170, jaccard score = 0.0000e+00, InterArea = 0.0000e+00, UnionArea = 4.7600e-09\n",
      "imageId = 6090_2_0, threshold = 0.0170, jaccard score = 0.0000e+00, InterArea = 0.0000e+00, UnionArea = 6.6226e-10\n",
      "imageId = 6100_1_3, threshold = 0.0170, jaccard score = 5.0206e-03, InterArea = 2.6650e-10, UnionArea = 5.3082e-08\n",
      "imageId = 6100_2_2, threshold = 0.0170, jaccard score = 0.0000e+00, InterArea = 0.0000e+00, UnionArea = 2.0035e-08\n",
      "imageId = 6100_2_3, threshold = 0.0170, jaccard score = 4.0949e-02, InterArea = 2.4939e-09, UnionArea = 6.0901e-08\n"
     ]
    },
    {
     "name": "stderr",
     "output_type": "stream",
     "text": [
      "Self-intersection at or near point 1960.6605922551253 938.5603644646925\n"
     ]
    },
    {
     "name": "stdout",
     "output_type": "stream",
     "text": [
      "imageId = 6110_1_2, threshold = 0.0170, jaccard score = 0.0000e+00, InterArea = 0.0000e+00, UnionArea = 2.1216e-07\n"
     ]
    },
    {
     "name": "stderr",
     "output_type": "stream",
     "text": [
      "Self-intersection at or near point 1237.3829787234042 2274.9787234042551\n"
     ]
    },
    {
     "name": "stdout",
     "output_type": "stream",
     "text": [
      "imageId = 6110_3_1, threshold = 0.0170, jaccard score = 0.0000e+00, InterArea = 0.0000e+00, UnionArea = 1.4798e-07\n"
     ]
    },
    {
     "name": "stderr",
     "output_type": "stream",
     "text": [
      "Self-intersection at or near point 2864.8188679245281 476.37358490566038\n"
     ]
    },
    {
     "name": "stdout",
     "output_type": "stream",
     "text": [
      "imageId = 6110_4_0, threshold = 0.0170, jaccard score = 0.0000e+00, InterArea = 0.0000e+00, UnionArea = 4.9254e-08\n",
      "imageId = 6120_2_0, threshold = 0.0170, jaccard score = 0.0000e+00, InterArea = 0.0000e+00, UnionArea = 3.3690e-09\n",
      "imageId = 6120_2_2, threshold = 0.0170, jaccard score = 0.0000e+00, InterArea = 0.0000e+00, UnionArea = 1.2969e-07\n",
      "imageId = 6140_1_2, threshold = 0.0170, jaccard score = 0.0000e+00, InterArea = 0.0000e+00, UnionArea = 7.1045e-09\n",
      "imageId = 6140_3_1, threshold = 0.0170, jaccard score = 0.0000e+00, InterArea = 0.0000e+00, UnionArea = 3.2221e-08\n",
      "Averaged Jaccard Score =  [0.0038259648919112318]\n"
     ]
    }
   ],
   "source": [
    "## optimize threshold values\n",
    "class_type = 10\n",
    "\n",
    "clfs = joblib.load('clfs_17Bands.pkl')\n",
    "\n",
    "val_image_id = train_wkt[(train_wkt['ClassType']==class_type) \n",
    "          & (train_wkt['MultipolygonWKT']!='MULTIPOLYGON EMPTY')].ImageId.unique().tolist()\n",
    "val_image_id = sorted(val_image_id)\n",
    "\n",
    "# Averaged Jaccard Score =  [ 0.003492237335016998, 0.003821405967521134, 0.003745675344254813]\n",
    "# threshold =[0.016, 0.017, 0.018]\n",
    "\n",
    "threshold = [0.017]\n",
    "jaccard_list = []\n",
    "for i in threshold:\n",
    "    areaInter = 0\n",
    "    areaUnion = 0\n",
    "    for j in range(len(val_image_id)):\n",
    "        # prepare validaiton data\n",
    "        val_x, val_y, val_p = image_to_train(image_id = val_image_id[j], \n",
    "                                             class_type = class_type, image_type = 'withLabel')\n",
    "\n",
    "        # Plot original validation polygons\n",
    "        # plot_polygons(image_id = val_image_id[j], polygonsList = {class_type:val_p}, figsize=(5,5))\n",
    "\n",
    "        # Plot predicted validation polygons - how well the model generaalizes\n",
    "        pred_val_y, pred_val_wkt, pred_val_p = predict_class(clf = clfs[class_type], image_id = val_image_id[j], \n",
    "                                                             threshold = i, image_type = 'withLabel')\n",
    "        # plot_polygons(image_id = val_image_id[j], polygonsList = {class_type:pred_val_p}, figsize=(5,5))\n",
    "        \n",
    "        print('imageId = {:^8}, threshold = {:.4f}, jaccard score = {:.4e}, InterArea = {:.4e}, UnionArea = {:.4e}'\n",
    "              .format(val_image_id[j], i, pred_val_p.intersection(val_p).area / pred_val_p.union(val_p).area, \n",
    "                pred_val_p.intersection(val_p).area, pred_val_p.union(val_p).area))\n",
    "                \n",
    "        areaInter += pred_val_p.intersection(val_p).area \n",
    "        areaUnion += pred_val_p.union(val_p).area\n",
    "        \n",
    "    jaccard_list.append(areaInter/areaUnion)\n",
    "    \n",
    "print('Averaged Jaccard Score = ', jaccard_list)  \n"
   ]
  },
  {
   "cell_type": "code",
   "execution_count": null,
   "metadata": {
    "collapsed": true
   },
   "outputs": [],
   "source": [
    "# Plot original validation polygons\n",
    "plot_polygons(image_id = val_image_id[0], polygonsList = {class_type:val_p}, figsize=(5,5))\n",
    "\n",
    "# Plot predicted validation polygons - how well the model generaalizes\n",
    "pred_val_y, pred_val_wkt, pred_val_p = predict_class(clf = clfs[class_type], image_id = val_image_id[0], \n",
    "                                                     threshold = 0.017, image_type = 'withLabel')\n",
    "plot_polygons(image_id = val_image_id[0], polygonsList = {class_type:pred_val_p}, figsize=(5,5))\n",
    "\n",
    "print('jaccard score = ', pred_val_p.intersection(val_p).area / pred_val_p.union(val_p).area)"
   ]
  },
  {
   "cell_type": "markdown",
   "metadata": {},
   "source": [
    "# Predict"
   ]
  },
  {
   "cell_type": "code",
   "execution_count": null,
   "metadata": {
    "collapsed": true
   },
   "outputs": [],
   "source": [
    "# load the model\n",
    "clfs = joblib.load('clfs_17Bands.pkl')\n",
    "\n",
    "# prepare test image ids\n",
    "submission_list = sample_submission.ImageId.unique()\n",
    "train_list = train_wkt.ImageId.unique()\n",
    "\n",
    "test_image_ids = []\n",
    "for i in submission_list:\n",
    "    if i not in train_list:\n",
    "        test_image_ids.append(i)\n",
    "test_image_ids = sorted(test_image_ids)\n",
    "\n",
    "# threshold_list = [0.27, 0.032, 0.0162, 0.044, 0.15, 0.3, 0.304, 0.2, 0.0001, 0.001]\n",
    "threshold_list = [0.4, 0.07, 0.31, 0.1, 0.6, 0.4, 0.34, 0.3, 0.04, 0.017]\n",
    "\n",
    "# predict the test images\n",
    "sub = []\n",
    "preds = dict()\n",
    "for image_id in test_image_ids:\n",
    "    for clf in clfs:\n",
    "        print (image_id,'=>', clf)\n",
    "        pred_y, pred_wkt, pred_p = predict_class(image_id, clfs[clf], image_type = '17',\n",
    "                                                 threshold = threshold_list[clf-1])\n",
    "        preds[clf] = (pred_y, pred_wkt, pred_p)\n",
    "        sub.append([image_id, clf,pred_wkt])\n",
    "\n",
    "joblib.dump(sub, 'sub_17Bands_Pixel.pkl')"
   ]
  },
  {
   "cell_type": "markdown",
   "metadata": {},
   "source": [
    "# Submission"
   ]
  },
  {
   "cell_type": "code",
   "execution_count": 7,
   "metadata": {
    "collapsed": false
   },
   "outputs": [],
   "source": [
    "sub = joblib.load('sub_17Bands_Pixel.pkl')\n",
    "sample_submission_new = pd.read_csv('./sample_submission_new.csv')\n",
    "\n",
    "pd_sub = pd.DataFrame(sub, columns = ['ImageId','ClassType','MultipolygonWKT'])\n",
    "\n",
    "## This step is to ensure output will have the same sequence as sample submission\n",
    "pd_output = pd.merge(sample_submission_new, pd_sub, how = 'left', on = ['ImageId','ClassType'])\n",
    "pd_output = pd_output.fillna(-999)\n",
    "\n",
    "## In the case empty multipolygons were predicted, use default polygons from sample submission\n",
    "pd_output ['MultipolygonWKT'] = pd_output[['MultipolygonWKT_x','MultipolygonWKT_y']].apply(\n",
    "    lambda x:x[0] if x[1] == -999 else x[1],axis=1)\n",
    "\n",
    "# fix submission issues\n",
    "#pd_output['MultipolygonWKT'] = pd_output['MultipolygonWKT'].\\\n",
    "#apply(lambda x:x.simplify(1e-8, preserve_topology=False)).\\\n",
    "#apply(lambda x:x if x.is_valid else x.buffer(0)).\\\n",
    "#apply(lambda x:shapely.wkt.dumps(x,rounding_precision=8))   \n",
    "\n",
    "pd_output[['ImageId','ClassType','MultipolygonWKT']].to_csv(\"./output.csv\", index = False)"
   ]
  }
 ],
 "metadata": {
  "anaconda-cloud": {},
  "kernelspec": {
   "display_name": "Python [conda root]",
   "language": "python",
   "name": "conda-root-py"
  },
  "language_info": {
   "codemirror_mode": {
    "name": "ipython",
    "version": 3
   },
   "file_extension": ".py",
   "mimetype": "text/x-python",
   "name": "python",
   "nbconvert_exporter": "python",
   "pygments_lexer": "ipython3",
   "version": "3.5.3"
  }
 },
 "nbformat": 4,
 "nbformat_minor": 0
}
